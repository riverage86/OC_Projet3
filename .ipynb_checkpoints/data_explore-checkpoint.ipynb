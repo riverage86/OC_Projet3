{
 "cells": [
  {
   "cell_type": "code",
   "execution_count": 65,
   "id": "aaa3b51c",
   "metadata": {},
   "outputs": [],
   "source": [
    "import pandas as pd\n",
    "import numpy as np\n",
    "import warnings \n",
    "import matplotlib.pyplot as plt\n",
    "from sklearn.linear_model import LinearRegression\n",
    "import seaborn as sns"
   ]
  },
  {
   "cell_type": "code",
   "execution_count": 66,
   "id": "224d93b5",
   "metadata": {},
   "outputs": [],
   "source": [
    "warnings.filterwarnings('ignore')"
   ]
  },
  {
   "cell_type": "code",
   "execution_count": 67,
   "id": "bed1bf6d",
   "metadata": {},
   "outputs": [],
   "source": [
    "data = pd.read_csv('2016_Building.csv',  engine = 'python',  on_bad_lines = 'skip')"
   ]
  },
  {
   "cell_type": "code",
   "execution_count": 68,
   "id": "2d9cbdaa",
   "metadata": {},
   "outputs": [
    {
     "data": {
      "text/html": [
       "<div>\n",
       "<style scoped>\n",
       "    .dataframe tbody tr th:only-of-type {\n",
       "        vertical-align: middle;\n",
       "    }\n",
       "\n",
       "    .dataframe tbody tr th {\n",
       "        vertical-align: top;\n",
       "    }\n",
       "\n",
       "    .dataframe thead th {\n",
       "        text-align: right;\n",
       "    }\n",
       "</style>\n",
       "<table border=\"1\" class=\"dataframe\">\n",
       "  <thead>\n",
       "    <tr style=\"text-align: right;\">\n",
       "      <th></th>\n",
       "      <th>OSEBuildingID</th>\n",
       "      <th>DataYear</th>\n",
       "      <th>BuildingType</th>\n",
       "      <th>PrimaryPropertyType</th>\n",
       "      <th>PropertyName</th>\n",
       "      <th>Address</th>\n",
       "      <th>City</th>\n",
       "      <th>State</th>\n",
       "      <th>ZipCode</th>\n",
       "      <th>TaxParcelIdentificationNumber</th>\n",
       "      <th>...</th>\n",
       "      <th>Electricity(kWh)</th>\n",
       "      <th>Electricity(kBtu)</th>\n",
       "      <th>NaturalGas(therms)</th>\n",
       "      <th>NaturalGas(kBtu)</th>\n",
       "      <th>DefaultData</th>\n",
       "      <th>Comments</th>\n",
       "      <th>ComplianceStatus</th>\n",
       "      <th>Outlier</th>\n",
       "      <th>TotalGHGEmissions</th>\n",
       "      <th>GHGEmissionsIntensity</th>\n",
       "    </tr>\n",
       "  </thead>\n",
       "  <tbody>\n",
       "    <tr>\n",
       "      <th>0</th>\n",
       "      <td>1</td>\n",
       "      <td>2016</td>\n",
       "      <td>NonResidential</td>\n",
       "      <td>Hotel</td>\n",
       "      <td>Mayflower park hotel</td>\n",
       "      <td>405 Olive way</td>\n",
       "      <td>Seattle</td>\n",
       "      <td>WA</td>\n",
       "      <td>98101.0</td>\n",
       "      <td>0659000030</td>\n",
       "      <td>...</td>\n",
       "      <td>1.156514e+06</td>\n",
       "      <td>3946027.0</td>\n",
       "      <td>12764.52930</td>\n",
       "      <td>1276453.0</td>\n",
       "      <td>False</td>\n",
       "      <td>NaN</td>\n",
       "      <td>Compliant</td>\n",
       "      <td>NaN</td>\n",
       "      <td>249.98</td>\n",
       "      <td>2.83</td>\n",
       "    </tr>\n",
       "    <tr>\n",
       "      <th>1</th>\n",
       "      <td>2</td>\n",
       "      <td>2016</td>\n",
       "      <td>NonResidential</td>\n",
       "      <td>Hotel</td>\n",
       "      <td>Paramount Hotel</td>\n",
       "      <td>724 Pine street</td>\n",
       "      <td>Seattle</td>\n",
       "      <td>WA</td>\n",
       "      <td>98101.0</td>\n",
       "      <td>0659000220</td>\n",
       "      <td>...</td>\n",
       "      <td>9.504252e+05</td>\n",
       "      <td>3242851.0</td>\n",
       "      <td>51450.81641</td>\n",
       "      <td>5145082.0</td>\n",
       "      <td>False</td>\n",
       "      <td>NaN</td>\n",
       "      <td>Compliant</td>\n",
       "      <td>NaN</td>\n",
       "      <td>295.86</td>\n",
       "      <td>2.86</td>\n",
       "    </tr>\n",
       "    <tr>\n",
       "      <th>2</th>\n",
       "      <td>3</td>\n",
       "      <td>2016</td>\n",
       "      <td>NonResidential</td>\n",
       "      <td>Hotel</td>\n",
       "      <td>5673-The Westin Seattle</td>\n",
       "      <td>1900 5th Avenue</td>\n",
       "      <td>Seattle</td>\n",
       "      <td>WA</td>\n",
       "      <td>98101.0</td>\n",
       "      <td>0659000475</td>\n",
       "      <td>...</td>\n",
       "      <td>1.451544e+07</td>\n",
       "      <td>49526664.0</td>\n",
       "      <td>14938.00000</td>\n",
       "      <td>1493800.0</td>\n",
       "      <td>False</td>\n",
       "      <td>NaN</td>\n",
       "      <td>Compliant</td>\n",
       "      <td>NaN</td>\n",
       "      <td>2089.28</td>\n",
       "      <td>2.19</td>\n",
       "    </tr>\n",
       "    <tr>\n",
       "      <th>3</th>\n",
       "      <td>5</td>\n",
       "      <td>2016</td>\n",
       "      <td>NonResidential</td>\n",
       "      <td>Hotel</td>\n",
       "      <td>HOTEL MAX</td>\n",
       "      <td>620 STEWART ST</td>\n",
       "      <td>Seattle</td>\n",
       "      <td>WA</td>\n",
       "      <td>98101.0</td>\n",
       "      <td>0659000640</td>\n",
       "      <td>...</td>\n",
       "      <td>8.115253e+05</td>\n",
       "      <td>2768924.0</td>\n",
       "      <td>18112.13086</td>\n",
       "      <td>1811213.0</td>\n",
       "      <td>False</td>\n",
       "      <td>NaN</td>\n",
       "      <td>Compliant</td>\n",
       "      <td>NaN</td>\n",
       "      <td>286.43</td>\n",
       "      <td>4.67</td>\n",
       "    </tr>\n",
       "    <tr>\n",
       "      <th>4</th>\n",
       "      <td>8</td>\n",
       "      <td>2016</td>\n",
       "      <td>NonResidential</td>\n",
       "      <td>Hotel</td>\n",
       "      <td>WARWICK SEATTLE HOTEL (ID8)</td>\n",
       "      <td>401 LENORA ST</td>\n",
       "      <td>Seattle</td>\n",
       "      <td>WA</td>\n",
       "      <td>98121.0</td>\n",
       "      <td>0659000970</td>\n",
       "      <td>...</td>\n",
       "      <td>1.573449e+06</td>\n",
       "      <td>5368607.0</td>\n",
       "      <td>88039.98438</td>\n",
       "      <td>8803998.0</td>\n",
       "      <td>False</td>\n",
       "      <td>NaN</td>\n",
       "      <td>Compliant</td>\n",
       "      <td>NaN</td>\n",
       "      <td>505.01</td>\n",
       "      <td>2.88</td>\n",
       "    </tr>\n",
       "  </tbody>\n",
       "</table>\n",
       "<p>5 rows × 46 columns</p>\n",
       "</div>"
      ],
      "text/plain": [
       "   OSEBuildingID  DataYear    BuildingType PrimaryPropertyType  \\\n",
       "0              1      2016  NonResidential               Hotel   \n",
       "1              2      2016  NonResidential               Hotel   \n",
       "2              3      2016  NonResidential               Hotel   \n",
       "3              5      2016  NonResidential               Hotel   \n",
       "4              8      2016  NonResidential               Hotel   \n",
       "\n",
       "                  PropertyName          Address     City State  ZipCode  \\\n",
       "0         Mayflower park hotel    405 Olive way  Seattle    WA  98101.0   \n",
       "1              Paramount Hotel  724 Pine street  Seattle    WA  98101.0   \n",
       "2      5673-The Westin Seattle  1900 5th Avenue  Seattle    WA  98101.0   \n",
       "3                    HOTEL MAX   620 STEWART ST  Seattle    WA  98101.0   \n",
       "4  WARWICK SEATTLE HOTEL (ID8)    401 LENORA ST  Seattle    WA  98121.0   \n",
       "\n",
       "  TaxParcelIdentificationNumber  ...  Electricity(kWh) Electricity(kBtu)  \\\n",
       "0                    0659000030  ...      1.156514e+06         3946027.0   \n",
       "1                    0659000220  ...      9.504252e+05         3242851.0   \n",
       "2                    0659000475  ...      1.451544e+07        49526664.0   \n",
       "3                    0659000640  ...      8.115253e+05         2768924.0   \n",
       "4                    0659000970  ...      1.573449e+06         5368607.0   \n",
       "\n",
       "   NaturalGas(therms)  NaturalGas(kBtu)  DefaultData  Comments  \\\n",
       "0         12764.52930         1276453.0        False       NaN   \n",
       "1         51450.81641         5145082.0        False       NaN   \n",
       "2         14938.00000         1493800.0        False       NaN   \n",
       "3         18112.13086         1811213.0        False       NaN   \n",
       "4         88039.98438         8803998.0        False       NaN   \n",
       "\n",
       "   ComplianceStatus  Outlier  TotalGHGEmissions  GHGEmissionsIntensity  \n",
       "0         Compliant      NaN             249.98                   2.83  \n",
       "1         Compliant      NaN             295.86                   2.86  \n",
       "2         Compliant      NaN            2089.28                   2.19  \n",
       "3         Compliant      NaN             286.43                   4.67  \n",
       "4         Compliant      NaN             505.01                   2.88  \n",
       "\n",
       "[5 rows x 46 columns]"
      ]
     },
     "execution_count": 68,
     "metadata": {},
     "output_type": "execute_result"
    }
   ],
   "source": [
    "data.head()"
   ]
  },
  {
   "cell_type": "code",
   "execution_count": 69,
   "id": "dc4ab4dd",
   "metadata": {},
   "outputs": [
    {
     "data": {
      "text/plain": [
       "(3376, 46)"
      ]
     },
     "execution_count": 69,
     "metadata": {},
     "output_type": "execute_result"
    }
   ],
   "source": [
    "data.shape"
   ]
  },
  {
   "cell_type": "markdown",
   "id": "e7fba379",
   "metadata": {},
   "source": [
    "# 1. Nettoyage des données\n",
    "\n",
    "## 1.1  éliminer les propriétes avec les conditions :\n",
    "- Building résidentiel (Multifamily)\n",
    "- Building with default data (The property used default data for at least one property characteristic.)\n",
    "- Outliers buildings  (Whether a property is a high or low outlier (Y/N))\n",
    "- Compliances (Whether a property has met energy benchmarking requirements for the current reporting year.)"
   ]
  },
  {
   "cell_type": "code",
   "execution_count": 70,
   "id": "f341477b",
   "metadata": {},
   "outputs": [
    {
     "data": {
      "text/plain": [
       "0.04887440758293839"
      ]
     },
     "execution_count": 70,
     "metadata": {},
     "output_type": "execute_result"
    }
   ],
   "source": [
    "data.BuildingType.str.contains('Multifamily').sum()/len(data)\n",
    "data['DefaultData'].apply(lambda x: x).sum()/len(data)\n",
    "data['Outlier'].notnull().sum()/len(data)\n",
    "data['ComplianceStatus'].apply(lambda x: (x != 'Compliant')).sum()/len(data)"
   ]
  },
  {
   "cell_type": "code",
   "execution_count": 71,
   "id": "8f28c5cf",
   "metadata": {},
   "outputs": [
    {
     "data": {
      "text/plain": [
       "2018"
      ]
     },
     "execution_count": 71,
     "metadata": {},
     "output_type": "execute_result"
    }
   ],
   "source": [
    "data.BuildingType.str.contains('Multifamily').sum() + data['DefaultData'].apply(lambda x: x).sum() + data['Outlier'].notnull().sum() + data['ComplianceStatus'].apply(lambda x: (x != 'Compliant')).sum()"
   ]
  },
  {
   "cell_type": "code",
   "execution_count": 72,
   "id": "c3c10d2b",
   "metadata": {},
   "outputs": [
    {
     "data": {
      "image/png": "[encoded data removed]",
      "text/plain": [
       "<Figure size 640x480 with 1 Axes>"
      ]
     },
     "metadata": {},
     "output_type": "display_data"
    }
   ],
   "source": [
    "# Calculate the percentages\n",
    "multifamily_pct = 100*data.BuildingType.str.contains('Multifamily').sum() / len(data)\n",
    "default_data_pct = 100*data['DefaultData'].apply(lambda x: x).sum() / len(data)\n",
    "outlier_pct = 100*data['Outlier'].notnull().sum() / len(data)\n",
    "compliance_pct = 100*data['ComplianceStatus'].apply(lambda x: (x != 'Compliant')).sum() / len(data)\n",
    "\n",
    "# Create the bar plot\n",
    "values = [multifamily_pct, default_data_pct, outlier_pct, compliance_pct]\n",
    "labels = ['Multifamily', 'Default Data', 'Outlier', 'Non-Compliant']\n",
    "plt.bar(labels, values)\n",
    "\n",
    "# Add labels and title\n",
    "plt.xlabel('admin features')\n",
    "plt.ylabel('% sites')\n",
    "plt.title('% sites à enlever par filtre admin')\n",
    "\n",
    "plt.show()"
   ]
  },
  {
   "cell_type": "code",
   "execution_count": 73,
   "id": "0935ff89",
   "metadata": {},
   "outputs": [],
   "source": [
    "data_1 = data.drop(data[data['BuildingType'].str.contains('Multifamily')].index)\n",
    "data_1 = data_1.drop(data_1[data_1['DefaultData']].index)\n",
    "data_1 = data_1.drop(data_1[~data_1['ComplianceStatus'].str.contains('Compliant')].index)\n",
    "data_1 = data_1.drop(data_1[data_1['Outlier'].notnull()].index)"
   ]
  },
  {
   "cell_type": "code",
   "execution_count": 74,
   "id": "af202c7c",
   "metadata": {},
   "outputs": [
    {
     "data": {
      "text/plain": [
       "(1551, 46)"
      ]
     },
     "execution_count": 74,
     "metadata": {},
     "output_type": "execute_result"
    }
   ],
   "source": [
    "data_1.shape"
   ]
  },
  {
   "cell_type": "markdown",
   "id": "9bd64549",
   "metadata": {},
   "source": [
    "# 1.2. Doublons"
   ]
  },
  {
   "cell_type": "code",
   "execution_count": 102,
   "id": "f27d8482",
   "metadata": {},
   "outputs": [
    {
     "data": {
      "text/plain": [
       "0"
      ]
     },
     "execution_count": 102,
     "metadata": {},
     "output_type": "execute_result"
    }
   ],
   "source": [
    "data_1.duplicated().sum()"
   ]
  },
  {
   "cell_type": "code",
   "execution_count": 75,
   "id": "49a61700",
   "metadata": {},
   "outputs": [],
   "source": [
    "data_1.to_csv('data_1.csv')"
   ]
  },
  {
   "cell_type": "markdown",
   "id": "ecaf27f3",
   "metadata": {},
   "source": [
    "# 2  Feature engineering "
   ]
  },
  {
   "attachments": {},
   "cell_type": "markdown",
   "id": "a8661054",
   "metadata": {},
   "source": [
    "## 2.1.  Définition des variable cibles et  éliminer les features  qui ne sont pas utilisées :\n",
    "On choisit SiteEUI(kBtu/sf) et GHGEmissionsIntensity comme variables cibles "
   ]
  },
  {
   "cell_type": "code",
   "execution_count": 92,
   "id": "dbd77ea8",
   "metadata": {},
   "outputs": [
    {
     "data": {
      "text/plain": [
       "Index(['OSEBuildingID', 'DataYear', 'BuildingType', 'PrimaryPropertyType',\n",
       "       'PropertyName', 'Address', 'City', 'State', 'ZipCode',\n",
       "       'TaxParcelIdentificationNumber', 'CouncilDistrictCode', 'Neighborhood',\n",
       "       'Latitude', 'Longitude', 'YearBuilt', 'NumberofBuildings',\n",
       "       'NumberofFloors', 'PropertyGFATotal', 'PropertyGFAParking',\n",
       "       'PropertyGFABuilding(s)', 'ListOfAllPropertyUseTypes',\n",
       "       'LargestPropertyUseType', 'LargestPropertyUseTypeGFA',\n",
       "       'SecondLargestPropertyUseType', 'SecondLargestPropertyUseTypeGFA',\n",
       "       'ThirdLargestPropertyUseType', 'ThirdLargestPropertyUseTypeGFA',\n",
       "       'YearsENERGYSTARCertified', 'ENERGYSTARScore', 'SiteEUI(kBtu/sf)',\n",
       "       'SiteEUIWN(kBtu/sf)', 'SourceEUI(kBtu/sf)', 'SourceEUIWN(kBtu/sf)',\n",
       "       'SiteEnergyUse(kBtu)', 'SiteEnergyUseWN(kBtu)', 'SteamUse(kBtu)',\n",
       "       'Electricity(kWh)', 'Electricity(kBtu)', 'NaturalGas(therms)',\n",
       "       'NaturalGas(kBtu)', 'DefaultData', 'Comments', 'ComplianceStatus',\n",
       "       'Outlier', 'TotalGHGEmissions', 'GHGEmissionsIntensity'],\n",
       "      dtype='object')"
      ]
     },
     "execution_count": 92,
     "metadata": {},
     "output_type": "execute_result"
    }
   ],
   "source": [
    "data_1.columns"
   ]
  },
  {
   "cell_type": "code",
   "execution_count": 76,
   "id": "84f758e1",
   "metadata": {},
   "outputs": [],
   "source": [
    "Nouse_features = ['DataYear', 'PropertyName', 'BuildingType', 'City', 'State', 'ZipCode', 'Outlier', 'ComplianceStatus','DefaultData', 'YearsENERGYSTARCertified', 'TaxParcelIdentificationNumber', 'Address', 'Comments',\\\n",
    "                 'LargestPropertyUseType', 'LargestPropertyUseTypeGFA', 'SecondLargestPropertyUseType', 'SecondLargestPropertyUseTypeGFA', 'ThirdLargestPropertyUseType', 'ThirdLargestPropertyUseTypeGFA', 'NumberofBuildings', \\\n",
    "                 'OSEBuildingID', 'ListOfAllPropertyUseTypes']"
   ]
  },
  {
   "cell_type": "code",
   "execution_count": 77,
   "id": "e3fa1ce2",
   "metadata": {},
   "outputs": [],
   "source": [
    "data_2 = data_1.drop(columns = Nouse_features)"
   ]
  },
  {
   "cell_type": "code",
   "execution_count": 78,
   "id": "8d9f0336",
   "metadata": {},
   "outputs": [],
   "source": [
    "# Supprimer les colonnes non numériques ou non pertinentes\n",
    "data_2 = data_2.drop(['Latitude', 'Longitude', 'PropertyGFATotal', 'PropertyGFAParking', 'PropertyGFABuilding(s)', 'NaturalGas(therms)',\\\n",
    "              'Electricity(kWh)','SiteEnergyUse(kBtu)','SiteEnergyUseWN(kBtu)','TotalGHGEmissions','SiteEUIWN(kBtu/sf)', 'SourceEUIWN(kBtu/sf)'], axis=1)\n"
   ]
  },
  {
   "cell_type": "code",
   "execution_count": 79,
   "id": "4cda0d30",
   "metadata": {},
   "outputs": [
    {
     "data": {
      "text/plain": [
       "(1551, 12)"
      ]
     },
     "execution_count": 79,
     "metadata": {},
     "output_type": "execute_result"
    }
   ],
   "source": [
    "data_2.shape"
   ]
  },
  {
   "cell_type": "markdown",
   "id": "3a176b15",
   "metadata": {},
   "source": [
    "## 2.2  traiement des valeurs manquantes, invalides, doublons, outliers "
   ]
  },
  {
   "cell_type": "raw",
   "id": "17b7e9c7",
   "metadata": {},
   "source": []
  },
  {
   "cell_type": "code",
   "execution_count": null,
   "id": "40014ddc",
   "metadata": {},
   "outputs": [],
   "source": []
  },
  {
   "cell_type": "code",
   "execution_count": 57,
   "id": "dd19849e",
   "metadata": {},
   "outputs": [
    {
     "data": {
      "image/png": "[encoded data removed]",
      "text/plain": [
       "<Figure size 640x480 with 1 Axes>"
      ]
     },
     "metadata": {},
     "output_type": "display_data"
    }
   ],
   "source": [
    "data_3['NaturalGas(kBtu)'].plot.box()\n",
    "plt.show()"
   ]
  },
  {
   "cell_type": "markdown",
   "id": "7d660a4a",
   "metadata": {},
   "source": [
    "### 2.2.1 valeurs manquantes"
   ]
  },
  {
   "cell_type": "code",
   "execution_count": 104,
   "id": "a1d697db",
   "metadata": {},
   "outputs": [],
   "source": [
    "data_3 = data_2.copy()"
   ]
  },
  {
   "cell_type": "code",
   "execution_count": 105,
   "id": "88c5104f",
   "metadata": {},
   "outputs": [
    {
     "name": "stdout",
     "output_type": "stream",
     "text": [
      "PrimaryPropertyType        0\n",
      "CouncilDistrictCode        0\n",
      "Neighborhood               0\n",
      "YearBuilt                  0\n",
      "NumberofFloors             0\n",
      "ENERGYSTARScore          554\n",
      "SiteEUI(kBtu/sf)           3\n",
      "SourceEUI(kBtu/sf)         2\n",
      "SteamUse(kBtu)             2\n",
      "Electricity(kBtu)          2\n",
      "NaturalGas(kBtu)           2\n",
      "GHGEmissionsIntensity      2\n",
      "dtype: int64\n"
     ]
    }
   ],
   "source": [
    "print(data_3.isnull().sum())"
   ]
  },
  {
   "cell_type": "code",
   "execution_count": 84,
   "id": "db5c50cd",
   "metadata": {},
   "outputs": [],
   "source": [
    "# Calculer la moyenne de ENERGYSTARScore par groupe de PrimaryPropertyType\n",
    "moyenne_par_proprietyType = data_3.groupby('PrimaryPropertyType')['ENERGYSTARScore'].mean()\n",
    "\n",
    "# Calculer la moyenne de toutes les valeurs non manquantes de ENERGYSTARScore\n",
    "overall_mean = data_3['ENERGYSTARScore'].mean()\n",
    "\n",
    "# Remplacer les valeurs manquantes de ENERGYSTARScore par la moyenne de groupe de PrimaryPropertyType\n",
    "data_3['ENERGYSTARScore'] = data_3.apply(lambda row: moyenne_par_proprietyType[row['PrimaryPropertyType']] \\\n",
    "    if np.isnan(row['ENERGYSTARScore']) else row['ENERGYSTARScore'],  axis=1)"
   ]
  },
  {
   "cell_type": "code",
   "execution_count": 85,
   "id": "1f01db2e",
   "metadata": {},
   "outputs": [
    {
     "name": "stdout",
     "output_type": "stream",
     "text": [
      "PrimaryPropertyType       0\n",
      "CouncilDistrictCode       0\n",
      "Neighborhood              0\n",
      "YearBuilt                 0\n",
      "NumberofFloors            0\n",
      "ENERGYSTARScore          74\n",
      "SiteEUI(kBtu/sf)          3\n",
      "SourceEUI(kBtu/sf)        2\n",
      "SteamUse(kBtu)            2\n",
      "Electricity(kBtu)         2\n",
      "NaturalGas(kBtu)          2\n",
      "GHGEmissionsIntensity     2\n",
      "dtype: int64\n"
     ]
    }
   ],
   "source": [
    "print(data_3.isnull().sum())"
   ]
  },
  {
   "cell_type": "code",
   "execution_count": 86,
   "id": "7e50b003",
   "metadata": {},
   "outputs": [],
   "source": [
    "# Remplacer le reste des valeurs manquantes de ENERGYSTARScore par la moyenne global de ENERGYSTARScore\n",
    "data_3['ENERGYSTARScore'] = data_3.apply(lambda row: overall_mean\\\n",
    "    if np.isnan(row['ENERGYSTARScore']) else row['ENERGYSTARScore'],  axis=1)"
   ]
  },
  {
   "cell_type": "code",
   "execution_count": 87,
   "id": "fc735da2",
   "metadata": {},
   "outputs": [
    {
     "data": {
      "text/html": [
       "<div>\n",
       "<style scoped>\n",
       "    .dataframe tbody tr th:only-of-type {\n",
       "        vertical-align: middle;\n",
       "    }\n",
       "\n",
       "    .dataframe tbody tr th {\n",
       "        vertical-align: top;\n",
       "    }\n",
       "\n",
       "    .dataframe thead th {\n",
       "        text-align: right;\n",
       "    }\n",
       "</style>\n",
       "<table border=\"1\" class=\"dataframe\">\n",
       "  <thead>\n",
       "    <tr style=\"text-align: right;\">\n",
       "      <th></th>\n",
       "      <th>PrimaryPropertyType</th>\n",
       "      <th>CouncilDistrictCode</th>\n",
       "      <th>Neighborhood</th>\n",
       "      <th>YearBuilt</th>\n",
       "      <th>NumberofFloors</th>\n",
       "      <th>ENERGYSTARScore</th>\n",
       "      <th>SiteEUI(kBtu/sf)</th>\n",
       "      <th>SourceEUI(kBtu/sf)</th>\n",
       "      <th>SteamUse(kBtu)</th>\n",
       "      <th>Electricity(kBtu)</th>\n",
       "      <th>NaturalGas(kBtu)</th>\n",
       "      <th>GHGEmissionsIntensity</th>\n",
       "    </tr>\n",
       "  </thead>\n",
       "  <tbody>\n",
       "    <tr>\n",
       "      <th>304</th>\n",
       "      <td>Other</td>\n",
       "      <td>7</td>\n",
       "      <td>DOWNTOWN</td>\n",
       "      <td>1990</td>\n",
       "      <td>6</td>\n",
       "      <td>62.363636</td>\n",
       "      <td>NaN</td>\n",
       "      <td>0.0</td>\n",
       "      <td>0.0</td>\n",
       "      <td>0.0</td>\n",
       "      <td>0.0</td>\n",
       "      <td>0.0</td>\n",
       "    </tr>\n",
       "    <tr>\n",
       "      <th>578</th>\n",
       "      <td>Small- and Mid-Sized Office</td>\n",
       "      <td>7</td>\n",
       "      <td>DOWNTOWN</td>\n",
       "      <td>1924</td>\n",
       "      <td>4</td>\n",
       "      <td>67.217949</td>\n",
       "      <td>NaN</td>\n",
       "      <td>NaN</td>\n",
       "      <td>NaN</td>\n",
       "      <td>NaN</td>\n",
       "      <td>NaN</td>\n",
       "      <td>NaN</td>\n",
       "    </tr>\n",
       "    <tr>\n",
       "      <th>2670</th>\n",
       "      <td>Mixed Use Property</td>\n",
       "      <td>4</td>\n",
       "      <td>NORTHEAST</td>\n",
       "      <td>1928</td>\n",
       "      <td>2</td>\n",
       "      <td>61.961538</td>\n",
       "      <td>NaN</td>\n",
       "      <td>NaN</td>\n",
       "      <td>NaN</td>\n",
       "      <td>NaN</td>\n",
       "      <td>NaN</td>\n",
       "      <td>NaN</td>\n",
       "    </tr>\n",
       "  </tbody>\n",
       "</table>\n",
       "</div>"
      ],
      "text/plain": [
       "              PrimaryPropertyType  CouncilDistrictCode Neighborhood  \\\n",
       "304                         Other                    7     DOWNTOWN   \n",
       "578   Small- and Mid-Sized Office                    7     DOWNTOWN   \n",
       "2670           Mixed Use Property                    4    NORTHEAST   \n",
       "\n",
       "      YearBuilt  NumberofFloors  ENERGYSTARScore  SiteEUI(kBtu/sf)  \\\n",
       "304        1990               6        62.363636               NaN   \n",
       "578        1924               4        67.217949               NaN   \n",
       "2670       1928               2        61.961538               NaN   \n",
       "\n",
       "      SourceEUI(kBtu/sf)  SteamUse(kBtu)  Electricity(kBtu)  NaturalGas(kBtu)  \\\n",
       "304                  0.0             0.0                0.0               0.0   \n",
       "578                  NaN             NaN                NaN               NaN   \n",
       "2670                 NaN             NaN                NaN               NaN   \n",
       "\n",
       "      GHGEmissionsIntensity  \n",
       "304                     0.0  \n",
       "578                     NaN  \n",
       "2670                    NaN  "
      ]
     },
     "execution_count": 87,
     "metadata": {},
     "output_type": "execute_result"
    }
   ],
   "source": [
    "data_3[data_3.isnull().any(axis=1)]"
   ]
  },
  {
   "cell_type": "code",
   "execution_count": 88,
   "id": "0f3c64a9",
   "metadata": {},
   "outputs": [],
   "source": [
    "data_3 = data_3.dropna(axis=0, how='any')"
   ]
  },
  {
   "cell_type": "code",
   "execution_count": 89,
   "id": "786cb10a",
   "metadata": {},
   "outputs": [
    {
     "name": "stdout",
     "output_type": "stream",
     "text": [
      "PrimaryPropertyType      0\n",
      "CouncilDistrictCode      0\n",
      "Neighborhood             0\n",
      "YearBuilt                0\n",
      "NumberofFloors           0\n",
      "ENERGYSTARScore          0\n",
      "SiteEUI(kBtu/sf)         0\n",
      "SourceEUI(kBtu/sf)       0\n",
      "SteamUse(kBtu)           0\n",
      "Electricity(kBtu)        0\n",
      "NaturalGas(kBtu)         0\n",
      "GHGEmissionsIntensity    0\n",
      "dtype: int64\n"
     ]
    }
   ],
   "source": [
    "print(data_3.isnull().sum())"
   ]
  },
  {
   "cell_type": "code",
   "execution_count": 90,
   "id": "c74a0aa3",
   "metadata": {},
   "outputs": [
    {
     "data": {
      "text/plain": [
       "(1548, 12)"
      ]
     },
     "execution_count": 90,
     "metadata": {},
     "output_type": "execute_result"
    }
   ],
   "source": [
    "data_3.shape"
   ]
  },
  {
   "cell_type": "markdown",
   "id": "277bee7e",
   "metadata": {},
   "source": [
    "### 2.2.2  Valeur incorrecte"
   ]
  },
  {
   "cell_type": "code",
   "execution_count": 106,
   "id": "82b09ffc",
   "metadata": {},
   "outputs": [],
   "source": [
    "# if numberofflower is 0, put it into 1. \n",
    "\n",
    "data_3['NumberofFloors'] = data_3['NumberofFloors'].replace(0,1)"
   ]
  },
  {
   "cell_type": "markdown",
   "id": "7d505e7a",
   "metadata": {},
   "source": [
    "### 2.2.3  invalides :  \n",
    "remove row with negative values"
   ]
  },
  {
   "cell_type": "code",
   "execution_count": 107,
   "id": "4da1e9f2",
   "metadata": {},
   "outputs": [],
   "source": [
    "keep_columns = ['PrimaryPropertyType', 'Neighborhood']\n",
    "\n",
    "# Create a mask to identify rows with negative values\n",
    "mask = (data_3.drop(keep_columns, axis=1) < 0).any(axis=1)\n",
    "\n",
    "# Drop the rows with negative values\n",
    "data_3 = data_3[~mask]"
   ]
  },
  {
   "cell_type": "code",
   "execution_count": 108,
   "id": "32a3315a",
   "metadata": {},
   "outputs": [
    {
     "data": {
      "text/plain": [
       "(1550, 12)"
      ]
     },
     "execution_count": 108,
     "metadata": {},
     "output_type": "execute_result"
    }
   ],
   "source": [
    "data_3.shape"
   ]
  },
  {
   "cell_type": "code",
   "execution_count": 109,
   "id": "89608097",
   "metadata": {},
   "outputs": [],
   "source": [
    "# d'autres zero value to check "
   ]
  },
  {
   "cell_type": "code",
   "execution_count": 110,
   "id": "6775b288",
   "metadata": {},
   "outputs": [
    {
     "name": "stdout",
     "output_type": "stream",
     "text": [
      "PrimaryPropertyType         0\n",
      "CouncilDistrictCode         0\n",
      "Neighborhood                0\n",
      "YearBuilt                   0\n",
      "NumberofFloors              0\n",
      "ENERGYSTARScore             0\n",
      "SiteEUI(kBtu/sf)            0\n",
      "SourceEUI(kBtu/sf)          3\n",
      "SteamUse(kBtu)           1435\n",
      "Electricity(kBtu)           3\n",
      "NaturalGas(kBtu)          444\n",
      "GHGEmissionsIntensity       2\n",
      "dtype: int64\n"
     ]
    }
   ],
   "source": [
    "count_zeros = data_3.eq(0).sum()\n",
    "print(count_zeros)"
   ]
  },
  {
   "cell_type": "code",
   "execution_count": 111,
   "id": "f835969b",
   "metadata": {},
   "outputs": [],
   "source": [
    "data_3 = data_3.drop(data_3[data_3['SourceEUI(kBtu/sf)']==0].index)\n",
    "data_3 = data_3.drop(data_3[data_3['Electricity(kBtu)']==0].index)\n",
    "data_3 = data_3.drop(data_3[data_3['GHGEmissionsIntensity']==0].index)"
   ]
  },
  {
   "cell_type": "code",
   "execution_count": 112,
   "id": "d33790e1",
   "metadata": {},
   "outputs": [
    {
     "name": "stdout",
     "output_type": "stream",
     "text": [
      "PrimaryPropertyType         0\n",
      "CouncilDistrictCode         0\n",
      "Neighborhood                0\n",
      "YearBuilt                   0\n",
      "NumberofFloors              0\n",
      "ENERGYSTARScore             0\n",
      "SiteEUI(kBtu/sf)            0\n",
      "SourceEUI(kBtu/sf)          0\n",
      "SteamUse(kBtu)           1431\n",
      "Electricity(kBtu)           0\n",
      "NaturalGas(kBtu)          441\n",
      "GHGEmissionsIntensity       0\n",
      "dtype: int64\n"
     ]
    }
   ],
   "source": [
    "count_zeros = data_3.eq(0).sum()\n",
    "print(count_zeros)"
   ]
  },
  {
   "cell_type": "code",
   "execution_count": 113,
   "id": "b93d6197",
   "metadata": {},
   "outputs": [],
   "source": [
    "data_3.to_csv('data_3.csv')"
   ]
  },
  {
   "cell_type": "markdown",
   "id": "caebb8d1",
   "metadata": {},
   "source": [
    "### 2.2.4   traitement outliers"
   ]
  },
  {
   "cell_type": "code",
   "execution_count": 115,
   "id": "8c241b73",
   "metadata": {},
   "outputs": [
    {
     "data": {
      "text/plain": [
       "997"
      ]
     },
     "execution_count": 115,
     "metadata": {},
     "output_type": "execute_result"
    }
   ],
   "source": [
    "Q1 = data_3.quantile(0.25)\n",
    "Q3 = data_3.quantile(0.75)\n",
    "IQR = Q3 - Q1\n",
    "outliers = (data_3 < (Q1 - 1.5 * IQR)) | (data_3 > (Q3 + 1.5 * IQR))\n",
    "outliers_num = (outliers == True).sum().sort_values(ascending=False)\n",
    "outliers_per = (((outliers == True).sum()/len(data_3))*100).sort_values(ascending=False)\n",
    "(outliers == True).sum().sum()"
   ]
  },
  {
   "cell_type": "code",
   "execution_count": 116,
   "id": "a75a29ef",
   "metadata": {},
   "outputs": [
    {
     "data": {
      "image/png": "[encoded data removed]",
      "text/plain": [
       "<Figure size 2000x800 with 1 Axes>"
      ]
     },
     "metadata": {},
     "output_type": "display_data"
    }
   ],
   "source": [
    "outliers_per.plot(kind='bar', figsize=(20, 8))\n",
    "plt.xlabel('Variables', fontsize=15)\n",
    "plt.ylabel('poucentage de outliers', fontsize=15)\n",
    "plt.title('Outliers', fontsize=15)\n",
    "plt.show()"
   ]
  },
  {
   "cell_type": "code",
   "execution_count": 117,
   "id": "1b394220",
   "metadata": {},
   "outputs": [
    {
     "data": {
      "image/png": "[encoded data removed]",
      "text/plain": [
       "<Figure size 2000x800 with 1 Axes>"
      ]
     },
     "metadata": {},
     "output_type": "display_data"
    }
   ],
   "source": [
    "outliers_num.plot(kind='bar', figsize=(20, 8))\n",
    "plt.xlabel('Variables', fontsize=15)\n",
    "plt.ylabel('Nombre de outliers', fontsize=15)\n",
    "plt.title('Outliers Nombre', fontsize=15)\n",
    "plt.show()"
   ]
  },
  {
   "cell_type": "code",
   "execution_count": 118,
   "id": "a54f5c76",
   "metadata": {},
   "outputs": [
    {
     "data": {
      "image/png": "[encoded data removed]",
      "text/plain": [
       "<Figure size 640x480 with 1 Axes>"
      ]
     },
     "metadata": {},
     "output_type": "display_data"
    }
   ],
   "source": [
    "data_3['ENERGYSTARScore'].plot.box()\n",
    "plt.show()"
   ]
  },
  {
   "cell_type": "code",
   "execution_count": 53,
   "id": "7ce779e6",
   "metadata": {},
   "outputs": [
    {
     "data": {
      "image/png": "[encoded data removed]",
      "text/plain": [
       "<Figure size 640x480 with 1 Axes>"
      ]
     },
     "metadata": {},
     "output_type": "display_data"
    }
   ],
   "source": [
    "data_3['SiteEUI(kBtu/sf)'].plot.box()\n",
    "plt.show()"
   ]
  },
  {
   "cell_type": "code",
   "execution_count": 54,
   "id": "bc1d0f57",
   "metadata": {},
   "outputs": [
    {
     "data": {
      "image/png": "[encoded data removed]",
      "text/plain": [
       "<Figure size 640x480 with 1 Axes>"
      ]
     },
     "metadata": {},
     "output_type": "display_data"
    }
   ],
   "source": [
    "data_3['GHGEmissionsIntensity'].plot.box()\n",
    "plt.show()"
   ]
  },
  {
   "cell_type": "code",
   "execution_count": 60,
   "id": "b9f9cad5",
   "metadata": {},
   "outputs": [],
   "source": [
    "data_3.to_csv('data_3.csv')"
   ]
  },
  {
   "cell_type": "code",
   "execution_count": null,
   "id": "f694c314",
   "metadata": {},
   "outputs": [],
   "source": []
  },
  {
   "cell_type": "code",
   "execution_count": null,
   "id": "f4dd5eda",
   "metadata": {},
   "outputs": [],
   "source": []
  },
  {
   "cell_type": "code",
   "execution_count": null,
   "id": "8d64e834",
   "metadata": {},
   "outputs": [],
   "source": []
  },
  {
   "cell_type": "code",
   "execution_count": null,
   "id": "a324374e",
   "metadata": {},
   "outputs": [],
   "source": []
  },
  {
   "cell_type": "code",
   "execution_count": null,
   "id": "d7f31271",
   "metadata": {},
   "outputs": [],
   "source": []
  },
  {
   "cell_type": "code",
   "execution_count": null,
   "id": "5b44fb75",
   "metadata": {},
   "outputs": [],
   "source": []
  },
  {
   "cell_type": "code",
   "execution_count": null,
   "id": "ee987638",
   "metadata": {},
   "outputs": [],
   "source": []
  }
 ],
 "metadata": {
  "kernelspec": {
   "display_name": "Python 3 (ipykernel)",
   "language": "python",
   "name": "python3"
  },
  "language_info": {
   "codemirror_mode": {
    "name": "ipython",
    "version": 3
   },
   "file_extension": ".py",
   "mimetype": "text/x-python",
   "name": "python",
   "nbconvert_exporter": "python",
   "pygments_lexer": "ipython3",
   "version": "3.9.13"
  }
 },
 "nbformat": 4,
 "nbformat_minor": 5
}
