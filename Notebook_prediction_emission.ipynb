{
 "cells": [
  {
   "cell_type": "code",
   "execution_count": 101,
   "id": "aaa3b51c",
   "metadata": {},
   "outputs": [
    {
     "ename": "ImportError",
     "evalue": "Numba needs NumPy 1.21 or less",
     "output_type": "error",
     "traceback": [
      "\u001b[1;31m---------------------------------------------------------------------------\u001b[0m",
      "\u001b[1;31mImportError\u001b[0m                               Traceback (most recent call last)",
      "\u001b[1;32m~\\AppData\\Local\\Temp\\ipykernel_21856\\1313107601.py\u001b[0m in \u001b[0;36m<module>\u001b[1;34m\u001b[0m\n\u001b[0;32m      5\u001b[0m \u001b[1;32mimport\u001b[0m \u001b[0mseaborn\u001b[0m \u001b[1;32mas\u001b[0m \u001b[0msns\u001b[0m\u001b[1;33m\u001b[0m\u001b[1;33m\u001b[0m\u001b[0m\n\u001b[0;32m      6\u001b[0m \u001b[1;32mimport\u001b[0m \u001b[0mmath\u001b[0m\u001b[1;33m\u001b[0m\u001b[1;33m\u001b[0m\u001b[0m\n\u001b[1;32m----> 7\u001b[1;33m \u001b[1;32mimport\u001b[0m \u001b[0mshap\u001b[0m\u001b[1;33m\u001b[0m\u001b[1;33m\u001b[0m\u001b[0m\n\u001b[0m\u001b[0;32m      8\u001b[0m \u001b[1;32mfrom\u001b[0m \u001b[0mscipy\u001b[0m \u001b[1;32mimport\u001b[0m \u001b[0mstats\u001b[0m\u001b[1;33m\u001b[0m\u001b[1;33m\u001b[0m\u001b[0m\n\u001b[0;32m      9\u001b[0m \u001b[1;32mfrom\u001b[0m \u001b[0msklearn\u001b[0m\u001b[1;33m.\u001b[0m\u001b[0mpreprocessing\u001b[0m \u001b[1;32mimport\u001b[0m \u001b[0mStandardScaler\u001b[0m\u001b[1;33m\u001b[0m\u001b[1;33m\u001b[0m\u001b[0m\n",
      "\u001b[1;32m~\\anaconda3\\lib\\site-packages\\shap\\__init__.py\u001b[0m in \u001b[0;36m<module>\u001b[1;34m\u001b[0m\n\u001b[0;32m     10\u001b[0m     \u001b[0mwarnings\u001b[0m\u001b[1;33m.\u001b[0m\u001b[0mwarn\u001b[0m\u001b[1;33m(\u001b[0m\u001b[1;34m\"As of version 0.29.0 shap only supports Python 3 (not 2)!\"\u001b[0m\u001b[1;33m)\u001b[0m\u001b[1;33m\u001b[0m\u001b[1;33m\u001b[0m\u001b[0m\n\u001b[0;32m     11\u001b[0m \u001b[1;33m\u001b[0m\u001b[0m\n\u001b[1;32m---> 12\u001b[1;33m \u001b[1;32mfrom\u001b[0m \u001b[1;33m.\u001b[0m\u001b[0m_explanation\u001b[0m \u001b[1;32mimport\u001b[0m \u001b[0mExplanation\u001b[0m\u001b[1;33m,\u001b[0m \u001b[0mCohorts\u001b[0m\u001b[1;33m\u001b[0m\u001b[1;33m\u001b[0m\u001b[0m\n\u001b[0m\u001b[0;32m     13\u001b[0m \u001b[1;33m\u001b[0m\u001b[0m\n\u001b[0;32m     14\u001b[0m \u001b[1;31m# explainers\u001b[0m\u001b[1;33m\u001b[0m\u001b[1;33m\u001b[0m\u001b[0m\n",
      "\u001b[1;32m~\\anaconda3\\lib\\site-packages\\shap\\_explanation.py\u001b[0m in \u001b[0;36m<module>\u001b[1;34m\u001b[0m\n\u001b[0;32m     10\u001b[0m \u001b[1;32mfrom\u001b[0m \u001b[0mslicer\u001b[0m \u001b[1;32mimport\u001b[0m \u001b[0mSlicer\u001b[0m\u001b[1;33m,\u001b[0m \u001b[0mAlias\u001b[0m\u001b[1;33m,\u001b[0m \u001b[0mObj\u001b[0m\u001b[1;33m\u001b[0m\u001b[1;33m\u001b[0m\u001b[0m\n\u001b[0;32m     11\u001b[0m \u001b[1;31m# from ._order import Order\u001b[0m\u001b[1;33m\u001b[0m\u001b[1;33m\u001b[0m\u001b[0m\n\u001b[1;32m---> 12\u001b[1;33m \u001b[1;32mfrom\u001b[0m \u001b[1;33m.\u001b[0m\u001b[0mutils\u001b[0m\u001b[1;33m.\u001b[0m\u001b[0m_general\u001b[0m \u001b[1;32mimport\u001b[0m \u001b[0mOpChain\u001b[0m\u001b[1;33m\u001b[0m\u001b[1;33m\u001b[0m\u001b[0m\n\u001b[0m\u001b[0;32m     13\u001b[0m \u001b[1;32mfrom\u001b[0m \u001b[1;33m.\u001b[0m\u001b[0mutils\u001b[0m\u001b[1;33m.\u001b[0m\u001b[0m_exceptions\u001b[0m \u001b[1;32mimport\u001b[0m \u001b[0mDimensionError\u001b[0m\u001b[1;33m\u001b[0m\u001b[1;33m\u001b[0m\u001b[0m\n\u001b[0;32m     14\u001b[0m \u001b[1;33m\u001b[0m\u001b[0m\n",
      "\u001b[1;32m~\\anaconda3\\lib\\site-packages\\shap\\utils\\__init__.py\u001b[0m in \u001b[0;36m<module>\u001b[1;34m\u001b[0m\n\u001b[1;32m----> 1\u001b[1;33m \u001b[1;32mfrom\u001b[0m \u001b[1;33m.\u001b[0m\u001b[0m_clustering\u001b[0m \u001b[1;32mimport\u001b[0m \u001b[0mhclust_ordering\u001b[0m\u001b[1;33m,\u001b[0m \u001b[0mpartition_tree\u001b[0m\u001b[1;33m,\u001b[0m \u001b[0mpartition_tree_shuffle\u001b[0m\u001b[1;33m,\u001b[0m \u001b[0mdelta_minimization_order\u001b[0m\u001b[1;33m,\u001b[0m \u001b[0mhclust\u001b[0m\u001b[1;33m\u001b[0m\u001b[1;33m\u001b[0m\u001b[0m\n\u001b[0m\u001b[0;32m      2\u001b[0m \u001b[1;32mfrom\u001b[0m \u001b[1;33m.\u001b[0m\u001b[0m_general\u001b[0m \u001b[1;32mimport\u001b[0m \u001b[0mapproximate_interactions\u001b[0m\u001b[1;33m,\u001b[0m \u001b[0mpotential_interactions\u001b[0m\u001b[1;33m,\u001b[0m \u001b[0msample\u001b[0m\u001b[1;33m,\u001b[0m \u001b[0msafe_isinstance\u001b[0m\u001b[1;33m,\u001b[0m \u001b[0massert_import\u001b[0m\u001b[1;33m,\u001b[0m \u001b[0mrecord_import_error\u001b[0m\u001b[1;33m\u001b[0m\u001b[1;33m\u001b[0m\u001b[0m\n\u001b[0;32m      3\u001b[0m \u001b[1;32mfrom\u001b[0m \u001b[1;33m.\u001b[0m\u001b[0m_general\u001b[0m \u001b[1;32mimport\u001b[0m \u001b[0mshapley_coefficients\u001b[0m\u001b[1;33m,\u001b[0m \u001b[0mconvert_name\u001b[0m\u001b[1;33m,\u001b[0m \u001b[0mformat_value\u001b[0m\u001b[1;33m,\u001b[0m \u001b[0mordinal_str\u001b[0m\u001b[1;33m,\u001b[0m \u001b[0mOpChain\u001b[0m\u001b[1;33m,\u001b[0m \u001b[0msuppress_stderr\u001b[0m\u001b[1;33m\u001b[0m\u001b[1;33m\u001b[0m\u001b[0m\n\u001b[0;32m      4\u001b[0m \u001b[1;32mfrom\u001b[0m \u001b[1;33m.\u001b[0m\u001b[0m_show_progress\u001b[0m \u001b[1;32mimport\u001b[0m \u001b[0mshow_progress\u001b[0m\u001b[1;33m\u001b[0m\u001b[1;33m\u001b[0m\u001b[0m\n\u001b[0;32m      5\u001b[0m \u001b[1;32mfrom\u001b[0m \u001b[1;33m.\u001b[0m\u001b[0m_masked_model\u001b[0m \u001b[1;32mimport\u001b[0m \u001b[0mMaskedModel\u001b[0m\u001b[1;33m,\u001b[0m \u001b[0mmake_masks\u001b[0m\u001b[1;33m\u001b[0m\u001b[1;33m\u001b[0m\u001b[0m\n",
      "\u001b[1;32m~\\anaconda3\\lib\\site-packages\\shap\\utils\\_clustering.py\u001b[0m in \u001b[0;36m<module>\u001b[1;34m\u001b[0m\n\u001b[0;32m      2\u001b[0m \u001b[1;32mimport\u001b[0m \u001b[0mscipy\u001b[0m \u001b[1;32mas\u001b[0m \u001b[0msp\u001b[0m\u001b[1;33m\u001b[0m\u001b[1;33m\u001b[0m\u001b[0m\n\u001b[0;32m      3\u001b[0m \u001b[1;32mfrom\u001b[0m \u001b[0mscipy\u001b[0m\u001b[1;33m.\u001b[0m\u001b[0mspatial\u001b[0m\u001b[1;33m.\u001b[0m\u001b[0mdistance\u001b[0m \u001b[1;32mimport\u001b[0m \u001b[0mpdist\u001b[0m\u001b[1;33m\u001b[0m\u001b[1;33m\u001b[0m\u001b[0m\n\u001b[1;32m----> 4\u001b[1;33m \u001b[1;32mfrom\u001b[0m \u001b[0mnumba\u001b[0m \u001b[1;32mimport\u001b[0m \u001b[0mjit\u001b[0m\u001b[1;33m\u001b[0m\u001b[1;33m\u001b[0m\u001b[0m\n\u001b[0m\u001b[0;32m      5\u001b[0m \u001b[1;32mimport\u001b[0m \u001b[0msklearn\u001b[0m\u001b[1;33m\u001b[0m\u001b[1;33m\u001b[0m\u001b[0m\n\u001b[0;32m      6\u001b[0m \u001b[1;32mimport\u001b[0m \u001b[0mwarnings\u001b[0m\u001b[1;33m\u001b[0m\u001b[1;33m\u001b[0m\u001b[0m\n",
      "\u001b[1;32m~\\anaconda3\\lib\\site-packages\\numba\\__init__.py\u001b[0m in \u001b[0;36m<module>\u001b[1;34m\u001b[0m\n\u001b[0;32m    198\u001b[0m \u001b[1;33m\u001b[0m\u001b[0m\n\u001b[0;32m    199\u001b[0m \u001b[0m_ensure_llvm\u001b[0m\u001b[1;33m(\u001b[0m\u001b[1;33m)\u001b[0m\u001b[1;33m\u001b[0m\u001b[1;33m\u001b[0m\u001b[0m\n\u001b[1;32m--> 200\u001b[1;33m \u001b[0m_ensure_critical_deps\u001b[0m\u001b[1;33m(\u001b[0m\u001b[1;33m)\u001b[0m\u001b[1;33m\u001b[0m\u001b[1;33m\u001b[0m\u001b[0m\n\u001b[0m\u001b[0;32m    201\u001b[0m \u001b[1;33m\u001b[0m\u001b[0m\n\u001b[0;32m    202\u001b[0m \u001b[1;31m# we know llvmlite is working as the above tests passed, import it now as SVML\u001b[0m\u001b[1;33m\u001b[0m\u001b[1;33m\u001b[0m\u001b[0m\n",
      "\u001b[1;32m~\\anaconda3\\lib\\site-packages\\numba\\__init__.py\u001b[0m in \u001b[0;36m_ensure_critical_deps\u001b[1;34m()\u001b[0m\n\u001b[0;32m    138\u001b[0m         \u001b[1;32mraise\u001b[0m \u001b[0mImportError\u001b[0m\u001b[1;33m(\u001b[0m\u001b[1;34m\"Numba needs NumPy 1.18 or greater\"\u001b[0m\u001b[1;33m)\u001b[0m\u001b[1;33m\u001b[0m\u001b[1;33m\u001b[0m\u001b[0m\n\u001b[0;32m    139\u001b[0m     \u001b[1;32melif\u001b[0m \u001b[0mnumpy_version\u001b[0m \u001b[1;33m>\u001b[0m \u001b[1;33m(\u001b[0m\u001b[1;36m1\u001b[0m\u001b[1;33m,\u001b[0m \u001b[1;36m21\u001b[0m\u001b[1;33m)\u001b[0m\u001b[1;33m:\u001b[0m\u001b[1;33m\u001b[0m\u001b[1;33m\u001b[0m\u001b[0m\n\u001b[1;32m--> 140\u001b[1;33m         \u001b[1;32mraise\u001b[0m \u001b[0mImportError\u001b[0m\u001b[1;33m(\u001b[0m\u001b[1;34m\"Numba needs NumPy 1.21 or less\"\u001b[0m\u001b[1;33m)\u001b[0m\u001b[1;33m\u001b[0m\u001b[1;33m\u001b[0m\u001b[0m\n\u001b[0m\u001b[0;32m    141\u001b[0m \u001b[1;33m\u001b[0m\u001b[0m\n\u001b[0;32m    142\u001b[0m     \u001b[1;32mtry\u001b[0m\u001b[1;33m:\u001b[0m\u001b[1;33m\u001b[0m\u001b[1;33m\u001b[0m\u001b[0m\n",
      "\u001b[1;31mImportError\u001b[0m: Numba needs NumPy 1.21 or less"
     ]
    }
   ],
   "source": [
    "import pandas as pd\n",
    "import numpy as np\n",
    "import warnings \n",
    "import matplotlib.pyplot as plt\n",
    "import seaborn as sns\n",
    "import math\n",
    "#import shap\n",
    "from scipy import stats\n",
    "from sklearn.preprocessing import StandardScaler\n",
    "from sklearn.linear_model import LinearRegression\n",
    "from sklearn.decomposition import PCA\n",
    "from sklearn import kernel_ridge\n",
    "from sklearn.kernel_ridge import KernelRidge\n",
    "from sklearn.model_selection import train_test_split\n",
    "from sklearn.metrics import mean_squared_error, r2_score\n",
    "from sklearn.preprocessing import OneHotEncoder\n",
    "from sklearn.model_selection import GridSearchCV"
   ]
  },
  {
   "cell_type": "code",
   "execution_count": 39,
   "id": "bed1bf6d",
   "metadata": {},
   "outputs": [],
   "source": [
    "data = pd.read_csv('features.csv',  engine = 'python',  on_bad_lines = 'skip', index_col=[0])"
   ]
  },
  {
   "cell_type": "code",
   "execution_count": 40,
   "id": "a7d7a69f",
   "metadata": {},
   "outputs": [],
   "source": [
    "warnings.filterwarnings('ignore')"
   ]
  },
  {
   "cell_type": "code",
   "execution_count": 41,
   "id": "97ac2639",
   "metadata": {},
   "outputs": [
    {
     "data": {
      "text/html": [
       "<div>\n",
       "<style scoped>\n",
       "    .dataframe tbody tr th:only-of-type {\n",
       "        vertical-align: middle;\n",
       "    }\n",
       "\n",
       "    .dataframe tbody tr th {\n",
       "        vertical-align: top;\n",
       "    }\n",
       "\n",
       "    .dataframe thead th {\n",
       "        text-align: right;\n",
       "    }\n",
       "</style>\n",
       "<table border=\"1\" class=\"dataframe\">\n",
       "  <thead>\n",
       "    <tr style=\"text-align: right;\">\n",
       "      <th></th>\n",
       "      <th>NumberofFloors</th>\n",
       "      <th>ENERGYSTARScore</th>\n",
       "      <th>SiteEUI(kBtu/sf)</th>\n",
       "      <th>SiteEUIWN(kBtu/sf)</th>\n",
       "      <th>SourceEUIWN(kBtu/sf)</th>\n",
       "      <th>SiteEnergyUse(kBtu)</th>\n",
       "      <th>SiteEnergyUseWN(kBtu)</th>\n",
       "      <th>SteamUse(kBtu)</th>\n",
       "      <th>Electricity(kBtu)</th>\n",
       "      <th>NaturalGas(kBtu)</th>\n",
       "      <th>...</th>\n",
       "      <th>Neighbor_NORTHEAST</th>\n",
       "      <th>Neighbor_NORTHWEST</th>\n",
       "      <th>Neighbor_North</th>\n",
       "      <th>Neighbor_Northwest</th>\n",
       "      <th>Neighbor_SOUTHEAST</th>\n",
       "      <th>Neighbor_SOUTHWEST</th>\n",
       "      <th>Built_1900-1945</th>\n",
       "      <th>Built_1946-1970</th>\n",
       "      <th>Built_1971-1990</th>\n",
       "      <th>Built_1991-2015</th>\n",
       "    </tr>\n",
       "  </thead>\n",
       "  <tbody>\n",
       "  </tbody>\n",
       "</table>\n",
       "<p>0 rows × 57 columns</p>\n",
       "</div>"
      ],
      "text/plain": [
       "Empty DataFrame\n",
       "Columns: [NumberofFloors, ENERGYSTARScore, SiteEUI(kBtu/sf), SiteEUIWN(kBtu/sf), SourceEUIWN(kBtu/sf), SiteEnergyUse(kBtu), SiteEnergyUseWN(kBtu), SteamUse(kBtu), Electricity(kBtu), NaturalGas(kBtu), GHGEmissionsIntensity, GHGEmissionsIntensity_log, SiteEUI(kBtu/sf)_log, Type_Distribution Center, Type_Hospital, Type_Hotel, Type_K-12 School, Type_Laboratory, Type_Large Office, Type_Low-Rise Multifamily, Type_Medical Office, Type_Mixed Use Property, Type_Other, Type_Refrigerated Warehouse, Type_Residence Hall, Type_Restaurant, Type_Retail Store, Type_Self-Storage Facility, Type_Senior Care Community, Type_Small- and Mid-Sized Office, Type_Supermarket / Grocery Store, Type_University, Type_Warehouse, Type_Worship Facility, Neighbor_BALLARD, Neighbor_Ballard, Neighbor_CENTRAL, Neighbor_Central, Neighbor_DELRIDGE, Neighbor_DELRIDGE NEIGHBORHOODS, Neighbor_DOWNTOWN, Neighbor_Delridge, Neighbor_EAST, Neighbor_GREATER DUWAMISH, Neighbor_LAKE UNION, Neighbor_MAGNOLIA / QUEEN ANNE, Neighbor_NORTH, Neighbor_NORTHEAST, Neighbor_NORTHWEST, Neighbor_North, Neighbor_Northwest, Neighbor_SOUTHEAST, Neighbor_SOUTHWEST, Built_1900-1945, Built_1946-1970, Built_1971-1990, Built_1991-2015]\n",
       "Index: []\n",
       "\n",
       "[0 rows x 57 columns]"
      ]
     },
     "execution_count": 41,
     "metadata": {},
     "output_type": "execute_result"
    }
   ],
   "source": [
    "data[data.isnull().any(axis=1)]"
   ]
  },
  {
   "cell_type": "code",
   "execution_count": 42,
   "id": "1616e7f7",
   "metadata": {},
   "outputs": [],
   "source": [
    "data = data.dropna(axis=0, how='any')"
   ]
  },
  {
   "cell_type": "code",
   "execution_count": 43,
   "id": "2d9cbdaa",
   "metadata": {},
   "outputs": [
    {
     "name": "stdout",
     "output_type": "stream",
     "text": [
      "NumberofFloors                      0\n",
      "ENERGYSTARScore                     0\n",
      "SiteEUI(kBtu/sf)                    0\n",
      "SiteEUIWN(kBtu/sf)                  0\n",
      "SourceEUIWN(kBtu/sf)                0\n",
      "SiteEnergyUse(kBtu)                 0\n",
      "SiteEnergyUseWN(kBtu)               0\n",
      "SteamUse(kBtu)                      0\n",
      "Electricity(kBtu)                   0\n",
      "NaturalGas(kBtu)                    0\n",
      "GHGEmissionsIntensity               0\n",
      "GHGEmissionsIntensity_log           0\n",
      "SiteEUI(kBtu/sf)_log                0\n",
      "Type_Distribution Center            0\n",
      "Type_Hospital                       0\n",
      "Type_Hotel                          0\n",
      "Type_K-12 School                    0\n",
      "Type_Laboratory                     0\n",
      "Type_Large Office                   0\n",
      "Type_Low-Rise Multifamily           0\n",
      "Type_Medical Office                 0\n",
      "Type_Mixed Use Property             0\n",
      "Type_Other                          0\n",
      "Type_Refrigerated Warehouse         0\n",
      "Type_Residence Hall                 0\n",
      "Type_Restaurant                     0\n",
      "Type_Retail Store                   0\n",
      "Type_Self-Storage Facility          0\n",
      "Type_Senior Care Community          0\n",
      "Type_Small- and Mid-Sized Office    0\n",
      "Type_Supermarket / Grocery Store    0\n",
      "Type_University                     0\n",
      "Type_Warehouse                      0\n",
      "Type_Worship Facility               0\n",
      "Neighbor_BALLARD                    0\n",
      "Neighbor_Ballard                    0\n",
      "Neighbor_CENTRAL                    0\n",
      "Neighbor_Central                    0\n",
      "Neighbor_DELRIDGE                   0\n",
      "Neighbor_DELRIDGE NEIGHBORHOODS     0\n",
      "Neighbor_DOWNTOWN                   0\n",
      "Neighbor_Delridge                   0\n",
      "Neighbor_EAST                       0\n",
      "Neighbor_GREATER DUWAMISH           0\n",
      "Neighbor_LAKE UNION                 0\n",
      "Neighbor_MAGNOLIA / QUEEN ANNE      0\n",
      "Neighbor_NORTH                      0\n",
      "Neighbor_NORTHEAST                  0\n",
      "Neighbor_NORTHWEST                  0\n",
      "Neighbor_North                      0\n",
      "Neighbor_Northwest                  0\n",
      "Neighbor_SOUTHEAST                  0\n",
      "Neighbor_SOUTHWEST                  0\n",
      "Built_1900-1945                     0\n",
      "Built_1946-1970                     0\n",
      "Built_1971-1990                     0\n",
      "Built_1991-2015                     0\n",
      "dtype: int64\n"
     ]
    }
   ],
   "source": [
    "print(data.isnull().sum())"
   ]
  },
  {
   "cell_type": "code",
   "execution_count": 44,
   "id": "dc4ab4dd",
   "metadata": {},
   "outputs": [
    {
     "data": {
      "text/plain": [
       "(1534, 57)"
      ]
     },
     "execution_count": 44,
     "metadata": {},
     "output_type": "execute_result"
    }
   ],
   "source": [
    "data.shape"
   ]
  },
  {
   "cell_type": "code",
   "execution_count": 45,
   "id": "12cbfa57",
   "metadata": {},
   "outputs": [
    {
     "data": {
      "text/html": [
       "<div>\n",
       "<style scoped>\n",
       "    .dataframe tbody tr th:only-of-type {\n",
       "        vertical-align: middle;\n",
       "    }\n",
       "\n",
       "    .dataframe tbody tr th {\n",
       "        vertical-align: top;\n",
       "    }\n",
       "\n",
       "    .dataframe thead th {\n",
       "        text-align: right;\n",
       "    }\n",
       "</style>\n",
       "<table border=\"1\" class=\"dataframe\">\n",
       "  <thead>\n",
       "    <tr style=\"text-align: right;\">\n",
       "      <th></th>\n",
       "      <th>NumberofFloors</th>\n",
       "      <th>ENERGYSTARScore</th>\n",
       "      <th>SiteEUI(kBtu/sf)</th>\n",
       "      <th>SiteEUIWN(kBtu/sf)</th>\n",
       "      <th>SourceEUIWN(kBtu/sf)</th>\n",
       "      <th>SiteEnergyUse(kBtu)</th>\n",
       "      <th>SiteEnergyUseWN(kBtu)</th>\n",
       "      <th>SteamUse(kBtu)</th>\n",
       "      <th>Electricity(kBtu)</th>\n",
       "      <th>NaturalGas(kBtu)</th>\n",
       "      <th>...</th>\n",
       "      <th>Neighbor_NORTHEAST</th>\n",
       "      <th>Neighbor_NORTHWEST</th>\n",
       "      <th>Neighbor_North</th>\n",
       "      <th>Neighbor_Northwest</th>\n",
       "      <th>Neighbor_SOUTHEAST</th>\n",
       "      <th>Neighbor_SOUTHWEST</th>\n",
       "      <th>Built_1900-1945</th>\n",
       "      <th>Built_1946-1970</th>\n",
       "      <th>Built_1971-1990</th>\n",
       "      <th>Built_1991-2015</th>\n",
       "    </tr>\n",
       "  </thead>\n",
       "  <tbody>\n",
       "    <tr>\n",
       "      <th>0</th>\n",
       "      <td>12</td>\n",
       "      <td>60.0</td>\n",
       "      <td>81.699997</td>\n",
       "      <td>84.300003</td>\n",
       "      <td>189.000000</td>\n",
       "      <td>7226362.5</td>\n",
       "      <td>7456910.0</td>\n",
       "      <td>2003882.00</td>\n",
       "      <td>3946027.0</td>\n",
       "      <td>1276453.0</td>\n",
       "      <td>...</td>\n",
       "      <td>0</td>\n",
       "      <td>0</td>\n",
       "      <td>0</td>\n",
       "      <td>0</td>\n",
       "      <td>0</td>\n",
       "      <td>0</td>\n",
       "      <td>1</td>\n",
       "      <td>0</td>\n",
       "      <td>0</td>\n",
       "      <td>0</td>\n",
       "    </tr>\n",
       "    <tr>\n",
       "      <th>1</th>\n",
       "      <td>11</td>\n",
       "      <td>61.0</td>\n",
       "      <td>94.800003</td>\n",
       "      <td>97.900002</td>\n",
       "      <td>179.399994</td>\n",
       "      <td>8387933.0</td>\n",
       "      <td>8664479.0</td>\n",
       "      <td>0.00</td>\n",
       "      <td>3242851.0</td>\n",
       "      <td>5145082.0</td>\n",
       "      <td>...</td>\n",
       "      <td>0</td>\n",
       "      <td>0</td>\n",
       "      <td>0</td>\n",
       "      <td>0</td>\n",
       "      <td>0</td>\n",
       "      <td>0</td>\n",
       "      <td>0</td>\n",
       "      <td>0</td>\n",
       "      <td>0</td>\n",
       "      <td>1</td>\n",
       "    </tr>\n",
       "    <tr>\n",
       "      <th>2</th>\n",
       "      <td>41</td>\n",
       "      <td>43.0</td>\n",
       "      <td>96.000000</td>\n",
       "      <td>97.699997</td>\n",
       "      <td>244.100006</td>\n",
       "      <td>72587024.0</td>\n",
       "      <td>73937112.0</td>\n",
       "      <td>21566554.00</td>\n",
       "      <td>49526664.0</td>\n",
       "      <td>1493800.0</td>\n",
       "      <td>...</td>\n",
       "      <td>0</td>\n",
       "      <td>0</td>\n",
       "      <td>0</td>\n",
       "      <td>0</td>\n",
       "      <td>0</td>\n",
       "      <td>0</td>\n",
       "      <td>0</td>\n",
       "      <td>1</td>\n",
       "      <td>0</td>\n",
       "      <td>0</td>\n",
       "    </tr>\n",
       "    <tr>\n",
       "      <th>3</th>\n",
       "      <td>10</td>\n",
       "      <td>56.0</td>\n",
       "      <td>110.800003</td>\n",
       "      <td>113.300003</td>\n",
       "      <td>224.000000</td>\n",
       "      <td>6794584.0</td>\n",
       "      <td>6946800.5</td>\n",
       "      <td>2214446.25</td>\n",
       "      <td>2768924.0</td>\n",
       "      <td>1811213.0</td>\n",
       "      <td>...</td>\n",
       "      <td>0</td>\n",
       "      <td>0</td>\n",
       "      <td>0</td>\n",
       "      <td>0</td>\n",
       "      <td>0</td>\n",
       "      <td>0</td>\n",
       "      <td>1</td>\n",
       "      <td>0</td>\n",
       "      <td>0</td>\n",
       "      <td>0</td>\n",
       "    </tr>\n",
       "    <tr>\n",
       "      <th>4</th>\n",
       "      <td>18</td>\n",
       "      <td>75.0</td>\n",
       "      <td>114.800003</td>\n",
       "      <td>118.699997</td>\n",
       "      <td>215.600006</td>\n",
       "      <td>14172606.0</td>\n",
       "      <td>14656503.0</td>\n",
       "      <td>0.00</td>\n",
       "      <td>5368607.0</td>\n",
       "      <td>8803998.0</td>\n",
       "      <td>...</td>\n",
       "      <td>0</td>\n",
       "      <td>0</td>\n",
       "      <td>0</td>\n",
       "      <td>0</td>\n",
       "      <td>0</td>\n",
       "      <td>0</td>\n",
       "      <td>0</td>\n",
       "      <td>0</td>\n",
       "      <td>1</td>\n",
       "      <td>0</td>\n",
       "    </tr>\n",
       "  </tbody>\n",
       "</table>\n",
       "<p>5 rows × 57 columns</p>\n",
       "</div>"
      ],
      "text/plain": [
       "   NumberofFloors  ENERGYSTARScore  SiteEUI(kBtu/sf)  SiteEUIWN(kBtu/sf)  \\\n",
       "0              12             60.0         81.699997           84.300003   \n",
       "1              11             61.0         94.800003           97.900002   \n",
       "2              41             43.0         96.000000           97.699997   \n",
       "3              10             56.0        110.800003          113.300003   \n",
       "4              18             75.0        114.800003          118.699997   \n",
       "\n",
       "   SourceEUIWN(kBtu/sf)  SiteEnergyUse(kBtu)  SiteEnergyUseWN(kBtu)  \\\n",
       "0            189.000000            7226362.5              7456910.0   \n",
       "1            179.399994            8387933.0              8664479.0   \n",
       "2            244.100006           72587024.0             73937112.0   \n",
       "3            224.000000            6794584.0              6946800.5   \n",
       "4            215.600006           14172606.0             14656503.0   \n",
       "\n",
       "   SteamUse(kBtu)  Electricity(kBtu)  NaturalGas(kBtu)  ...  \\\n",
       "0      2003882.00          3946027.0         1276453.0  ...   \n",
       "1            0.00          3242851.0         5145082.0  ...   \n",
       "2     21566554.00         49526664.0         1493800.0  ...   \n",
       "3      2214446.25          2768924.0         1811213.0  ...   \n",
       "4            0.00          5368607.0         8803998.0  ...   \n",
       "\n",
       "   Neighbor_NORTHEAST  Neighbor_NORTHWEST  Neighbor_North  Neighbor_Northwest  \\\n",
       "0                   0                   0               0                   0   \n",
       "1                   0                   0               0                   0   \n",
       "2                   0                   0               0                   0   \n",
       "3                   0                   0               0                   0   \n",
       "4                   0                   0               0                   0   \n",
       "\n",
       "   Neighbor_SOUTHEAST  Neighbor_SOUTHWEST  Built_1900-1945  Built_1946-1970  \\\n",
       "0                   0                   0                1                0   \n",
       "1                   0                   0                0                0   \n",
       "2                   0                   0                0                1   \n",
       "3                   0                   0                1                0   \n",
       "4                   0                   0                0                0   \n",
       "\n",
       "   Built_1971-1990  Built_1991-2015  \n",
       "0                0                0  \n",
       "1                0                1  \n",
       "2                0                0  \n",
       "3                0                0  \n",
       "4                1                0  \n",
       "\n",
       "[5 rows x 57 columns]"
      ]
     },
     "execution_count": 45,
     "metadata": {},
     "output_type": "execute_result"
    }
   ],
   "source": [
    "data.head()"
   ]
  },
  {
   "cell_type": "code",
   "execution_count": null,
   "id": "b35811e2",
   "metadata": {},
   "outputs": [],
   "source": []
  },
  {
   "cell_type": "markdown",
   "id": "ad8e41ee",
   "metadata": {},
   "source": [
    "# 3 Prédiction emission"
   ]
  },
  {
   "cell_type": "markdown",
   "id": "2104659a",
   "metadata": {},
   "source": [
    "## 3.1  Séléction des features "
   ]
  },
  {
   "cell_type": "markdown",
   "id": "a2d8f405",
   "metadata": {},
   "source": [
    "### 3.1.1  Multivariate traitement pour éliminer les variables fortement corrélées"
   ]
  },
  {
   "cell_type": "code",
   "execution_count": 54,
   "id": "9ce8467e",
   "metadata": {},
   "outputs": [],
   "source": [
    "# potentielles variables numériques pour X\n",
    "X_cols_num = ['NumberofFloors', 'SiteEUI(kBtu/sf)', 'SiteEUIWN(kBtu/sf)', 'SourceEUIWN(kBtu/sf)','SiteEnergyUse(kBtu)', 'SiteEnergyUseWN(kBtu)', 'SteamUse(kBtu)', 'Electricity(kBtu)', 'NaturalGas(kBtu)']"
   ]
  },
  {
   "cell_type": "code",
   "execution_count": 55,
   "id": "bb7d6162",
   "metadata": {},
   "outputs": [
    {
     "data": {
      "text/plain": [
       "<Axes: >"
      ]
     },
     "execution_count": 55,
     "metadata": {},
     "output_type": "execute_result"
    },
    {
     "data": {
      "image/png": "[encoded data removed]",
      "text/plain": [
       "<Figure size 640x480 with 2 Axes>"
      ]
     },
     "metadata": {},
     "output_type": "display_data"
    }
   ],
   "source": [
    "X_num = data[X_cols_num]\n",
    "sns.heatmap(X_num.corr(), vmin=-1, vmax=1, annot=True, cmap=\"coolwarm\", fmt=\"0.2f\")"
   ]
  },
  {
   "cell_type": "code",
   "execution_count": 56,
   "id": "a95a83a4",
   "metadata": {},
   "outputs": [],
   "source": [
    "X_correlated = ['SiteEUIWN(kBtu/sf)', 'SourceEUIWN(kBtu/sf)', 'SiteEnergyUseWN(kBtu)']"
   ]
  },
  {
   "cell_type": "code",
   "execution_count": 57,
   "id": "f691ee14",
   "metadata": {},
   "outputs": [],
   "source": [
    "X_num = X_num.drop(X_correlated, axis = 1)"
   ]
  },
  {
   "cell_type": "code",
   "execution_count": 58,
   "id": "b988ea0b",
   "metadata": {},
   "outputs": [
    {
     "data": {
      "text/plain": [
       "<Axes: >"
      ]
     },
     "execution_count": 58,
     "metadata": {},
     "output_type": "execute_result"
    },
    {
     "data": {
      "image/png": "[encoded data removed]",
      "text/plain": [
       "<Figure size 640x480 with 2 Axes>"
      ]
     },
     "metadata": {},
     "output_type": "display_data"
    }
   ],
   "source": [
    "sns.heatmap(X_num.corr(), vmin=-1, vmax=1, annot=True, cmap=\"coolwarm\", fmt=\"0.2f\")"
   ]
  },
  {
   "cell_type": "markdown",
   "id": "0adc953e",
   "metadata": {},
   "source": [
    "### 3.1.2  Sélection top 5 features "
   ]
  },
  {
   "cell_type": "code",
   "execution_count": 61,
   "id": "e2dc6469",
   "metadata": {},
   "outputs": [],
   "source": [
    "y = data['GHGEmissionsIntensity']"
   ]
  },
  {
   "cell_type": "code",
   "execution_count": 64,
   "id": "d9666f8c",
   "metadata": {},
   "outputs": [
    {
     "name": "stdout",
     "output_type": "stream",
     "text": [
      "(1027, 6)\n",
      "(507, 6)\n",
      "Feature selection [False  True  True  True  True  True]\n",
      "Feature scores [   3.63574527 1070.93922071  302.60561124   54.05806445  116.34088147\n",
      "  397.83741515]\n",
      "Selected features: ['SiteEUI(kBtu/sf)', 'SiteEnergyUse(kBtu)', 'SteamUse(kBtu)', 'Electricity(kBtu)', 'NaturalGas(kBtu)']\n",
      "Removed features: ['NumberofFloors']\n"
     ]
    }
   ],
   "source": [
    "# Perform feature selection using a univariate statistical test\n",
    "from sklearn.feature_selection import SelectKBest\n",
    "from sklearn.feature_selection import f_classif # use this for classification tasks\n",
    "from sklearn.feature_selection import f_regression # use this for regression tasks\n",
    "\n",
    "# Split into train (2/3) and test (1/3) sets\n",
    "test_size = 0.33\n",
    "seed = 7\n",
    "X_train, X_test, y_train, y_test = train_test_split(X_num, y, test_size=test_size, random_state=seed)\n",
    "print(X_train.shape)\n",
    "print(X_test.shape)\n",
    "\n",
    "kbest = SelectKBest(score_func=f_regression, k=5)\n",
    "kbest.fit(X_train, y_train)\n",
    "\n",
    "print(\"Feature selection\", kbest.get_support())\n",
    "print(\"Feature scores\", kbest.scores_)\n",
    "print(\"Selected features:\", list(X_num.columns[kbest.get_support()]))\n",
    "print(\"Removed features:\", list(X_num.columns[~kbest.get_support()]))"
   ]
  },
  {
   "cell_type": "code",
   "execution_count": 65,
   "id": "b0885dfa",
   "metadata": {},
   "outputs": [
    {
     "data": {
      "text/html": [
       "<div>\n",
       "<style scoped>\n",
       "    .dataframe tbody tr th:only-of-type {\n",
       "        vertical-align: middle;\n",
       "    }\n",
       "\n",
       "    .dataframe tbody tr th {\n",
       "        vertical-align: top;\n",
       "    }\n",
       "\n",
       "    .dataframe thead th {\n",
       "        text-align: right;\n",
       "    }\n",
       "</style>\n",
       "<table border=\"1\" class=\"dataframe\">\n",
       "  <thead>\n",
       "    <tr style=\"text-align: right;\">\n",
       "      <th></th>\n",
       "      <th>NumberofFloors</th>\n",
       "      <th>SiteEUI(kBtu/sf)</th>\n",
       "      <th>SiteEnergyUse(kBtu)</th>\n",
       "      <th>SteamUse(kBtu)</th>\n",
       "      <th>Electricity(kBtu)</th>\n",
       "      <th>NaturalGas(kBtu)</th>\n",
       "    </tr>\n",
       "  </thead>\n",
       "  <tbody>\n",
       "    <tr>\n",
       "      <th>0</th>\n",
       "      <td>12</td>\n",
       "      <td>81.699997</td>\n",
       "      <td>7226362.5</td>\n",
       "      <td>2003882.00</td>\n",
       "      <td>3946027.0</td>\n",
       "      <td>1276453.0</td>\n",
       "    </tr>\n",
       "    <tr>\n",
       "      <th>1</th>\n",
       "      <td>11</td>\n",
       "      <td>94.800003</td>\n",
       "      <td>8387933.0</td>\n",
       "      <td>0.00</td>\n",
       "      <td>3242851.0</td>\n",
       "      <td>5145082.0</td>\n",
       "    </tr>\n",
       "    <tr>\n",
       "      <th>2</th>\n",
       "      <td>41</td>\n",
       "      <td>96.000000</td>\n",
       "      <td>72587024.0</td>\n",
       "      <td>21566554.00</td>\n",
       "      <td>49526664.0</td>\n",
       "      <td>1493800.0</td>\n",
       "    </tr>\n",
       "    <tr>\n",
       "      <th>3</th>\n",
       "      <td>10</td>\n",
       "      <td>110.800003</td>\n",
       "      <td>6794584.0</td>\n",
       "      <td>2214446.25</td>\n",
       "      <td>2768924.0</td>\n",
       "      <td>1811213.0</td>\n",
       "    </tr>\n",
       "    <tr>\n",
       "      <th>4</th>\n",
       "      <td>18</td>\n",
       "      <td>114.800003</td>\n",
       "      <td>14172606.0</td>\n",
       "      <td>0.00</td>\n",
       "      <td>5368607.0</td>\n",
       "      <td>8803998.0</td>\n",
       "    </tr>\n",
       "  </tbody>\n",
       "</table>\n",
       "</div>"
      ],
      "text/plain": [
       "   NumberofFloors  SiteEUI(kBtu/sf)  SiteEnergyUse(kBtu)  SteamUse(kBtu)  \\\n",
       "0              12         81.699997            7226362.5      2003882.00   \n",
       "1              11         94.800003            8387933.0            0.00   \n",
       "2              41         96.000000           72587024.0     21566554.00   \n",
       "3              10        110.800003            6794584.0      2214446.25   \n",
       "4              18        114.800003           14172606.0            0.00   \n",
       "\n",
       "   Electricity(kBtu)  NaturalGas(kBtu)  \n",
       "0          3946027.0         1276453.0  \n",
       "1          3242851.0         5145082.0  \n",
       "2         49526664.0         1493800.0  \n",
       "3          2768924.0         1811213.0  \n",
       "4          5368607.0         8803998.0  "
      ]
     },
     "execution_count": 65,
     "metadata": {},
     "output_type": "execute_result"
    }
   ],
   "source": [
    "X_num.head()"
   ]
  },
  {
   "cell_type": "code",
   "execution_count": 66,
   "id": "c49c6443",
   "metadata": {},
   "outputs": [],
   "source": [
    "X_num = X_num.drop(['NumberofFloors'], axis = 1)"
   ]
  },
  {
   "cell_type": "code",
   "execution_count": null,
   "id": "6d86d32f",
   "metadata": {},
   "outputs": [],
   "source": []
  },
  {
   "cell_type": "markdown",
   "id": "b8be85ae",
   "metadata": {},
   "source": [
    "## 3.2. préparation des données"
   ]
  },
  {
   "cell_type": "code",
   "execution_count": 68,
   "id": "c58cdbc3",
   "metadata": {},
   "outputs": [
    {
     "data": {
      "text/plain": [
       "5"
      ]
     },
     "execution_count": 68,
     "metadata": {},
     "output_type": "execute_result"
    }
   ],
   "source": [
    "X_cols_num = X_num.columns\n",
    "len(X_cols_num)"
   ]
  },
  {
   "cell_type": "code",
   "execution_count": 70,
   "id": "a47d4ec9",
   "metadata": {},
   "outputs": [],
   "source": [
    "X_cols_remove = ['GHGEmissionsIntensity', 'GHGEmissionsIntensity_log', 'SiteEUI(kBtu/sf)_log', 'NumberofFloors', 'SiteEUIWN(kBtu/sf)', 'SourceEUIWN(kBtu/sf)', 'SiteEnergyUseWN(kBtu)']"
   ]
  },
  {
   "cell_type": "code",
   "execution_count": 71,
   "id": "8bd70178",
   "metadata": {},
   "outputs": [],
   "source": [
    "X = data.drop(X_cols_remove, axis = 1).values\n",
    "y = data['GHGEmissionsIntensity'].values"
   ]
  },
  {
   "cell_type": "code",
   "execution_count": 72,
   "id": "957ec9da",
   "metadata": {},
   "outputs": [],
   "source": [
    "# séparation de train et test \n",
    "from sklearn import model_selection\n",
    "X_train, X_test, y_train, y_test = \\\n",
    "    model_selection.train_test_split(X, y, test_size=0.2, random_state=42)"
   ]
  },
  {
   "cell_type": "code",
   "execution_count": 73,
   "id": "71ec897e",
   "metadata": {},
   "outputs": [],
   "source": [
    "# normalisation seulement des variables numériques\n",
    "from sklearn import preprocessing\n",
    "\n",
    "scaler = StandardScaler()\n",
    "\n",
    "X_train_num = X_train[:, :len(X_cols_num)]\n",
    "X_train_cat = X_train[:, len(X_cols_num):]\n",
    "X_train_num_std = scaler.fit_transform(X_train_num)\n",
    "X_train_std = np.concatenate((X_train_num_std, X_train_cat), axis=1)\n",
    "\n",
    "X_test_num = X_test[:, :len(X_cols_num)]\n",
    "X_test_cat = X_test[:, len(X_cols_num):]\n",
    "X_test_num_std = scaler.fit_transform(X_test_num)\n",
    "X_test_std = np.concatenate((X_test_num_std, X_test_cat), axis=1)"
   ]
  },
  {
   "cell_type": "code",
   "execution_count": 74,
   "id": "9e679c29",
   "metadata": {},
   "outputs": [],
   "source": [
    "def performance(y_test, y_pred):\n",
    "    mse = mean_squared_error(y_test, y_pred)\n",
    "    print(\"MSE : {:.2f}\".format(mse))\n",
    "    rmse = np.sqrt(mean_squared_error(y_test, y_pred))\n",
    "    print(\"RMSE: {:.2f}\".format(rmse))\n",
    "    r2 = r2_score(y_test, y_pred)\n",
    "    print(\"R2 : {:.2f}\".format(r2))\n",
    "    return mse, rmse, r2"
   ]
  },
  {
   "cell_type": "markdown",
   "id": "07ac5ff5",
   "metadata": {},
   "source": [
    "## 3.3 Choix de modèle et noyau"
   ]
  },
  {
   "cell_type": "markdown",
   "id": "85fa6825",
   "metadata": {},
   "source": [
    "### 3.3.1 Baseline avec regression linéaire "
   ]
  },
  {
   "cell_type": "code",
   "execution_count": 93,
   "id": "50b0b75a",
   "metadata": {},
   "outputs": [
    {
     "name": "stdout",
     "output_type": "stream",
     "text": [
      "MSE : 5.91\n",
      "RMSE: 2.43\n",
      "R2 : -0.01\n"
     ]
    }
   ],
   "source": [
    "from sklearn.dummy import DummyRegressor\n",
    "dummy_regressor = DummyRegressor(strategy='mean')\n",
    "\n",
    "# Entraîner le dummy regressor sur les données d'entraînement\n",
    "dummy_regressor.fit(X_train_std, y_train)\n",
    "\n",
    "# Prédire les valeurs cibles pour les données de test\n",
    "y_pred = dummy_regressor.predict(X_test_std)\n",
    "\n",
    "mse, rmse, r2 = performance(y_test, y_pred)"
   ]
  },
  {
   "cell_type": "code",
   "execution_count": 94,
   "id": "6ff1874a",
   "metadata": {},
   "outputs": [
    {
     "name": "stdout",
     "output_type": "stream",
     "text": [
      "MSE : 20.46\n",
      "RMSE: 4.52\n",
      "R2 : -2.49\n"
     ]
    }
   ],
   "source": [
    "model = LinearRegression()\n",
    "model.fit(X_train_std, y_train)\n",
    "y_pred = model.predict(X_test_std)\n",
    "mse, rmse, r2 = performance(y_test, y_pred)"
   ]
  },
  {
   "cell_type": "markdown",
   "id": "7750f89f",
   "metadata": {},
   "source": [
    "### 3.3.2   Modèle  avec  KernelRidgeRegression à  noyau "
   ]
  },
  {
   "cell_type": "code",
   "execution_count": 90,
   "id": "d0872eca",
   "metadata": {},
   "outputs": [
    {
     "name": "stdout",
     "output_type": "stream",
     "text": [
      "MSE : 3.06\n",
      "RMSE: 1.75\n",
      "R2 : 0.48\n"
     ]
    }
   ],
   "source": [
    "# Noyau linéaire \n",
    "model = KernelRidge(alpha=1, kernel='linear')\n",
    "model.fit(X_train_std, y_train)\n",
    "y_pred = model.predict(X_test_std)\n",
    "mse, rmse, r2 = performance(y_test, y_pred)\n"
   ]
  },
  {
   "cell_type": "code",
   "execution_count": 77,
   "id": "89ad298c",
   "metadata": {},
   "outputs": [
    {
     "name": "stdout",
     "output_type": "stream",
     "text": [
      "MSE : 7.79\n",
      "RMSE: 2.79\n",
      "R2 : -0.33\n"
     ]
    }
   ],
   "source": [
    "# avec Noyau non linéaire gaussien rbf \n",
    "model = KernelRidge(alpha=1, kernel='rbf', gamma=0.01)\n",
    "model.fit(X_train_std, y_train)\n",
    "y_pred = model.predict(X_test_std)\n",
    "mse, rmse, r2 = performance(y_test, y_pred)"
   ]
  },
  {
   "cell_type": "markdown",
   "id": "719d582b",
   "metadata": {},
   "source": [
    "Recheche des hyper paramètres par grilles de alpha, gamma et noyau"
   ]
  },
  {
   "cell_type": "code",
   "execution_count": 78,
   "id": "48b7b0ca",
   "metadata": {},
   "outputs": [
    {
     "name": "stdout",
     "output_type": "stream",
     "text": [
      "Meilleurs paramètres :  {'alpha': 3.1622776601683795, 'gamma': 0.0001, 'kernel': 'linear'}\n",
      "Meilleure performance :  1.3440409381379181\n",
      "MSE : 2.74\n",
      "RMSE: 1.66\n",
      "R2 : 0.53\n"
     ]
    }
   ],
   "source": [
    "# Create a KRR model  ( Running time = 10s)\n",
    "kr = KernelRidge()\n",
    "\n",
    "# Définir la grille de paramètres à tester\n",
    "param_grid = {\n",
    "    'alpha': np.logspace(-4, 2, 5),\n",
    "    'gamma': np.logspace(-4, 2, 5),\n",
    "    'kernel': ['linear', 'polynomial', 'rbf']\n",
    "}\n",
    "\n",
    "# Effectuer la recherche d'hyperparamètres par validation croisée et recherche en grille\n",
    "grid_search = GridSearchCV(estimator=kr, param_grid=param_grid, cv=5, n_jobs=-1, scoring='neg_mean_squared_error')\n",
    "grid_search.fit(X_train_std, y_train)\n",
    "\n",
    "# Afficher les meilleurs paramètres trouvés et leur performance\n",
    "print(\"Meilleurs paramètres : \", grid_search.best_params_)\n",
    "print(\"Meilleure performance : \", np.sqrt(-grid_search.best_score_))\n",
    "\n",
    "# Utiliser les meilleurs paramètres pour ajuster le modèle final\n",
    "kr_final = grid_search.best_estimator_\n",
    "\n",
    "# prédire sur le jeu de test avec le modèle sélectionné \n",
    "y_pred = kr_final.predict(X_test_std)\n",
    "\n",
    "# calculer les performance \n",
    "mse, rmse, r2 = performance(y_test, y_pred)"
   ]
  },
  {
   "cell_type": "code",
   "execution_count": null,
   "id": "6b363bac",
   "metadata": {},
   "outputs": [],
   "source": []
  },
  {
   "cell_type": "code",
   "execution_count": 91,
   "id": "3dba3e0e",
   "metadata": {},
   "outputs": [
    {
     "name": "stdout",
     "output_type": "stream",
     "text": [
      "MSE : 79.78\n",
      "RMSE: 8.93\n",
      "R2 : -12.62\n"
     ]
    }
   ],
   "source": [
    "from sklearn.linear_model import Lasso\n",
    "from sklearn.kernel_approximation import PolynomialCountSketch\n",
    "\n",
    "# Transformer les données avec un noyau polynomial de degré 2\n",
    "poly = PolynomialCountSketch(degree=2)\n",
    "X_train_transformed = poly.fit_transform(X_train_std)\n",
    "X_test_transformed = poly.transform(X_test_std)\n",
    "# Initialiser le modèle Lasso avec une régularisation L1\n",
    "lasso = Lasso(alpha=0.1)\n",
    "\n",
    "# Entraîner le modèle sur les données transformées\n",
    "lasso.fit(X_train_transformed, y_train)\n",
    "\n",
    "# Évaluer les performances du modèle sur les données de test transformées\n",
    "y_pred = lasso.predict(X_test_transformed)\n",
    "\n",
    "# calculer les performance \n",
    "mse, rmse, r2 = performance(y_test, y_pred)"
   ]
  },
  {
   "cell_type": "code",
   "execution_count": null,
   "id": "a28ce2f8",
   "metadata": {},
   "outputs": [],
   "source": []
  },
  {
   "cell_type": "code",
   "execution_count": 92,
   "id": "570e825d",
   "metadata": {},
   "outputs": [
    {
     "name": "stdout",
     "output_type": "stream",
     "text": [
      "MSE : 4.39\n",
      "RMSE: 2.10\n",
      "R2 : 0.25\n"
     ]
    }
   ],
   "source": [
    "from sklearn.svm import SVR\n",
    "\n",
    "# Définition du modèle SVM\n",
    "svm_model = SVR(kernel='rbf', C=1)\n",
    "\n",
    "# Entraînement du modèle SVM\n",
    "svm_model.fit(X_train_std, y_train)\n",
    "\n",
    "# Prédiction sur l'ensemble de test\n",
    "y_pred = svm_model.predict(X_test_std)\n",
    "\n",
    "# Calcul de la performance du modèle\n",
    "# calculer les performance \n",
    "mse, rmse, r2 = performance(y_test, y_pred)"
   ]
  },
  {
   "cell_type": "markdown",
   "id": "45eab9b0",
   "metadata": {},
   "source": [
    "### 3.3.3  Modèle ensembliste parallèle : Random forest Regression\n",
    "Ramdon forest est adapté pour prédiction par regression "
   ]
  },
  {
   "cell_type": "code",
   "execution_count": 80,
   "id": "1d155104",
   "metadata": {},
   "outputs": [
    {
     "name": "stdout",
     "output_type": "stream",
     "text": [
      "MSE : 2.86\n",
      "RMSE: 1.69\n",
      "R2 : 0.51\n"
     ]
    }
   ],
   "source": [
    "from sklearn.ensemble import RandomForestRegressor\n",
    "\n",
    "# Créer un modèle de forêt aléatoire\n",
    "rf_regressor = RandomForestRegressor(n_estimators=100, random_state=0)\n",
    "\n",
    "# Former le modèle sur les données non normalisées, car ensembliste n'est pas sensible \n",
    "rf_regressor.fit(X_train, y_train)\n",
    "\n",
    "# prédire sur le jeu de test avec le modèle sélectionné \n",
    "y_pred = rf_regressor.predict(X_test)\n",
    "\n",
    "# calculer les performance \n",
    "mse, rmse, r2 = performance(y_test, y_pred)"
   ]
  },
  {
   "cell_type": "markdown",
   "id": "27615e78",
   "metadata": {},
   "source": [
    "Recheche de hyper paramètres pour RF "
   ]
  },
  {
   "cell_type": "code",
   "execution_count": 20,
   "id": "a6a3f781",
   "metadata": {},
   "outputs": [
    {
     "name": "stdout",
     "output_type": "stream",
     "text": [
      "Meilleurs paramètres :  {'criterion': 'mse', 'max_depth': 20, 'max_features': 'auto', 'min_samples_leaf': 1, 'min_samples_split': 2, 'n_estimators': 200}\n",
      "Meilleure performance :  0.31173363416150407\n",
      "MSE : 0.11\n",
      "RMSE: 0.33\n",
      "R2 : 0.92\n"
     ]
    }
   ],
   "source": [
    "# (Running time = 36min  , with CPU 90%)\n",
    "from sklearn.model_selection import GridSearchCV\n",
    "\n",
    "# Définir le modèle de Random Forest Regression\n",
    "rf = RandomForestRegressor()\n",
    "\n",
    "# Définir la grille de paramètres à tester\n",
    "param_grid = {\n",
    "    'n_estimators': [100, 200, 300],\n",
    "    'max_depth': [5, 10, 20],\n",
    "    'min_samples_split': [2, 5, 10],\n",
    "    'min_samples_leaf': [1, 2, 4],\n",
    "    'max_features': ['auto', 'sqrt', 'log2'],\n",
    "    'criterion': ['mse', 'mae']\n",
    "}\n",
    "\n",
    "# Effectuer la recherche d'hyperparamètres par validation croisée et recherche en grille\n",
    "grid_search = GridSearchCV(estimator=rf, param_grid=param_grid, cv=5, n_jobs=-1, scoring='neg_mean_squared_error')\n",
    "grid_search.fit(X_train, y_train)\n",
    "\n",
    "# Afficher les meilleurs paramètres trouvés et leur performance\n",
    "print(\"Meilleurs paramètres : \", grid_search.best_params_)\n",
    "print(\"Meilleure performance : \", np.sqrt(-grid_search.best_score_))\n",
    "\n",
    "# Utiliser les meilleurs paramètres pour ajuster le modèle final\n",
    "rf_final = grid_search.best_estimator_\n",
    "#rf_final = RandomForestRegressor(**grid_search.best_params_)\n",
    "#rf_final.fit(X_train, y_train)\n",
    "\n",
    "# Prédiction des valeurs de la variable cible pour les données de test\n",
    "y_pred = rf_final.predict(X_test)\n",
    "\n",
    "mse, rmse, r2 = performance(y_test, y_pred)"
   ]
  },
  {
   "cell_type": "markdown",
   "id": "6d1e4159",
   "metadata": {},
   "source": [
    "### 3.3.4. Ensembliste parallèle: Bagging Regression avec Arbre de décision"
   ]
  },
  {
   "cell_type": "code",
   "execution_count": null,
   "id": "8e1b71a5",
   "metadata": {},
   "outputs": [],
   "source": []
  },
  {
   "cell_type": "code",
   "execution_count": 81,
   "id": "6dcc0a90",
   "metadata": {},
   "outputs": [
    {
     "name": "stdout",
     "output_type": "stream",
     "text": [
      "MSE : 3.17\n",
      "RMSE: 1.78\n",
      "R2 : 0.46\n"
     ]
    }
   ],
   "source": [
    "from sklearn.ensemble import BaggingRegressor\n",
    "from sklearn.tree import DecisionTreeRegressor\n",
    "\n",
    "# Division des données en ensembles d'apprentissage et de test\n",
    "#X_train, X_test, y_train, y_test = train_test_split(X, y, test_size=0.3, random_state=42)\n",
    "\n",
    "# Construction du modèle de bagging avec 10 arbres de décision\n",
    "bagging = BaggingRegressor(base_estimator=DecisionTreeRegressor(),\n",
    "                            n_estimators=10, random_state=42)\n",
    "\n",
    "# Apprentissage du modèle sur les données d'apprentissage\n",
    "bagging.fit(X_train, y_train)\n",
    "\n",
    "# Prédiction des valeurs de la variable cible pour les données de test\n",
    "y_pred = bagging.predict(X_test)\n",
    "\n",
    "# Evaluation de la précision des prévisions\n",
    "mse, rmse, r2 = performance(y_test, y_pred)"
   ]
  },
  {
   "cell_type": "markdown",
   "id": "fbd7c93e",
   "metadata": {},
   "source": [
    "Hyper paramètres pour Bagging"
   ]
  },
  {
   "cell_type": "code",
   "execution_count": 82,
   "id": "32442838",
   "metadata": {},
   "outputs": [
    {
     "name": "stdout",
     "output_type": "stream",
     "text": [
      "Meilleurs hyper-paramètres :  {'n_estimators': 500}\n",
      "Score R2 :  0.8210719167721401\n",
      "MSE : 2.79\n",
      "RMSE: 1.67\n",
      "R2 : 0.52\n"
     ]
    }
   ],
   "source": [
    "# Définir le modèle de base  (running time = 10s)\n",
    "base_model = DecisionTreeRegressor()\n",
    "\n",
    "# Définir le modèle Bagging avec GridSearchCV\n",
    "bagging_model = GridSearchCV(BaggingRegressor(base_estimator=base_model),\n",
    "                             param_grid={'n_estimators': [10, 100, 500]},\n",
    "                             cv=5)\n",
    "\n",
    "# Adapter le modèle sur les données d'entraînement\n",
    "bagging_model.fit(X_train, y_train)\n",
    "\n",
    "# Obtenir les meilleurs hyper-paramètres et le score R2 correspondant\n",
    "print(\"Meilleurs hyper-paramètres : \", bagging_model.best_params_)\n",
    "print(\"Score R2 : \", bagging_model.best_score_)\n",
    "\n",
    "# Utiliser les meilleurs paramètres pour ajuster le modèle final\n",
    "bagging_final = bagging_model.best_estimator_\n",
    "#bagging_final = RandomForestRegressor(**bagging_model.best_params_)\n",
    "#bagging_final.fit(X_train, y_train)\n",
    "\n",
    "# Prédiction des valeurs de la variable cible pour les données de test\n",
    "y_pred = bagging_final.predict(X_test)\n",
    "\n",
    "mse, rmse, r2 = performance(y_test, y_pred)"
   ]
  },
  {
   "cell_type": "markdown",
   "id": "f65a9984",
   "metadata": {},
   "source": [
    "### 3.3.5 Ensembliste séquentielle : GBoostRegression"
   ]
  },
  {
   "cell_type": "markdown",
   "id": "ae21fc00",
   "metadata": {},
   "source": [
    "GBoost Model "
   ]
  },
  {
   "cell_type": "code",
   "execution_count": 96,
   "id": "6271cedf",
   "metadata": {},
   "outputs": [
    {
     "name": "stdout",
     "output_type": "stream",
     "text": [
      "MSE : 2.96\n",
      "RMSE: 1.72\n",
      "R2 : 0.50\n",
      "Feature: 0, Score: 0.00491\n",
      "Feature: 1, Score: 0.65849\n",
      "Feature: 2, Score: 0.03071\n",
      "Feature: 3, Score: 0.06283\n",
      "Feature: 4, Score: 0.06688\n",
      "Feature: 5, Score: 0.15490\n",
      "Feature: 6, Score: 0.00000\n",
      "Feature: 7, Score: 0.00001\n",
      "Feature: 8, Score: 0.00013\n",
      "Feature: 9, Score: 0.00000\n",
      "Feature: 10, Score: 0.00044\n",
      "Feature: 11, Score: 0.00092\n",
      "Feature: 12, Score: 0.00000\n",
      "Feature: 13, Score: 0.00001\n",
      "Feature: 14, Score: 0.00126\n",
      "Feature: 15, Score: 0.00110\n",
      "Feature: 16, Score: 0.00000\n",
      "Feature: 17, Score: 0.00000\n",
      "Feature: 18, Score: 0.00013\n",
      "Feature: 19, Score: 0.00000\n",
      "Feature: 20, Score: 0.00000\n",
      "Feature: 21, Score: 0.00051\n",
      "Feature: 22, Score: 0.00000\n",
      "Feature: 23, Score: 0.00006\n",
      "Feature: 24, Score: 0.00000\n",
      "Feature: 25, Score: 0.00000\n",
      "Feature: 26, Score: 0.00034\n",
      "Feature: 27, Score: 0.00000\n",
      "Feature: 28, Score: 0.00000\n",
      "Feature: 29, Score: 0.00000\n",
      "Feature: 30, Score: 0.00000\n",
      "Feature: 31, Score: 0.00000\n",
      "Feature: 32, Score: 0.00000\n",
      "Feature: 33, Score: 0.00236\n",
      "Feature: 34, Score: 0.00000\n",
      "Feature: 35, Score: 0.00544\n",
      "Feature: 36, Score: 0.00000\n",
      "Feature: 37, Score: 0.00059\n",
      "Feature: 38, Score: 0.00009\n",
      "Feature: 39, Score: 0.00000\n",
      "Feature: 40, Score: 0.00003\n",
      "Feature: 41, Score: 0.00000\n",
      "Feature: 42, Score: 0.00002\n",
      "Feature: 43, Score: 0.00000\n",
      "Feature: 44, Score: 0.00010\n",
      "Feature: 45, Score: 0.00037\n",
      "Feature: 46, Score: 0.00016\n",
      "Feature: 47, Score: 0.00007\n",
      "Feature: 48, Score: 0.00004\n",
      "Feature: 49, Score: 0.00712\n"
     ]
    },
    {
     "data": {
      "image/png": "[encoded data removed]",
      "text/plain": [
       "<Figure size 640x480 with 1 Axes>"
      ]
     },
     "metadata": {},
     "output_type": "display_data"
    }
   ],
   "source": [
    "from sklearn.ensemble import GradientBoostingRegressor\n",
    "\n",
    "# Division des données en ensembles d'apprentissage et de test\n",
    "#X_train, X_test, y_train, y_test = train_test_split(X, y, test_size=0.3, random_state=42)\n",
    "\n",
    "# Initialiser le modèle Gradient Boosting Regressor\n",
    "gb_reg = GradientBoostingRegressor(n_estimators=100, learning_rate=0.1, max_depth=3, random_state=42)\n",
    "\n",
    "# Entraîner le modèle sur l'ensemble de données d'entraînement\n",
    "gb_reg.fit(X_train, y_train)\n",
    "\n",
    "# Prédire les valeurs de sortie sur l'ensemble de données de test\n",
    "y_pred = gb_reg.predict(X_test)\n",
    "\n",
    "# Calculer l'erreur quadratique moyenne (MSE) du modèle\n",
    "mse, rmse, r2 = performance(y_test, y_pred)\n",
    "\n",
    "# get importance\n",
    "importance = gb_reg.feature_importances_\n",
    "# summarize feature importance\n",
    "for i,v in enumerate(importance):\n",
    " print('Feature: %0d, Score: %.5f' % (i,v))\n",
    "# plot feature importance\n",
    "plt.bar([x for x in range(len(importance))], importance)\n",
    "plt.show()\n",
    "\n",
    "### SHAP \n",
    "\n",
    "# Calculer les valeurs SHAP pour une instance de données de test spécifique\n",
    "explainer = shap.Explainer(model)\n",
    "shap_values = explainer(X_test.iloc[0, :])\n",
    "\n",
    "# Créer une visualisation pour interpréter les valeurs SHAP\n",
    "shap.plots.scatter(shap_values[:, 'SiteEUI(kBtu/sf)'], color=shap_values)\n",
    "\n",
    "# Afficher les valeurs SHAP triées par ordre d'importance décroissante\n",
    "shap.summary_plot(shap_values, X_test)\n"
   ]
  },
  {
   "cell_type": "markdown",
   "id": "815a265e",
   "metadata": {},
   "source": [
    "Super parametres pour GBoost"
   ]
  },
  {
   "cell_type": "code",
   "execution_count": 84,
   "id": "de07dacd",
   "metadata": {},
   "outputs": [
    {
     "name": "stdout",
     "output_type": "stream",
     "text": [
      "Meilleurs hyper-paramètres :  {'learning_rate': 0.1, 'loss': 'huber', 'max_depth': 4, 'n_estimators': 100, 'subsample': 1.0}\n",
      "Score R2 :  0.8885813165775976\n",
      "MSE : 2.86\n",
      "RMSE: 1.69\n",
      "R2 : 0.51\n"
     ]
    }
   ],
   "source": [
    "# Définir le modèle GBoostRegression avec GridSearchCV   (running time = 10 min , CPU at 30%)\n",
    "gboost_model = GridSearchCV(GradientBoostingRegressor(),\n",
    "                            param_grid={'n_estimators': [50, 100, 200],\n",
    "                                        'max_depth': [2, 4, 6],\n",
    "                                        'learning_rate': [0.01, 0.1, 1],\n",
    "                                        'subsample': [0.5, 0.8, 1.0],\n",
    "                                        'loss': ['ls', 'lad', 'huber']},\n",
    "                            cv=5)\n",
    "\n",
    "# Adapter le modèle sur les données d'entraînement\n",
    "gboost_model.fit(X_train, y_train)\n",
    "\n",
    "# Obtenir les meilleurs hyper-paramètres et le score R2 correspondant\n",
    "print(\"Meilleurs hyper-paramètres : \", gboost_model.best_params_)\n",
    "print(\"Score R2 : \", gboost_model.best_score_)\n",
    "\n",
    "# Utiliser les meilleurs paramètres pour ajuster le modèle final\n",
    "gboost_final = gboost_model.best_estimator_\n",
    "#gboost_final = GradientBoostingRegressor(**gboost_model.best_params_)\n",
    "#gboost_final.fit(X_train, y_train)\n",
    "\n",
    "# Prédiction des valeurs de la variable cible pour les données de test\n",
    "y_pred = gboost_final.predict(X_test)\n",
    "\n",
    "mse, rmse, r2 = performance(y_test, y_pred)\n",
    "\n"
   ]
  },
  {
   "cell_type": "markdown",
   "id": "2f1ad3c5",
   "metadata": {},
   "source": [
    "### 3.3.6 Arbre de décision "
   ]
  },
  {
   "cell_type": "code",
   "execution_count": 85,
   "id": "dc79f63e",
   "metadata": {},
   "outputs": [
    {
     "name": "stdout",
     "output_type": "stream",
     "text": [
      "MSE : 2.70\n",
      "RMSE: 1.64\n",
      "R2 : 0.54\n"
     ]
    }
   ],
   "source": [
    "from sklearn.tree import DecisionTreeRegressor\n",
    "\n",
    "# création d'un objet d'arbre de décision de régression\n",
    "regressor = DecisionTreeRegressor(random_state=42)\n",
    "\n",
    "# entraînement de l'arbre de décision sur les données d'entraînement\n",
    "regressor.fit(X_train, y_train)\n",
    "\n",
    "# prédiction des résultats de la variable dépendante sur les données de test\n",
    "y_pred = regressor.predict(X_test)\n",
    "\n",
    "# Calculer l'erreur quadratique moyenne (MSE) du modèle\n",
    "mse, rmse, r2 = performance(y_test, y_pred)"
   ]
  },
  {
   "cell_type": "code",
   "execution_count": 86,
   "id": "5c6a2e9d",
   "metadata": {},
   "outputs": [
    {
     "name": "stdout",
     "output_type": "stream",
     "text": [
      "{'max_depth': 8, 'min_samples_leaf': 2, 'min_samples_split': 8}\n",
      "MSE : 2.99\n",
      "RMSE: 1.73\n",
      "R2 : 0.49\n"
     ]
    }
   ],
   "source": [
    "# création d'un objet d'arbre de décision de régression  ()\n",
    "regressor = DecisionTreeRegressor(random_state=0)\n",
    "\n",
    "# définition de la grille de recherche\n",
    "param_grid = {'max_depth': [2, 4, 6, 8],\n",
    "              'min_samples_split': [2, 4, 6, 8],\n",
    "              'min_samples_leaf': [1, 2, 4, 6]}\n",
    "\n",
    "# création d'un objet GridSearchCV pour la recherche sur grille\n",
    "grid_search = GridSearchCV(regressor, param_grid=param_grid, cv=5)\n",
    "\n",
    "# entraînement du modèle avec la recherche sur grille\n",
    "grid_search.fit(X_train, y_train)\n",
    "\n",
    "# affichage des meilleurs hyperparamètres\n",
    "print(grid_search.best_params_)\n",
    "\n",
    "# Utiliser les meilleurs paramètres pour ajuster le modèle final\n",
    "grid_final = grid_search.best_estimator_\n",
    "\n",
    "# Prédiction des valeurs de la variable cible pour les données de test\n",
    "y_pred = grid_final.predict(X_test)\n",
    "\n",
    "mse, rmse, r2 = performance(y_test, y_pred)"
   ]
  },
  {
   "cell_type": "code",
   "execution_count": 37,
   "id": "d3876fa8",
   "metadata": {},
   "outputs": [
    {
     "name": "stdout",
     "output_type": "stream",
     "text": [
      "[0.87687564 0.89591868 0.84578373 0.87807802 0.81716989]\n",
      "Mean: 0.8627651928396325\n",
      "Std: 0.02792863416819717\n"
     ]
    }
   ],
   "source": [
    "from sklearn.model_selection import KFold\n",
    "from sklearn.model_selection import cross_val_score\n",
    "\n",
    "seed = 7\n",
    "kfold = KFold(n_splits=5, shuffle=True, random_state=seed)\n",
    "\n",
    "# Create a model \n",
    "model = DecisionTreeRegressor()\n",
    "\n",
    "# Train and evaluate multiple models using kfolds\n",
    "results = cross_val_score(model, X, y, cv=kfold, scoring='r2')\n",
    "print(results)\n",
    "print(\"Mean:\", results.mean())\n",
    "print(\"Std:\", results.std())"
   ]
  },
  {
   "cell_type": "code",
   "execution_count": 30,
   "id": "1c6f0ccc",
   "metadata": {},
   "outputs": [
    {
     "data": {
      "image/png": "[encoded data removed]",
      "text/plain": [
       "<Figure size 640x480 with 1 Axes>"
      ]
     },
     "metadata": {},
     "output_type": "display_data"
    }
   ],
   "source": [
    "plt.plot(np.exp(y_test), np.exp(y_pred), 'o')\n",
    "plt.xlabel('Données de test')\n",
    "plt.ylabel('Prédictions')\n",
    "plt.title('Prédictions sur les données de test')\n",
    "\n",
    "# afficher le graphique\n",
    "plt.show()"
   ]
  },
  {
   "cell_type": "code",
   "execution_count": 31,
   "id": "57eb1069",
   "metadata": {},
   "outputs": [
    {
     "name": "stdout",
     "output_type": "stream",
     "text": [
      "MSE : 4.15\n",
      "RMSE: 2.04\n",
      "R2 : 0.42\n"
     ]
    }
   ],
   "source": [
    "mse, rmse, r2 = performance(np.exp(y_test), np.exp(y_pred))"
   ]
  },
  {
   "cell_type": "code",
   "execution_count": 87,
   "id": "0df8ec9f",
   "metadata": {},
   "outputs": [
    {
     "name": "stdout",
     "output_type": "stream",
     "text": [
      "MSE : 5.91\n",
      "RMSE: 2.43\n",
      "R2 : -0.01\n"
     ]
    }
   ],
   "source": []
  },
  {
   "cell_type": "code",
   "execution_count": null,
   "id": "80d51b8d",
   "metadata": {},
   "outputs": [],
   "source": []
  },
  {
   "cell_type": "markdown",
   "id": "85ff6d12",
   "metadata": {},
   "source": [
    "### 3.3.6  Bagging avec plusieurs modèles "
   ]
  },
  {
   "cell_type": "code",
   "execution_count": null,
   "id": "016dbd83",
   "metadata": {},
   "outputs": [],
   "source": [
    "# Create base models\n",
    "\n",
    "model2 = LinearRegression()\n",
    "model1 = KernelRidge(alpha=0.1, kernel='rbf', gamma=0.1)\n",
    "\n",
    "# Create an ensemble of models using bagging\n",
    "bagging = BaggingRegressor(base_estimator=[model1, model2], n_estimators=10, random_state=42)\n",
    "\n",
    "# Fit the bagging ensemble to the training data\n",
    "bagging.fit(X_train_std, y_train)\n",
    "\n",
    "# Evaluate the performance of the bagging ensemble on the test data\n",
    "y_pred = bagging.predict(X_test_std)\n",
    "mse = mean_squared_error(y_test, y_pred)\n",
    "print(\"Mean Squared Error:\", mse)\n",
    "mse, rmse, r2 = performance(y_test, y_pred)"
   ]
  },
  {
   "cell_type": "code",
   "execution_count": null,
   "id": "4330cf83",
   "metadata": {},
   "outputs": [],
   "source": []
  },
  {
   "cell_type": "code",
   "execution_count": null,
   "id": "1a8b2d7e",
   "metadata": {},
   "outputs": [],
   "source": []
  },
  {
   "cell_type": "code",
   "execution_count": null,
   "id": "6e14b116",
   "metadata": {},
   "outputs": [],
   "source": []
  },
  {
   "cell_type": "code",
   "execution_count": null,
   "id": "d3eac0c3",
   "metadata": {},
   "outputs": [],
   "source": []
  },
  {
   "cell_type": "code",
   "execution_count": null,
   "id": "e9f63890",
   "metadata": {},
   "outputs": [],
   "source": []
  },
  {
   "cell_type": "code",
   "execution_count": null,
   "id": "0f1cc28d",
   "metadata": {},
   "outputs": [],
   "source": []
  },
  {
   "cell_type": "code",
   "execution_count": null,
   "id": "9873630d",
   "metadata": {},
   "outputs": [],
   "source": []
  },
  {
   "cell_type": "code",
   "execution_count": null,
   "id": "da7ecf6c",
   "metadata": {},
   "outputs": [],
   "source": []
  },
  {
   "cell_type": "code",
   "execution_count": null,
   "id": "c55bd77e",
   "metadata": {},
   "outputs": [],
   "source": []
  },
  {
   "cell_type": "code",
   "execution_count": null,
   "id": "7345a7e0",
   "metadata": {},
   "outputs": [],
   "source": []
  },
  {
   "cell_type": "code",
   "execution_count": null,
   "id": "4d6758ea",
   "metadata": {},
   "outputs": [],
   "source": []
  },
  {
   "cell_type": "code",
   "execution_count": null,
   "id": "e72c9e42",
   "metadata": {},
   "outputs": [],
   "source": []
  },
  {
   "cell_type": "code",
   "execution_count": null,
   "id": "421e4182",
   "metadata": {},
   "outputs": [],
   "source": []
  },
  {
   "cell_type": "code",
   "execution_count": null,
   "id": "ea4f463f",
   "metadata": {},
   "outputs": [],
   "source": []
  },
  {
   "cell_type": "code",
   "execution_count": null,
   "id": "7f87f356",
   "metadata": {},
   "outputs": [],
   "source": []
  }
 ],
 "metadata": {
  "kernelspec": {
   "display_name": "Python 3 (ipykernel)",
   "language": "python",
   "name": "python3"
  },
  "language_info": {
   "codemirror_mode": {
    "name": "ipython",
    "version": 3
   },
   "file_extension": ".py",
   "mimetype": "text/x-python",
   "name": "python",
   "nbconvert_exporter": "python",
   "pygments_lexer": "ipython3",
   "version": "3.9.13"
  }
 },
 "nbformat": 4,
 "nbformat_minor": 5
}
