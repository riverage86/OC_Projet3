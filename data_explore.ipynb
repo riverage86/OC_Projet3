{
 "cells": [
  {
   "cell_type": "code",
   "execution_count": 64,
   "id": "aaa3b51c",
   "metadata": {},
   "outputs": [],
   "source": [
    "import pandas as pd\n",
    "import numpy as np\n",
    "import warnings \n",
    "import matplotlib.pyplot as plt\n",
    "from sklearn.linear_model import LinearRegression\n",
    "import seaborn as sns"
   ]
  },
  {
   "cell_type": "code",
   "execution_count": null,
   "id": "224d93b5",
   "metadata": {},
   "outputs": [],
   "source": [
    "warnings.filterwarnings('ignore')"
   ]
  },
  {
   "cell_type": "code",
   "execution_count": 65,
   "id": "bed1bf6d",
   "metadata": {},
   "outputs": [],
   "source": [
    "data = pd.read_csv('2016_Building.csv',  engine = 'python',  on_bad_lines = 'skip')"
   ]
  },
  {
   "cell_type": "code",
   "execution_count": 66,
   "id": "2d9cbdaa",
   "metadata": {},
   "outputs": [
    {
     "data": {
      "text/html": [
       "<div>\n",
       "<style scoped>\n",
       "    .dataframe tbody tr th:only-of-type {\n",
       "        vertical-align: middle;\n",
       "    }\n",
       "\n",
       "    .dataframe tbody tr th {\n",
       "        vertical-align: top;\n",
       "    }\n",
       "\n",
       "    .dataframe thead th {\n",
       "        text-align: right;\n",
       "    }\n",
       "</style>\n",
       "<table border=\"1\" class=\"dataframe\">\n",
       "  <thead>\n",
       "    <tr style=\"text-align: right;\">\n",
       "      <th></th>\n",
       "      <th>OSEBuildingID</th>\n",
       "      <th>DataYear</th>\n",
       "      <th>BuildingType</th>\n",
       "      <th>PrimaryPropertyType</th>\n",
       "      <th>PropertyName</th>\n",
       "      <th>Address</th>\n",
       "      <th>City</th>\n",
       "      <th>State</th>\n",
       "      <th>ZipCode</th>\n",
       "      <th>TaxParcelIdentificationNumber</th>\n",
       "      <th>...</th>\n",
       "      <th>Electricity(kWh)</th>\n",
       "      <th>Electricity(kBtu)</th>\n",
       "      <th>NaturalGas(therms)</th>\n",
       "      <th>NaturalGas(kBtu)</th>\n",
       "      <th>DefaultData</th>\n",
       "      <th>Comments</th>\n",
       "      <th>ComplianceStatus</th>\n",
       "      <th>Outlier</th>\n",
       "      <th>TotalGHGEmissions</th>\n",
       "      <th>GHGEmissionsIntensity</th>\n",
       "    </tr>\n",
       "  </thead>\n",
       "  <tbody>\n",
       "    <tr>\n",
       "      <th>0</th>\n",
       "      <td>1</td>\n",
       "      <td>2016</td>\n",
       "      <td>NonResidential</td>\n",
       "      <td>Hotel</td>\n",
       "      <td>Mayflower park hotel</td>\n",
       "      <td>405 Olive way</td>\n",
       "      <td>Seattle</td>\n",
       "      <td>WA</td>\n",
       "      <td>98101.0</td>\n",
       "      <td>0659000030</td>\n",
       "      <td>...</td>\n",
       "      <td>1.156514e+06</td>\n",
       "      <td>3946027.0</td>\n",
       "      <td>12764.52930</td>\n",
       "      <td>1276453.0</td>\n",
       "      <td>False</td>\n",
       "      <td>NaN</td>\n",
       "      <td>Compliant</td>\n",
       "      <td>NaN</td>\n",
       "      <td>249.98</td>\n",
       "      <td>2.83</td>\n",
       "    </tr>\n",
       "    <tr>\n",
       "      <th>1</th>\n",
       "      <td>2</td>\n",
       "      <td>2016</td>\n",
       "      <td>NonResidential</td>\n",
       "      <td>Hotel</td>\n",
       "      <td>Paramount Hotel</td>\n",
       "      <td>724 Pine street</td>\n",
       "      <td>Seattle</td>\n",
       "      <td>WA</td>\n",
       "      <td>98101.0</td>\n",
       "      <td>0659000220</td>\n",
       "      <td>...</td>\n",
       "      <td>9.504252e+05</td>\n",
       "      <td>3242851.0</td>\n",
       "      <td>51450.81641</td>\n",
       "      <td>5145082.0</td>\n",
       "      <td>False</td>\n",
       "      <td>NaN</td>\n",
       "      <td>Compliant</td>\n",
       "      <td>NaN</td>\n",
       "      <td>295.86</td>\n",
       "      <td>2.86</td>\n",
       "    </tr>\n",
       "    <tr>\n",
       "      <th>2</th>\n",
       "      <td>3</td>\n",
       "      <td>2016</td>\n",
       "      <td>NonResidential</td>\n",
       "      <td>Hotel</td>\n",
       "      <td>5673-The Westin Seattle</td>\n",
       "      <td>1900 5th Avenue</td>\n",
       "      <td>Seattle</td>\n",
       "      <td>WA</td>\n",
       "      <td>98101.0</td>\n",
       "      <td>0659000475</td>\n",
       "      <td>...</td>\n",
       "      <td>1.451544e+07</td>\n",
       "      <td>49526664.0</td>\n",
       "      <td>14938.00000</td>\n",
       "      <td>1493800.0</td>\n",
       "      <td>False</td>\n",
       "      <td>NaN</td>\n",
       "      <td>Compliant</td>\n",
       "      <td>NaN</td>\n",
       "      <td>2089.28</td>\n",
       "      <td>2.19</td>\n",
       "    </tr>\n",
       "    <tr>\n",
       "      <th>3</th>\n",
       "      <td>5</td>\n",
       "      <td>2016</td>\n",
       "      <td>NonResidential</td>\n",
       "      <td>Hotel</td>\n",
       "      <td>HOTEL MAX</td>\n",
       "      <td>620 STEWART ST</td>\n",
       "      <td>Seattle</td>\n",
       "      <td>WA</td>\n",
       "      <td>98101.0</td>\n",
       "      <td>0659000640</td>\n",
       "      <td>...</td>\n",
       "      <td>8.115253e+05</td>\n",
       "      <td>2768924.0</td>\n",
       "      <td>18112.13086</td>\n",
       "      <td>1811213.0</td>\n",
       "      <td>False</td>\n",
       "      <td>NaN</td>\n",
       "      <td>Compliant</td>\n",
       "      <td>NaN</td>\n",
       "      <td>286.43</td>\n",
       "      <td>4.67</td>\n",
       "    </tr>\n",
       "    <tr>\n",
       "      <th>4</th>\n",
       "      <td>8</td>\n",
       "      <td>2016</td>\n",
       "      <td>NonResidential</td>\n",
       "      <td>Hotel</td>\n",
       "      <td>WARWICK SEATTLE HOTEL (ID8)</td>\n",
       "      <td>401 LENORA ST</td>\n",
       "      <td>Seattle</td>\n",
       "      <td>WA</td>\n",
       "      <td>98121.0</td>\n",
       "      <td>0659000970</td>\n",
       "      <td>...</td>\n",
       "      <td>1.573449e+06</td>\n",
       "      <td>5368607.0</td>\n",
       "      <td>88039.98438</td>\n",
       "      <td>8803998.0</td>\n",
       "      <td>False</td>\n",
       "      <td>NaN</td>\n",
       "      <td>Compliant</td>\n",
       "      <td>NaN</td>\n",
       "      <td>505.01</td>\n",
       "      <td>2.88</td>\n",
       "    </tr>\n",
       "  </tbody>\n",
       "</table>\n",
       "<p>5 rows × 46 columns</p>\n",
       "</div>"
      ],
      "text/plain": [
       "   OSEBuildingID  DataYear    BuildingType PrimaryPropertyType  \\\n",
       "0              1      2016  NonResidential               Hotel   \n",
       "1              2      2016  NonResidential               Hotel   \n",
       "2              3      2016  NonResidential               Hotel   \n",
       "3              5      2016  NonResidential               Hotel   \n",
       "4              8      2016  NonResidential               Hotel   \n",
       "\n",
       "                  PropertyName          Address     City State  ZipCode  \\\n",
       "0         Mayflower park hotel    405 Olive way  Seattle    WA  98101.0   \n",
       "1              Paramount Hotel  724 Pine street  Seattle    WA  98101.0   \n",
       "2      5673-The Westin Seattle  1900 5th Avenue  Seattle    WA  98101.0   \n",
       "3                    HOTEL MAX   620 STEWART ST  Seattle    WA  98101.0   \n",
       "4  WARWICK SEATTLE HOTEL (ID8)    401 LENORA ST  Seattle    WA  98121.0   \n",
       "\n",
       "  TaxParcelIdentificationNumber  ...  Electricity(kWh) Electricity(kBtu)  \\\n",
       "0                    0659000030  ...      1.156514e+06         3946027.0   \n",
       "1                    0659000220  ...      9.504252e+05         3242851.0   \n",
       "2                    0659000475  ...      1.451544e+07        49526664.0   \n",
       "3                    0659000640  ...      8.115253e+05         2768924.0   \n",
       "4                    0659000970  ...      1.573449e+06         5368607.0   \n",
       "\n",
       "   NaturalGas(therms)  NaturalGas(kBtu)  DefaultData  Comments  \\\n",
       "0         12764.52930         1276453.0        False       NaN   \n",
       "1         51450.81641         5145082.0        False       NaN   \n",
       "2         14938.00000         1493800.0        False       NaN   \n",
       "3         18112.13086         1811213.0        False       NaN   \n",
       "4         88039.98438         8803998.0        False       NaN   \n",
       "\n",
       "   ComplianceStatus  Outlier  TotalGHGEmissions  GHGEmissionsIntensity  \n",
       "0         Compliant      NaN             249.98                   2.83  \n",
       "1         Compliant      NaN             295.86                   2.86  \n",
       "2         Compliant      NaN            2089.28                   2.19  \n",
       "3         Compliant      NaN             286.43                   4.67  \n",
       "4         Compliant      NaN             505.01                   2.88  \n",
       "\n",
       "[5 rows x 46 columns]"
      ]
     },
     "execution_count": 66,
     "metadata": {},
     "output_type": "execute_result"
    }
   ],
   "source": [
    "data.head()"
   ]
  },
  {
   "cell_type": "code",
   "execution_count": 68,
   "id": "dc4ab4dd",
   "metadata": {},
   "outputs": [
    {
     "data": {
      "text/plain": [
       "(3376, 46)"
      ]
     },
     "execution_count": 68,
     "metadata": {},
     "output_type": "execute_result"
    }
   ],
   "source": [
    "data.shape"
   ]
  },
  {
   "cell_type": "markdown",
   "id": "e7fba379",
   "metadata": {},
   "source": [
    "# 1. Nettoyage des données\n",
    "\n",
    "## 1.1  éliminer les propriétes avec les conditions :\n",
    "- Building résidentiel (Multifamily)\n",
    "- Building with default data (The property used default data for at least one property characteristic.)\n",
    "- Outliers buildings  (Whether a property is a high or low outlier (Y/N))\n",
    "- Compliances (Whether a property has met energy benchmarking requirements for the current reporting year.)"
   ]
  },
  {
   "cell_type": "code",
   "execution_count": 69,
   "id": "f341477b",
   "metadata": {},
   "outputs": [
    {
     "data": {
      "text/plain": [
       "0.5059241706161137"
      ]
     },
     "execution_count": 69,
     "metadata": {},
     "output_type": "execute_result"
    }
   ],
   "source": [
    "data.BuildingType.str.contains('Multifamily').sum()/len(data)"
   ]
  },
  {
   "cell_type": "code",
   "execution_count": 70,
   "id": "be36f821",
   "metadata": {},
   "outputs": [
    {
     "data": {
      "text/plain": [
       "0.03347156398104265"
      ]
     },
     "execution_count": 70,
     "metadata": {},
     "output_type": "execute_result"
    }
   ],
   "source": [
    "data['DefaultData'].apply(lambda x: x).sum()/len(data)"
   ]
  },
  {
   "cell_type": "code",
   "execution_count": 71,
   "id": "66afa507",
   "metadata": {},
   "outputs": [
    {
     "data": {
      "text/plain": [
       "0.009478672985781991"
      ]
     },
     "execution_count": 71,
     "metadata": {},
     "output_type": "execute_result"
    }
   ],
   "source": [
    "data['Outlier'].notnull().sum()/len(data)"
   ]
  },
  {
   "cell_type": "code",
   "execution_count": 72,
   "id": "db2ac489",
   "metadata": {},
   "outputs": [
    {
     "data": {
      "text/plain": [
       "0.04887440758293839"
      ]
     },
     "execution_count": 72,
     "metadata": {},
     "output_type": "execute_result"
    }
   ],
   "source": [
    "data['ComplianceStatus'].apply(lambda x: (x != 'Compliant')).sum()/len(data)"
   ]
  },
  {
   "cell_type": "code",
   "execution_count": 73,
   "id": "0935ff89",
   "metadata": {},
   "outputs": [],
   "source": [
    "data_1 = data.drop(data[data['BuildingType'].str.contains('Multifamily')].index)"
   ]
  },
  {
   "cell_type": "code",
   "execution_count": 74,
   "id": "af202c7c",
   "metadata": {},
   "outputs": [
    {
     "data": {
      "text/plain": [
       "(1668, 46)"
      ]
     },
     "execution_count": 74,
     "metadata": {},
     "output_type": "execute_result"
    }
   ],
   "source": [
    "data_1.shape"
   ]
  },
  {
   "cell_type": "code",
   "execution_count": 75,
   "id": "e0bc9dc5",
   "metadata": {},
   "outputs": [],
   "source": [
    "data_1 = data_1.drop(data_1[data_1['DefaultData']].index)"
   ]
  },
  {
   "cell_type": "code",
   "execution_count": 76,
   "id": "5fcdedb3",
   "metadata": {},
   "outputs": [
    {
     "data": {
      "text/plain": [
       "(1580, 46)"
      ]
     },
     "execution_count": 76,
     "metadata": {},
     "output_type": "execute_result"
    }
   ],
   "source": [
    "data_1.shape"
   ]
  },
  {
   "cell_type": "code",
   "execution_count": 77,
   "id": "23620881",
   "metadata": {},
   "outputs": [],
   "source": [
    "data_1 = data_1.drop(data_1[~data_1['ComplianceStatus'].str.contains('Compliant')].index)"
   ]
  },
  {
   "cell_type": "code",
   "execution_count": 78,
   "id": "08efb0e3",
   "metadata": {},
   "outputs": [
    {
     "data": {
      "text/plain": [
       "(1566, 46)"
      ]
     },
     "execution_count": 78,
     "metadata": {},
     "output_type": "execute_result"
    }
   ],
   "source": [
    "data_1.shape"
   ]
  },
  {
   "cell_type": "code",
   "execution_count": 79,
   "id": "a23dd7fd",
   "metadata": {},
   "outputs": [],
   "source": [
    "data_1 = data_1.drop(data_1[data_1['Outlier'].notnull()].index)"
   ]
  },
  {
   "cell_type": "code",
   "execution_count": 80,
   "id": "7c3c02ca",
   "metadata": {},
   "outputs": [
    {
     "data": {
      "text/plain": [
       "(1551, 46)"
      ]
     },
     "execution_count": 80,
     "metadata": {},
     "output_type": "execute_result"
    }
   ],
   "source": [
    "data_1.shape"
   ]
  },
  {
   "cell_type": "code",
   "execution_count": 81,
   "id": "9f7caeb1",
   "metadata": {},
   "outputs": [],
   "source": [
    "data_1.to_csv('data_1.csv')"
   ]
  },
  {
   "cell_type": "markdown",
   "id": "ecaf27f3",
   "metadata": {},
   "source": [
    "## 1.2  éliminer les features  qui ne sont pas utilisées :"
   ]
  },
  {
   "cell_type": "code",
   "execution_count": 84,
   "id": "84f758e1",
   "metadata": {},
   "outputs": [],
   "source": [
    "Nouse_features = ['DataYear', 'PropertyName', 'BuildingType', 'City', 'State', 'ZipCode', 'Outlier', 'ComplianceStatus','DefaultData', 'YearsENERGYSTARCertified', 'TaxParcelIdentificationNumber', 'Address', 'Comments', 'Neighborhood',\\\n",
    "                 'LargestPropertyUseType', 'LargestPropertyUseTypeGFA', 'SecondLargestPropertyUseType', 'SecondLargestPropertyUseTypeGFA', 'ThirdLargestPropertyUseType', 'ThirdLargestPropertyUseTypeGFA', 'NumberofBuildings', \\\n",
    "                 'OSEBuildingID']"
   ]
  },
  {
   "cell_type": "code",
   "execution_count": 85,
   "id": "e3fa1ce2",
   "metadata": {},
   "outputs": [],
   "source": [
    "data_2 = data_1.drop(columns = Nouse_features)"
   ]
  },
  {
   "cell_type": "code",
   "execution_count": 86,
   "id": "4cda0d30",
   "metadata": {},
   "outputs": [
    {
     "data": {
      "text/plain": [
       "(1551, 24)"
      ]
     },
     "execution_count": 86,
     "metadata": {},
     "output_type": "execute_result"
    }
   ],
   "source": [
    "data_2.shape"
   ]
  },
  {
   "cell_type": "code",
   "execution_count": 87,
   "id": "afc19da2",
   "metadata": {},
   "outputs": [
    {
     "data": {
      "text/html": [
       "<div>\n",
       "<style scoped>\n",
       "    .dataframe tbody tr th:only-of-type {\n",
       "        vertical-align: middle;\n",
       "    }\n",
       "\n",
       "    .dataframe tbody tr th {\n",
       "        vertical-align: top;\n",
       "    }\n",
       "\n",
       "    .dataframe thead th {\n",
       "        text-align: right;\n",
       "    }\n",
       "</style>\n",
       "<table border=\"1\" class=\"dataframe\">\n",
       "  <thead>\n",
       "    <tr style=\"text-align: right;\">\n",
       "      <th></th>\n",
       "      <th>PrimaryPropertyType</th>\n",
       "      <th>CouncilDistrictCode</th>\n",
       "      <th>Latitude</th>\n",
       "      <th>Longitude</th>\n",
       "      <th>YearBuilt</th>\n",
       "      <th>NumberofFloors</th>\n",
       "      <th>PropertyGFATotal</th>\n",
       "      <th>PropertyGFAParking</th>\n",
       "      <th>PropertyGFABuilding(s)</th>\n",
       "      <th>ListOfAllPropertyUseTypes</th>\n",
       "      <th>...</th>\n",
       "      <th>SourceEUIWN(kBtu/sf)</th>\n",
       "      <th>SiteEnergyUse(kBtu)</th>\n",
       "      <th>SiteEnergyUseWN(kBtu)</th>\n",
       "      <th>SteamUse(kBtu)</th>\n",
       "      <th>Electricity(kWh)</th>\n",
       "      <th>Electricity(kBtu)</th>\n",
       "      <th>NaturalGas(therms)</th>\n",
       "      <th>NaturalGas(kBtu)</th>\n",
       "      <th>TotalGHGEmissions</th>\n",
       "      <th>GHGEmissionsIntensity</th>\n",
       "    </tr>\n",
       "  </thead>\n",
       "  <tbody>\n",
       "    <tr>\n",
       "      <th>0</th>\n",
       "      <td>Hotel</td>\n",
       "      <td>7</td>\n",
       "      <td>47.61220</td>\n",
       "      <td>-122.33799</td>\n",
       "      <td>1927</td>\n",
       "      <td>12</td>\n",
       "      <td>88434</td>\n",
       "      <td>0</td>\n",
       "      <td>88434</td>\n",
       "      <td>Hotel</td>\n",
       "      <td>...</td>\n",
       "      <td>189.000000</td>\n",
       "      <td>7226362.5</td>\n",
       "      <td>7456910.0</td>\n",
       "      <td>2003882.00</td>\n",
       "      <td>1.156514e+06</td>\n",
       "      <td>3946027.0</td>\n",
       "      <td>12764.52930</td>\n",
       "      <td>1276453.0</td>\n",
       "      <td>249.98</td>\n",
       "      <td>2.83</td>\n",
       "    </tr>\n",
       "    <tr>\n",
       "      <th>1</th>\n",
       "      <td>Hotel</td>\n",
       "      <td>7</td>\n",
       "      <td>47.61317</td>\n",
       "      <td>-122.33393</td>\n",
       "      <td>1996</td>\n",
       "      <td>11</td>\n",
       "      <td>103566</td>\n",
       "      <td>15064</td>\n",
       "      <td>88502</td>\n",
       "      <td>Hotel, Parking, Restaurant</td>\n",
       "      <td>...</td>\n",
       "      <td>179.399994</td>\n",
       "      <td>8387933.0</td>\n",
       "      <td>8664479.0</td>\n",
       "      <td>0.00</td>\n",
       "      <td>9.504252e+05</td>\n",
       "      <td>3242851.0</td>\n",
       "      <td>51450.81641</td>\n",
       "      <td>5145082.0</td>\n",
       "      <td>295.86</td>\n",
       "      <td>2.86</td>\n",
       "    </tr>\n",
       "    <tr>\n",
       "      <th>2</th>\n",
       "      <td>Hotel</td>\n",
       "      <td>7</td>\n",
       "      <td>47.61393</td>\n",
       "      <td>-122.33810</td>\n",
       "      <td>1969</td>\n",
       "      <td>41</td>\n",
       "      <td>956110</td>\n",
       "      <td>196718</td>\n",
       "      <td>759392</td>\n",
       "      <td>Hotel</td>\n",
       "      <td>...</td>\n",
       "      <td>244.100006</td>\n",
       "      <td>72587024.0</td>\n",
       "      <td>73937112.0</td>\n",
       "      <td>21566554.00</td>\n",
       "      <td>1.451544e+07</td>\n",
       "      <td>49526664.0</td>\n",
       "      <td>14938.00000</td>\n",
       "      <td>1493800.0</td>\n",
       "      <td>2089.28</td>\n",
       "      <td>2.19</td>\n",
       "    </tr>\n",
       "    <tr>\n",
       "      <th>3</th>\n",
       "      <td>Hotel</td>\n",
       "      <td>7</td>\n",
       "      <td>47.61412</td>\n",
       "      <td>-122.33664</td>\n",
       "      <td>1926</td>\n",
       "      <td>10</td>\n",
       "      <td>61320</td>\n",
       "      <td>0</td>\n",
       "      <td>61320</td>\n",
       "      <td>Hotel</td>\n",
       "      <td>...</td>\n",
       "      <td>224.000000</td>\n",
       "      <td>6794584.0</td>\n",
       "      <td>6946800.5</td>\n",
       "      <td>2214446.25</td>\n",
       "      <td>8.115253e+05</td>\n",
       "      <td>2768924.0</td>\n",
       "      <td>18112.13086</td>\n",
       "      <td>1811213.0</td>\n",
       "      <td>286.43</td>\n",
       "      <td>4.67</td>\n",
       "    </tr>\n",
       "    <tr>\n",
       "      <th>4</th>\n",
       "      <td>Hotel</td>\n",
       "      <td>7</td>\n",
       "      <td>47.61375</td>\n",
       "      <td>-122.34047</td>\n",
       "      <td>1980</td>\n",
       "      <td>18</td>\n",
       "      <td>175580</td>\n",
       "      <td>62000</td>\n",
       "      <td>113580</td>\n",
       "      <td>Hotel, Parking, Swimming Pool</td>\n",
       "      <td>...</td>\n",
       "      <td>215.600006</td>\n",
       "      <td>14172606.0</td>\n",
       "      <td>14656503.0</td>\n",
       "      <td>0.00</td>\n",
       "      <td>1.573449e+06</td>\n",
       "      <td>5368607.0</td>\n",
       "      <td>88039.98438</td>\n",
       "      <td>8803998.0</td>\n",
       "      <td>505.01</td>\n",
       "      <td>2.88</td>\n",
       "    </tr>\n",
       "  </tbody>\n",
       "</table>\n",
       "<p>5 rows × 24 columns</p>\n",
       "</div>"
      ],
      "text/plain": [
       "  PrimaryPropertyType  CouncilDistrictCode  Latitude  Longitude  YearBuilt  \\\n",
       "0               Hotel                    7  47.61220 -122.33799       1927   \n",
       "1               Hotel                    7  47.61317 -122.33393       1996   \n",
       "2               Hotel                    7  47.61393 -122.33810       1969   \n",
       "3               Hotel                    7  47.61412 -122.33664       1926   \n",
       "4               Hotel                    7  47.61375 -122.34047       1980   \n",
       "\n",
       "   NumberofFloors  PropertyGFATotal  PropertyGFAParking  \\\n",
       "0              12             88434                   0   \n",
       "1              11            103566               15064   \n",
       "2              41            956110              196718   \n",
       "3              10             61320                   0   \n",
       "4              18            175580               62000   \n",
       "\n",
       "   PropertyGFABuilding(s)      ListOfAllPropertyUseTypes  ...  \\\n",
       "0                   88434                          Hotel  ...   \n",
       "1                   88502     Hotel, Parking, Restaurant  ...   \n",
       "2                  759392                          Hotel  ...   \n",
       "3                   61320                          Hotel  ...   \n",
       "4                  113580  Hotel, Parking, Swimming Pool  ...   \n",
       "\n",
       "   SourceEUIWN(kBtu/sf)  SiteEnergyUse(kBtu)  SiteEnergyUseWN(kBtu)  \\\n",
       "0            189.000000            7226362.5              7456910.0   \n",
       "1            179.399994            8387933.0              8664479.0   \n",
       "2            244.100006           72587024.0             73937112.0   \n",
       "3            224.000000            6794584.0              6946800.5   \n",
       "4            215.600006           14172606.0             14656503.0   \n",
       "\n",
       "   SteamUse(kBtu)  Electricity(kWh)  Electricity(kBtu)  NaturalGas(therms)  \\\n",
       "0      2003882.00      1.156514e+06          3946027.0         12764.52930   \n",
       "1            0.00      9.504252e+05          3242851.0         51450.81641   \n",
       "2     21566554.00      1.451544e+07         49526664.0         14938.00000   \n",
       "3      2214446.25      8.115253e+05          2768924.0         18112.13086   \n",
       "4            0.00      1.573449e+06          5368607.0         88039.98438   \n",
       "\n",
       "   NaturalGas(kBtu)  TotalGHGEmissions  GHGEmissionsIntensity  \n",
       "0         1276453.0             249.98                   2.83  \n",
       "1         5145082.0             295.86                   2.86  \n",
       "2         1493800.0            2089.28                   2.19  \n",
       "3         1811213.0             286.43                   4.67  \n",
       "4         8803998.0             505.01                   2.88  \n",
       "\n",
       "[5 rows x 24 columns]"
      ]
     },
     "execution_count": 87,
     "metadata": {},
     "output_type": "execute_result"
    }
   ],
   "source": [
    "data_2.head()"
   ]
  },
  {
   "cell_type": "markdown",
   "id": "3a176b15",
   "metadata": {},
   "source": [
    "## 1.3  traiement valeurs manquantes, invalides, doublons, outliers "
   ]
  },
  {
   "cell_type": "code",
   "execution_count": 88,
   "id": "a1d697db",
   "metadata": {},
   "outputs": [],
   "source": [
    "data_3 = data_2.copy()"
   ]
  },
  {
   "cell_type": "code",
   "execution_count": 89,
   "id": "8b01edde",
   "metadata": {},
   "outputs": [
    {
     "data": {
      "text/plain": [
       "0"
      ]
     },
     "execution_count": 89,
     "metadata": {},
     "output_type": "execute_result"
    }
   ],
   "source": [
    "data_3.duplicated().sum()"
   ]
  },
  {
   "cell_type": "markdown",
   "id": "4ad7ab05",
   "metadata": {},
   "source": [
    "### 1.3.1 valeurs manquantes"
   ]
  },
  {
   "cell_type": "code",
   "execution_count": 90,
   "id": "88c5104f",
   "metadata": {},
   "outputs": [
    {
     "name": "stdout",
     "output_type": "stream",
     "text": [
      "PrimaryPropertyType            0\n",
      "CouncilDistrictCode            0\n",
      "Latitude                       0\n",
      "Longitude                      0\n",
      "YearBuilt                      0\n",
      "NumberofFloors                 0\n",
      "PropertyGFATotal               0\n",
      "PropertyGFAParking             0\n",
      "PropertyGFABuilding(s)         0\n",
      "ListOfAllPropertyUseTypes      2\n",
      "ENERGYSTARScore              554\n",
      "SiteEUI(kBtu/sf)               3\n",
      "SiteEUIWN(kBtu/sf)             3\n",
      "SourceEUI(kBtu/sf)             2\n",
      "SourceEUIWN(kBtu/sf)           2\n",
      "SiteEnergyUse(kBtu)            2\n",
      "SiteEnergyUseWN(kBtu)          3\n",
      "SteamUse(kBtu)                 2\n",
      "Electricity(kWh)               2\n",
      "Electricity(kBtu)              2\n",
      "NaturalGas(therms)             2\n",
      "NaturalGas(kBtu)               2\n",
      "TotalGHGEmissions              2\n",
      "GHGEmissionsIntensity          2\n",
      "dtype: int64\n"
     ]
    }
   ],
   "source": [
    "print(data_3.isnull().sum())"
   ]
  },
  {
   "cell_type": "code",
   "execution_count": 91,
   "id": "eddb41dd",
   "metadata": {},
   "outputs": [],
   "source": [
    "data_3['ENERGYSTARScore'].fillna(data_3['ENERGYSTARScore'].mean(), inplace=True)"
   ]
  },
  {
   "cell_type": "code",
   "execution_count": 92,
   "id": "fc735da2",
   "metadata": {},
   "outputs": [
    {
     "data": {
      "text/html": [
       "<div>\n",
       "<style scoped>\n",
       "    .dataframe tbody tr th:only-of-type {\n",
       "        vertical-align: middle;\n",
       "    }\n",
       "\n",
       "    .dataframe tbody tr th {\n",
       "        vertical-align: top;\n",
       "    }\n",
       "\n",
       "    .dataframe thead th {\n",
       "        text-align: right;\n",
       "    }\n",
       "</style>\n",
       "<table border=\"1\" class=\"dataframe\">\n",
       "  <thead>\n",
       "    <tr style=\"text-align: right;\">\n",
       "      <th></th>\n",
       "      <th>PrimaryPropertyType</th>\n",
       "      <th>CouncilDistrictCode</th>\n",
       "      <th>Latitude</th>\n",
       "      <th>Longitude</th>\n",
       "      <th>YearBuilt</th>\n",
       "      <th>NumberofFloors</th>\n",
       "      <th>PropertyGFATotal</th>\n",
       "      <th>PropertyGFAParking</th>\n",
       "      <th>PropertyGFABuilding(s)</th>\n",
       "      <th>ListOfAllPropertyUseTypes</th>\n",
       "      <th>...</th>\n",
       "      <th>SourceEUIWN(kBtu/sf)</th>\n",
       "      <th>SiteEnergyUse(kBtu)</th>\n",
       "      <th>SiteEnergyUseWN(kBtu)</th>\n",
       "      <th>SteamUse(kBtu)</th>\n",
       "      <th>Electricity(kWh)</th>\n",
       "      <th>Electricity(kBtu)</th>\n",
       "      <th>NaturalGas(therms)</th>\n",
       "      <th>NaturalGas(kBtu)</th>\n",
       "      <th>TotalGHGEmissions</th>\n",
       "      <th>GHGEmissionsIntensity</th>\n",
       "    </tr>\n",
       "  </thead>\n",
       "  <tbody>\n",
       "    <tr>\n",
       "      <th>304</th>\n",
       "      <td>Other</td>\n",
       "      <td>7</td>\n",
       "      <td>47.61195</td>\n",
       "      <td>-122.33167</td>\n",
       "      <td>1990</td>\n",
       "      <td>6</td>\n",
       "      <td>1400000</td>\n",
       "      <td>0</td>\n",
       "      <td>1400000</td>\n",
       "      <td>Convention Center, Parking</td>\n",
       "      <td>...</td>\n",
       "      <td>0.0</td>\n",
       "      <td>0.0</td>\n",
       "      <td>0.0</td>\n",
       "      <td>0.0</td>\n",
       "      <td>0.00</td>\n",
       "      <td>0.0</td>\n",
       "      <td>0.00000</td>\n",
       "      <td>0.0</td>\n",
       "      <td>0.00</td>\n",
       "      <td>0.00</td>\n",
       "    </tr>\n",
       "    <tr>\n",
       "      <th>563</th>\n",
       "      <td>Large Office</td>\n",
       "      <td>7</td>\n",
       "      <td>47.61051</td>\n",
       "      <td>-122.34439</td>\n",
       "      <td>1979</td>\n",
       "      <td>7</td>\n",
       "      <td>131143</td>\n",
       "      <td>87160</td>\n",
       "      <td>43983</td>\n",
       "      <td>Office, Retail Store</td>\n",
       "      <td>...</td>\n",
       "      <td>0.0</td>\n",
       "      <td>5177270.5</td>\n",
       "      <td>NaN</td>\n",
       "      <td>0.0</td>\n",
       "      <td>1427645.25</td>\n",
       "      <td>4871126.0</td>\n",
       "      <td>14160.40918</td>\n",
       "      <td>1416041.0</td>\n",
       "      <td>109.16</td>\n",
       "      <td>0.83</td>\n",
       "    </tr>\n",
       "    <tr>\n",
       "      <th>578</th>\n",
       "      <td>Small- and Mid-Sized Office</td>\n",
       "      <td>7</td>\n",
       "      <td>47.60380</td>\n",
       "      <td>-122.33293</td>\n",
       "      <td>1924</td>\n",
       "      <td>4</td>\n",
       "      <td>63150</td>\n",
       "      <td>0</td>\n",
       "      <td>63150</td>\n",
       "      <td>NaN</td>\n",
       "      <td>...</td>\n",
       "      <td>NaN</td>\n",
       "      <td>NaN</td>\n",
       "      <td>NaN</td>\n",
       "      <td>NaN</td>\n",
       "      <td>NaN</td>\n",
       "      <td>NaN</td>\n",
       "      <td>NaN</td>\n",
       "      <td>NaN</td>\n",
       "      <td>NaN</td>\n",
       "      <td>NaN</td>\n",
       "    </tr>\n",
       "    <tr>\n",
       "      <th>2670</th>\n",
       "      <td>Mixed Use Property</td>\n",
       "      <td>4</td>\n",
       "      <td>47.66182</td>\n",
       "      <td>-122.31345</td>\n",
       "      <td>1928</td>\n",
       "      <td>2</td>\n",
       "      <td>20760</td>\n",
       "      <td>0</td>\n",
       "      <td>20760</td>\n",
       "      <td>NaN</td>\n",
       "      <td>...</td>\n",
       "      <td>NaN</td>\n",
       "      <td>NaN</td>\n",
       "      <td>NaN</td>\n",
       "      <td>NaN</td>\n",
       "      <td>NaN</td>\n",
       "      <td>NaN</td>\n",
       "      <td>NaN</td>\n",
       "      <td>NaN</td>\n",
       "      <td>NaN</td>\n",
       "      <td>NaN</td>\n",
       "    </tr>\n",
       "  </tbody>\n",
       "</table>\n",
       "<p>4 rows × 24 columns</p>\n",
       "</div>"
      ],
      "text/plain": [
       "              PrimaryPropertyType  CouncilDistrictCode  Latitude  Longitude  \\\n",
       "304                         Other                    7  47.61195 -122.33167   \n",
       "563                  Large Office                    7  47.61051 -122.34439   \n",
       "578   Small- and Mid-Sized Office                    7  47.60380 -122.33293   \n",
       "2670           Mixed Use Property                    4  47.66182 -122.31345   \n",
       "\n",
       "      YearBuilt  NumberofFloors  PropertyGFATotal  PropertyGFAParking  \\\n",
       "304        1990               6           1400000                   0   \n",
       "563        1979               7            131143               87160   \n",
       "578        1924               4             63150                   0   \n",
       "2670       1928               2             20760                   0   \n",
       "\n",
       "      PropertyGFABuilding(s)   ListOfAllPropertyUseTypes  ...  \\\n",
       "304                  1400000  Convention Center, Parking  ...   \n",
       "563                    43983        Office, Retail Store  ...   \n",
       "578                    63150                         NaN  ...   \n",
       "2670                   20760                         NaN  ...   \n",
       "\n",
       "      SourceEUIWN(kBtu/sf)  SiteEnergyUse(kBtu)  SiteEnergyUseWN(kBtu)  \\\n",
       "304                    0.0                  0.0                    0.0   \n",
       "563                    0.0            5177270.5                    NaN   \n",
       "578                    NaN                  NaN                    NaN   \n",
       "2670                   NaN                  NaN                    NaN   \n",
       "\n",
       "      SteamUse(kBtu)  Electricity(kWh)  Electricity(kBtu)  NaturalGas(therms)  \\\n",
       "304              0.0              0.00                0.0             0.00000   \n",
       "563              0.0        1427645.25          4871126.0         14160.40918   \n",
       "578              NaN               NaN                NaN                 NaN   \n",
       "2670             NaN               NaN                NaN                 NaN   \n",
       "\n",
       "      NaturalGas(kBtu)  TotalGHGEmissions  GHGEmissionsIntensity  \n",
       "304                0.0               0.00                   0.00  \n",
       "563          1416041.0             109.16                   0.83  \n",
       "578                NaN                NaN                    NaN  \n",
       "2670               NaN                NaN                    NaN  \n",
       "\n",
       "[4 rows x 24 columns]"
      ]
     },
     "execution_count": 92,
     "metadata": {},
     "output_type": "execute_result"
    }
   ],
   "source": [
    "data_3[data_3.isnull().any(axis=1)]"
   ]
  },
  {
   "cell_type": "code",
   "execution_count": 93,
   "id": "0f3c64a9",
   "metadata": {},
   "outputs": [],
   "source": [
    "data_3 = data_3.dropna(axis=0, how='any')"
   ]
  },
  {
   "cell_type": "code",
   "execution_count": 94,
   "id": "786cb10a",
   "metadata": {},
   "outputs": [
    {
     "name": "stdout",
     "output_type": "stream",
     "text": [
      "PrimaryPropertyType          0\n",
      "CouncilDistrictCode          0\n",
      "Latitude                     0\n",
      "Longitude                    0\n",
      "YearBuilt                    0\n",
      "NumberofFloors               0\n",
      "PropertyGFATotal             0\n",
      "PropertyGFAParking           0\n",
      "PropertyGFABuilding(s)       0\n",
      "ListOfAllPropertyUseTypes    0\n",
      "ENERGYSTARScore              0\n",
      "SiteEUI(kBtu/sf)             0\n",
      "SiteEUIWN(kBtu/sf)           0\n",
      "SourceEUI(kBtu/sf)           0\n",
      "SourceEUIWN(kBtu/sf)         0\n",
      "SiteEnergyUse(kBtu)          0\n",
      "SiteEnergyUseWN(kBtu)        0\n",
      "SteamUse(kBtu)               0\n",
      "Electricity(kWh)             0\n",
      "Electricity(kBtu)            0\n",
      "NaturalGas(therms)           0\n",
      "NaturalGas(kBtu)             0\n",
      "TotalGHGEmissions            0\n",
      "GHGEmissionsIntensity        0\n",
      "dtype: int64\n"
     ]
    }
   ],
   "source": [
    "print(data_3.isnull().sum())"
   ]
  },
  {
   "cell_type": "code",
   "execution_count": 95,
   "id": "c74a0aa3",
   "metadata": {},
   "outputs": [
    {
     "data": {
      "text/plain": [
       "(1547, 24)"
      ]
     },
     "execution_count": 95,
     "metadata": {},
     "output_type": "execute_result"
    }
   ],
   "source": [
    "data_3.shape"
   ]
  },
  {
   "cell_type": "markdown",
   "id": "7d505e7a",
   "metadata": {},
   "source": [
    "### 1.3.2 invalides :  \n",
    "remove row with negative values"
   ]
  },
  {
   "cell_type": "code",
   "execution_count": 97,
   "id": "4da1e9f2",
   "metadata": {},
   "outputs": [],
   "source": [
    "keep_columns = ['Latitude', 'Longitude', 'PrimaryPropertyType', 'ListOfAllPropertyUseTypes']\n",
    "\n",
    "# Create a mask to identify rows with negative values\n",
    "mask = (data_3.drop(keep_columns, axis=1) < 0).any(axis=1)\n",
    "\n",
    "# Drop the rows with negative values\n",
    "data_3 = data_3[~mask]"
   ]
  },
  {
   "cell_type": "code",
   "execution_count": 98,
   "id": "32a3315a",
   "metadata": {},
   "outputs": [
    {
     "data": {
      "text/plain": [
       "(1546, 24)"
      ]
     },
     "execution_count": 98,
     "metadata": {},
     "output_type": "execute_result"
    }
   ],
   "source": [
    "data_3.shape"
   ]
  },
  {
   "cell_type": "code",
   "execution_count": 112,
   "id": "51432fa7",
   "metadata": {},
   "outputs": [],
   "source": [
    "# if numberofflower is 0, put it into 1. \n",
    "\n",
    "data_3['NumberofFloors'] = data_3['NumberofFloors'].replace(0,1)"
   ]
  },
  {
   "cell_type": "code",
   "execution_count": null,
   "id": "89608097",
   "metadata": {},
   "outputs": [],
   "source": [
    "# d'autres zero value to check "
   ]
  },
  {
   "cell_type": "code",
   "execution_count": 130,
   "id": "b69022d9",
   "metadata": {},
   "outputs": [
    {
     "data": {
      "text/plain": [
       "<bound method DataFrame.info of      PrimaryPropertyType  CouncilDistrictCode  Latitude  Longitude  YearBuilt  \\\n",
       "0                  Hotel                    7  47.61220 -122.33799       1927   \n",
       "1                  Hotel                    7  47.61317 -122.33393       1996   \n",
       "2                  Hotel                    7  47.61393 -122.33810       1969   \n",
       "3                  Hotel                    7  47.61412 -122.33664       1926   \n",
       "4                  Hotel                    7  47.61375 -122.34047       1980   \n",
       "...                  ...                  ...       ...        ...        ...   \n",
       "3370               Other                    1  47.54067 -122.37441       1982   \n",
       "3372               Other                    2  47.59625 -122.32283       2004   \n",
       "3373               Other                    7  47.63644 -122.35784       1974   \n",
       "3374  Mixed Use Property                    1  47.52832 -122.32431       1989   \n",
       "3375  Mixed Use Property                    2  47.53939 -122.29536       1938   \n",
       "\n",
       "      NumberofFloors  PropertyGFATotal  PropertyGFAParking  \\\n",
       "0                 12             88434                   0   \n",
       "1                 11            103566               15064   \n",
       "2                 41            956110              196718   \n",
       "3                 10             61320                   0   \n",
       "4                 18            175580               62000   \n",
       "...              ...               ...                 ...   \n",
       "3370               1             18261                   0   \n",
       "3372               1             16000                   0   \n",
       "3373               1             13157                   0   \n",
       "3374               1             14101                   0   \n",
       "3375               1             18258                   0   \n",
       "\n",
       "      PropertyGFABuilding(s)  \\\n",
       "0                      88434   \n",
       "1                      88502   \n",
       "2                     759392   \n",
       "3                      61320   \n",
       "4                     113580   \n",
       "...                      ...   \n",
       "3370                   18261   \n",
       "3372                   16000   \n",
       "3373                   13157   \n",
       "3374                   14101   \n",
       "3375                   18258   \n",
       "\n",
       "                              ListOfAllPropertyUseTypes  ...  \\\n",
       "0                                                 Hotel  ...   \n",
       "1                            Hotel, Parking, Restaurant  ...   \n",
       "2                                                 Hotel  ...   \n",
       "3                                                 Hotel  ...   \n",
       "4                         Hotel, Parking, Swimming Pool  ...   \n",
       "...                                                 ...  ...   \n",
       "3370                                 Other - Recreation  ...   \n",
       "3372                                 Other - Recreation  ...   \n",
       "3373  Fitness Center/Health Club/Gym, Other - Recrea...  ...   \n",
       "3374  Fitness Center/Health Club/Gym, Food Service, ...  ...   \n",
       "3375  Fitness Center/Health Club/Gym, Food Service, ...  ...   \n",
       "\n",
       "      SourceEUIWN(kBtu/sf)  SiteEnergyUse(kBtu)  SiteEnergyUseWN(kBtu)  \\\n",
       "0               189.000000         7.226362e+06           7.456910e+06   \n",
       "1               179.399994         8.387933e+06           8.664479e+06   \n",
       "2               244.100006         7.258702e+07           7.393711e+07   \n",
       "3               224.000000         6.794584e+06           6.946800e+06   \n",
       "4               215.600006         1.417261e+07           1.465650e+07   \n",
       "...                    ...                  ...                    ...   \n",
       "3370            136.600006         9.320821e+05           1.025432e+06   \n",
       "3372            118.900002         9.502762e+05           1.053706e+06   \n",
       "3373            767.799988         5.765898e+06           6.053764e+06   \n",
       "3374            110.800003         7.194712e+05           7.828413e+05   \n",
       "3375            123.900002         1.152896e+06           1.293722e+06   \n",
       "\n",
       "      SteamUse(kBtu)  Electricity(kWh)  Electricity(kBtu)  NaturalGas(therms)  \\\n",
       "0         2003882.00      1.156514e+06       3.946027e+06        12764.529300   \n",
       "1               0.00      9.504252e+05       3.242851e+06        51450.816410   \n",
       "2        21566554.00      1.451544e+07       4.952666e+07        14938.000000   \n",
       "3         2214446.25      8.115253e+05       2.768924e+06        18112.130860   \n",
       "4               0.00      1.573449e+06       5.368607e+06        88039.984380   \n",
       "...              ...               ...                ...                 ...   \n",
       "3370            0.00      1.853347e+05       6.323620e+05         2997.199951   \n",
       "3372            0.00      1.162210e+05       3.965461e+05         5537.299805   \n",
       "3373            0.00      5.252517e+05       1.792159e+06        39737.390630   \n",
       "3374            0.00      1.022480e+05       3.488702e+05         3706.010010   \n",
       "3375            0.00      1.267744e+05       4.325542e+05         7203.419922   \n",
       "\n",
       "      NaturalGas(kBtu)  TotalGHGEmissions  GHGEmissionsIntensity  \n",
       "0         1.276453e+06             249.98                   2.83  \n",
       "1         5.145082e+06             295.86                   2.86  \n",
       "2         1.493800e+06            2089.28                   2.19  \n",
       "3         1.811213e+06             286.43                   4.67  \n",
       "4         8.803998e+06             505.01                   2.88  \n",
       "...                ...                ...                    ...  \n",
       "3370      2.997200e+05              20.33                   1.11  \n",
       "3372      5.537300e+05              32.17                   2.01  \n",
       "3373      3.973739e+06             223.54                  16.99  \n",
       "3374      3.706010e+05              22.11                   1.57  \n",
       "3375      7.203420e+05              41.27                   2.26  \n",
       "\n",
       "[1546 rows x 24 columns]>"
      ]
     },
     "execution_count": 130,
     "metadata": {},
     "output_type": "execute_result"
    }
   ],
   "source": [
    "data_3.info"
   ]
  },
  {
   "cell_type": "code",
   "execution_count": null,
   "id": "6775b288",
   "metadata": {},
   "outputs": [],
   "source": []
  },
  {
   "cell_type": "code",
   "execution_count": 113,
   "id": "b93d6197",
   "metadata": {},
   "outputs": [],
   "source": [
    "data_3.to_csv('data_3.csv')"
   ]
  },
  {
   "cell_type": "markdown",
   "id": "caebb8d1",
   "metadata": {},
   "source": [
    "### 1.3.3  traitement outliers"
   ]
  },
  {
   "cell_type": "code",
   "execution_count": 114,
   "id": "8c241b73",
   "metadata": {},
   "outputs": [
    {
     "name": "stderr",
     "output_type": "stream",
     "text": [
      "C:\\Users\\utilisateur\\AppData\\Local\\Temp\\ipykernel_17956\\2800203386.py:4: FutureWarning: Automatic reindexing on DataFrame vs Series comparisons is deprecated and will raise ValueError in a future version. Do `left, right = left.align(right, axis=1, copy=False)` before e.g. `left == right`\n",
      "  outliers = (data_3 < (Q1 - 1.5 * IQR)) | (data_3 > (Q3 + 1.5 * IQR))\n"
     ]
    },
    {
     "data": {
      "text/plain": [
       "3191"
      ]
     },
     "execution_count": 114,
     "metadata": {},
     "output_type": "execute_result"
    }
   ],
   "source": [
    "Q1 = data_3.quantile(0.25)\n",
    "Q3 = data_3.quantile(0.75)\n",
    "IQR = Q3 - Q1\n",
    "outliers = (data_3 < (Q1 - 1.5 * IQR)) | (data_3 > (Q3 + 1.5 * IQR))\n",
    "outliers_num = (outliers == True).sum().sort_values(ascending=False)\n",
    "outliers_per = (((outliers == True).sum()/len(data_3))*100).sort_values(ascending=False)\n",
    "(outliers == True).sum().sum()"
   ]
  },
  {
   "cell_type": "code",
   "execution_count": 115,
   "id": "a75a29ef",
   "metadata": {},
   "outputs": [
    {
     "data": {
      "image/png": "[encoded data removed]",
      "text/plain": [
       "<Figure size 2000x800 with 1 Axes>"
      ]
     },
     "metadata": {},
     "output_type": "display_data"
    }
   ],
   "source": [
    "outliers_per.plot(kind='bar', figsize=(20, 8))\n",
    "plt.xlabel('Variables', fontsize=15)\n",
    "plt.ylabel('poucentage de outliers', fontsize=15)\n",
    "plt.title('Outliers', fontsize=15)\n",
    "plt.show()"
   ]
  },
  {
   "cell_type": "code",
   "execution_count": 116,
   "id": "1b394220",
   "metadata": {},
   "outputs": [
    {
     "data": {
      "image/png": "[encoded data removed]",
      "text/plain": [
       "<Figure size 2000x800 with 1 Axes>"
      ]
     },
     "metadata": {},
     "output_type": "display_data"
    }
   ],
   "source": [
    "outliers_num.plot(kind='bar', figsize=(20, 8))\n",
    "plt.xlabel('Variables', fontsize=15)\n",
    "plt.ylabel('Nombre de outliers', fontsize=15)\n",
    "plt.title('Outliers Nombre', fontsize=15)\n",
    "plt.show()"
   ]
  },
  {
   "cell_type": "code",
   "execution_count": 117,
   "id": "a54f5c76",
   "metadata": {},
   "outputs": [
    {
     "data": {
      "image/png": "[encoded data removed]",
      "text/plain": [
       "<Figure size 640x480 with 1 Axes>"
      ]
     },
     "metadata": {},
     "output_type": "display_data"
    }
   ],
   "source": [
    "data_3['ENERGYSTARScore'].plot.box()\n",
    "plt.show()"
   ]
  },
  {
   "cell_type": "code",
   "execution_count": 118,
   "id": "7ce779e6",
   "metadata": {},
   "outputs": [
    {
     "data": {
      "image/png": "[encoded data removed]",
      "text/plain": [
       "<Figure size 640x480 with 1 Axes>"
      ]
     },
     "metadata": {},
     "output_type": "display_data"
    }
   ],
   "source": [
    "data_3['SiteEUI(kBtu/sf)'].plot.box()\n",
    "plt.show()"
   ]
  },
  {
   "cell_type": "code",
   "execution_count": 119,
   "id": "bc1d0f57",
   "metadata": {},
   "outputs": [
    {
     "data": {
      "image/png": "[encoded data removed]",
      "text/plain": [
       "<Figure size 640x480 with 1 Axes>"
      ]
     },
     "metadata": {},
     "output_type": "display_data"
    }
   ],
   "source": [
    "data_3['GHGEmissionsIntensity'].plot.box()\n",
    "plt.show()"
   ]
  },
  {
   "cell_type": "code",
   "execution_count": 120,
   "id": "0d06a6a4",
   "metadata": {},
   "outputs": [
    {
     "data": {
      "image/png": "[encoded data removed]",
      "text/plain": [
       "<Figure size 640x480 with 1 Axes>"
      ]
     },
     "metadata": {},
     "output_type": "display_data"
    }
   ],
   "source": [
    "data_3['SteamUse(kBtu)'].plot.box()\n",
    "plt.show()"
   ]
  },
  {
   "cell_type": "code",
   "execution_count": 121,
   "id": "be1b96b8",
   "metadata": {},
   "outputs": [
    {
     "data": {
      "image/png": "[encoded data removed]",
      "text/plain": [
       "<Figure size 640x480 with 1 Axes>"
      ]
     },
     "metadata": {},
     "output_type": "display_data"
    }
   ],
   "source": [
    "data_3['Electricity(kBtu)'].plot.box()\n",
    "plt.show()"
   ]
  },
  {
   "cell_type": "code",
   "execution_count": 122,
   "id": "c393a933",
   "metadata": {},
   "outputs": [
    {
     "data": {
      "image/png": "[encoded data removed]",
      "text/plain": [
       "<Figure size 640x480 with 1 Axes>"
      ]
     },
     "metadata": {},
     "output_type": "display_data"
    }
   ],
   "source": [
    "data_3['NaturalGas(kBtu)'].plot.box()\n",
    "plt.show()"
   ]
  },
  {
   "cell_type": "code",
   "execution_count": null,
   "id": "b9f9cad5",
   "metadata": {},
   "outputs": [],
   "source": []
  },
  {
   "cell_type": "code",
   "execution_count": null,
   "id": "c0644547",
   "metadata": {},
   "outputs": [],
   "source": []
  },
  {
   "cell_type": "code",
   "execution_count": null,
   "id": "f694c314",
   "metadata": {},
   "outputs": [],
   "source": []
  },
  {
   "cell_type": "markdown",
   "id": "ea2950fc",
   "metadata": {},
   "source": [
    "## 1.4 Transform categorial variables in numerical"
   ]
  },
  {
   "cell_type": "code",
   "execution_count": 123,
   "id": "9c40e145",
   "metadata": {},
   "outputs": [
    {
     "data": {
      "text/html": [
       "<div>\n",
       "<style scoped>\n",
       "    .dataframe tbody tr th:only-of-type {\n",
       "        vertical-align: middle;\n",
       "    }\n",
       "\n",
       "    .dataframe tbody tr th {\n",
       "        vertical-align: top;\n",
       "    }\n",
       "\n",
       "    .dataframe thead th {\n",
       "        text-align: right;\n",
       "    }\n",
       "</style>\n",
       "<table border=\"1\" class=\"dataframe\">\n",
       "  <thead>\n",
       "    <tr style=\"text-align: right;\">\n",
       "      <th></th>\n",
       "      <th>CouncilDistrictCode</th>\n",
       "      <th>Latitude</th>\n",
       "      <th>Longitude</th>\n",
       "      <th>YearBuilt</th>\n",
       "      <th>NumberofFloors</th>\n",
       "      <th>PropertyGFATotal</th>\n",
       "      <th>PropertyGFAParking</th>\n",
       "      <th>PropertyGFABuilding(s)</th>\n",
       "      <th>ENERGYSTARScore</th>\n",
       "      <th>SiteEUI(kBtu/sf)</th>\n",
       "      <th>...</th>\n",
       "      <th>SiteEnergyUseWN(kBtu)</th>\n",
       "      <th>SteamUse(kBtu)</th>\n",
       "      <th>Electricity(kWh)</th>\n",
       "      <th>Electricity(kBtu)</th>\n",
       "      <th>NaturalGas(therms)</th>\n",
       "      <th>NaturalGas(kBtu)</th>\n",
       "      <th>TotalGHGEmissions</th>\n",
       "      <th>GHGEmissionsIntensity</th>\n",
       "      <th>PrimaryPropertyType_encoded</th>\n",
       "      <th>ListOfAllPropertyUseTypes_encoded</th>\n",
       "    </tr>\n",
       "  </thead>\n",
       "  <tbody>\n",
       "    <tr>\n",
       "      <th>0</th>\n",
       "      <td>7</td>\n",
       "      <td>47.61220</td>\n",
       "      <td>-122.33799</td>\n",
       "      <td>1927</td>\n",
       "      <td>12</td>\n",
       "      <td>88434</td>\n",
       "      <td>0</td>\n",
       "      <td>88434</td>\n",
       "      <td>60.0</td>\n",
       "      <td>81.699997</td>\n",
       "      <td>...</td>\n",
       "      <td>7456910.0</td>\n",
       "      <td>2003882.00</td>\n",
       "      <td>1.156514e+06</td>\n",
       "      <td>3946027.0</td>\n",
       "      <td>12764.52930</td>\n",
       "      <td>1276453.0</td>\n",
       "      <td>249.98</td>\n",
       "      <td>2.83</td>\n",
       "      <td>2</td>\n",
       "      <td>129</td>\n",
       "    </tr>\n",
       "    <tr>\n",
       "      <th>1</th>\n",
       "      <td>7</td>\n",
       "      <td>47.61317</td>\n",
       "      <td>-122.33393</td>\n",
       "      <td>1996</td>\n",
       "      <td>11</td>\n",
       "      <td>103566</td>\n",
       "      <td>15064</td>\n",
       "      <td>88502</td>\n",
       "      <td>61.0</td>\n",
       "      <td>94.800003</td>\n",
       "      <td>...</td>\n",
       "      <td>8664479.0</td>\n",
       "      <td>0.00</td>\n",
       "      <td>9.504252e+05</td>\n",
       "      <td>3242851.0</td>\n",
       "      <td>51450.81641</td>\n",
       "      <td>5145082.0</td>\n",
       "      <td>295.86</td>\n",
       "      <td>2.86</td>\n",
       "      <td>2</td>\n",
       "      <td>135</td>\n",
       "    </tr>\n",
       "    <tr>\n",
       "      <th>2</th>\n",
       "      <td>7</td>\n",
       "      <td>47.61393</td>\n",
       "      <td>-122.33810</td>\n",
       "      <td>1969</td>\n",
       "      <td>41</td>\n",
       "      <td>956110</td>\n",
       "      <td>196718</td>\n",
       "      <td>759392</td>\n",
       "      <td>43.0</td>\n",
       "      <td>96.000000</td>\n",
       "      <td>...</td>\n",
       "      <td>73937112.0</td>\n",
       "      <td>21566554.00</td>\n",
       "      <td>1.451544e+07</td>\n",
       "      <td>49526664.0</td>\n",
       "      <td>14938.00000</td>\n",
       "      <td>1493800.0</td>\n",
       "      <td>2089.28</td>\n",
       "      <td>2.19</td>\n",
       "      <td>2</td>\n",
       "      <td>129</td>\n",
       "    </tr>\n",
       "    <tr>\n",
       "      <th>3</th>\n",
       "      <td>7</td>\n",
       "      <td>47.61412</td>\n",
       "      <td>-122.33664</td>\n",
       "      <td>1926</td>\n",
       "      <td>10</td>\n",
       "      <td>61320</td>\n",
       "      <td>0</td>\n",
       "      <td>61320</td>\n",
       "      <td>56.0</td>\n",
       "      <td>110.800003</td>\n",
       "      <td>...</td>\n",
       "      <td>6946800.5</td>\n",
       "      <td>2214446.25</td>\n",
       "      <td>8.115253e+05</td>\n",
       "      <td>2768924.0</td>\n",
       "      <td>18112.13086</td>\n",
       "      <td>1811213.0</td>\n",
       "      <td>286.43</td>\n",
       "      <td>4.67</td>\n",
       "      <td>2</td>\n",
       "      <td>129</td>\n",
       "    </tr>\n",
       "    <tr>\n",
       "      <th>4</th>\n",
       "      <td>7</td>\n",
       "      <td>47.61375</td>\n",
       "      <td>-122.34047</td>\n",
       "      <td>1980</td>\n",
       "      <td>18</td>\n",
       "      <td>175580</td>\n",
       "      <td>62000</td>\n",
       "      <td>113580</td>\n",
       "      <td>75.0</td>\n",
       "      <td>114.800003</td>\n",
       "      <td>...</td>\n",
       "      <td>14656503.0</td>\n",
       "      <td>0.00</td>\n",
       "      <td>1.573449e+06</td>\n",
       "      <td>5368607.0</td>\n",
       "      <td>88039.98438</td>\n",
       "      <td>8803998.0</td>\n",
       "      <td>505.01</td>\n",
       "      <td>2.88</td>\n",
       "      <td>2</td>\n",
       "      <td>140</td>\n",
       "    </tr>\n",
       "  </tbody>\n",
       "</table>\n",
       "<p>5 rows × 24 columns</p>\n",
       "</div>"
      ],
      "text/plain": [
       "   CouncilDistrictCode  Latitude  Longitude  YearBuilt  NumberofFloors  \\\n",
       "0                    7  47.61220 -122.33799       1927              12   \n",
       "1                    7  47.61317 -122.33393       1996              11   \n",
       "2                    7  47.61393 -122.33810       1969              41   \n",
       "3                    7  47.61412 -122.33664       1926              10   \n",
       "4                    7  47.61375 -122.34047       1980              18   \n",
       "\n",
       "   PropertyGFATotal  PropertyGFAParking  PropertyGFABuilding(s)  \\\n",
       "0             88434                   0                   88434   \n",
       "1            103566               15064                   88502   \n",
       "2            956110              196718                  759392   \n",
       "3             61320                   0                   61320   \n",
       "4            175580               62000                  113580   \n",
       "\n",
       "   ENERGYSTARScore  SiteEUI(kBtu/sf)  ...  SiteEnergyUseWN(kBtu)  \\\n",
       "0             60.0         81.699997  ...              7456910.0   \n",
       "1             61.0         94.800003  ...              8664479.0   \n",
       "2             43.0         96.000000  ...             73937112.0   \n",
       "3             56.0        110.800003  ...              6946800.5   \n",
       "4             75.0        114.800003  ...             14656503.0   \n",
       "\n",
       "   SteamUse(kBtu)  Electricity(kWh)  Electricity(kBtu)  NaturalGas(therms)  \\\n",
       "0      2003882.00      1.156514e+06          3946027.0         12764.52930   \n",
       "1            0.00      9.504252e+05          3242851.0         51450.81641   \n",
       "2     21566554.00      1.451544e+07         49526664.0         14938.00000   \n",
       "3      2214446.25      8.115253e+05          2768924.0         18112.13086   \n",
       "4            0.00      1.573449e+06          5368607.0         88039.98438   \n",
       "\n",
       "   NaturalGas(kBtu)  TotalGHGEmissions  GHGEmissionsIntensity  \\\n",
       "0         1276453.0             249.98                   2.83   \n",
       "1         5145082.0             295.86                   2.86   \n",
       "2         1493800.0            2089.28                   2.19   \n",
       "3         1811213.0             286.43                   4.67   \n",
       "4         8803998.0             505.01                   2.88   \n",
       "\n",
       "   PrimaryPropertyType_encoded  ListOfAllPropertyUseTypes_encoded  \n",
       "0                            2                                129  \n",
       "1                            2                                135  \n",
       "2                            2                                129  \n",
       "3                            2                                129  \n",
       "4                            2                                140  \n",
       "\n",
       "[5 rows x 24 columns]"
      ]
     },
     "execution_count": 123,
     "metadata": {},
     "output_type": "execute_result"
    }
   ],
   "source": [
    "from sklearn.preprocessing import LabelEncoder\n",
    "\n",
    "data_4 = data_3.copy()\n",
    "# create a LabelEncoder object\n",
    "label_encoder = LabelEncoder()\n",
    "\n",
    "# fit and transform the encoder on the categorical column\n",
    "data_4['PrimaryPropertyType_encoded'] = label_encoder.fit_transform(data_4['PrimaryPropertyType'])\n",
    "data_4['ListOfAllPropertyUseTypes_encoded'] = label_encoder.fit_transform(data_4['ListOfAllPropertyUseTypes'])\n",
    "\n",
    "data_4 = data_4.drop(['PrimaryPropertyType', 'ListOfAllPropertyUseTypes'], axis = 1)\n",
    "data_4.head()\n"
   ]
  },
  {
   "cell_type": "code",
   "execution_count": 124,
   "id": "ae4eac1a",
   "metadata": {},
   "outputs": [],
   "source": [
    "data_4.to_csv('data_4.csv')"
   ]
  },
  {
   "cell_type": "code",
   "execution_count": 126,
   "id": "9bffb2ab",
   "metadata": {},
   "outputs": [],
   "source": [
    "data_5 = data_4.copy()"
   ]
  },
  {
   "cell_type": "code",
   "execution_count": 127,
   "id": "e41e70d1",
   "metadata": {},
   "outputs": [
    {
     "name": "stderr",
     "output_type": "stream",
     "text": [
      "C:\\Users\\utilisateur\\AppData\\Local\\Temp\\ipykernel_17956\\3972742801.py:3: DeprecationWarning: `np.bool` is a deprecated alias for the builtin `bool`. To silence this warning, use `bool` by itself. Doing this will not modify any behavior and is safe. If you specifically wanted the numpy scalar type, use `np.bool_` here.\n",
      "Deprecated in NumPy 1.20; for more details and guidance: https://numpy.org/devdocs/release/1.20.0-notes.html#deprecations\n",
      "  upper_triangle = corr_matrix.where(np.triu(np.ones(corr_matrix.shape), k=1).astype(np.bool))\n"
     ]
    }
   ],
   "source": [
    "# 5. Supprimer les variables fortement corrélées\n",
    "corr_matrix = data_5.corr().abs()\n",
    "upper_triangle = corr_matrix.where(np.triu(np.ones(corr_matrix.shape), k=1).astype(np.bool))\n",
    "to_drop = [column for column in upper_triangle.columns if any(upper_triangle[column] > 0.8)]\n"
   ]
  },
  {
   "cell_type": "code",
   "execution_count": 128,
   "id": "0d70af01",
   "metadata": {},
   "outputs": [
    {
     "name": "stdout",
     "output_type": "stream",
     "text": [
      "['PropertyGFABuilding(s)', 'SiteEUIWN(kBtu/sf)', 'SourceEUI(kBtu/sf)', 'SourceEUIWN(kBtu/sf)', 'SiteEnergyUse(kBtu)', 'Electricity(kWh)', 'Electricity(kBtu)', 'NaturalGas(kBtu)', 'TotalGHGEmissions']\n"
     ]
    }
   ],
   "source": [
    "print(to_drop)"
   ]
  },
  {
   "cell_type": "code",
   "execution_count": 129,
   "id": "9783db5f",
   "metadata": {},
   "outputs": [
    {
     "name": "stdout",
     "output_type": "stream",
     "text": [
      "                                   CouncilDistrictCode  Latitude  Longitude  \\\n",
      "CouncilDistrictCode                           1.000000  0.512858   0.348390   \n",
      "Latitude                                      0.512858  1.000000   0.086717   \n",
      "Longitude                                     0.348390  0.086717   1.000000   \n",
      "YearBuilt                                     0.036138  0.083046   0.015413   \n",
      "NumberofFloors                                0.278079  0.012191   0.004338   \n",
      "PropertyGFATotal                              0.106478  0.004813   0.027832   \n",
      "PropertyGFAParking                            0.190852  0.039332   0.021134   \n",
      "PropertyGFABuilding(s)                        0.082963  0.000833   0.032287   \n",
      "ENERGYSTARScore                               0.112339  0.041069   0.024320   \n",
      "SiteEUI(kBtu/sf)                              0.063056  0.087922   0.004848   \n",
      "SiteEUIWN(kBtu/sf)                            0.055190  0.082854   0.008077   \n",
      "SourceEUI(kBtu/sf)                            0.088703  0.086373   0.003728   \n",
      "SourceEUIWN(kBtu/sf)                          0.084773  0.082676   0.006434   \n",
      "SiteEnergyUse(kBtu)                           0.043801  0.008147   0.042117   \n",
      "SiteEnergyUseWN(kBtu)                         0.062518  0.012662   0.033420   \n",
      "SteamUse(kBtu)                                0.005606  0.006254   0.025587   \n",
      "Electricity(kWh)                              0.069018  0.010319   0.032224   \n",
      "Electricity(kBtu)                             0.069018  0.010319   0.032224   \n",
      "NaturalGas(therms)                            0.012496  0.000030   0.040931   \n",
      "NaturalGas(kBtu)                              0.012496  0.000030   0.040931   \n",
      "TotalGHGEmissions                             0.008189  0.001537   0.047794   \n",
      "GHGEmissionsIntensity                         0.012780  0.038473   0.011147   \n",
      "PrimaryPropertyType_encoded                   0.166940  0.031236   0.003599   \n",
      "ListOfAllPropertyUseTypes_encoded             0.020817  0.117123   0.022208   \n",
      "\n",
      "                                   YearBuilt  NumberofFloors  \\\n",
      "CouncilDistrictCode                 0.036138        0.278079   \n",
      "Latitude                            0.083046        0.012191   \n",
      "Longitude                           0.015413        0.004338   \n",
      "YearBuilt                           1.000000        0.101712   \n",
      "NumberofFloors                      0.101712        1.000000   \n",
      "PropertyGFATotal                    0.102318        0.410160   \n",
      "PropertyGFAParking                  0.289328        0.500529   \n",
      "PropertyGFABuilding(s)              0.063908        0.354605   \n",
      "ENERGYSTARScore                     0.031373        0.144906   \n",
      "SiteEUI(kBtu/sf)                    0.132559        0.011310   \n",
      "SiteEUIWN(kBtu/sf)                  0.126484        0.000498   \n",
      "SourceEUI(kBtu/sf)                  0.167157        0.052015   \n",
      "SourceEUIWN(kBtu/sf)                0.164538        0.045843   \n",
      "SiteEnergyUse(kBtu)                 0.065812        0.219757   \n",
      "SiteEnergyUseWN(kBtu)               0.136461        0.314503   \n",
      "SteamUse(kBtu)                      0.003004        0.092902   \n",
      "Electricity(kWh)                    0.076405        0.282301   \n",
      "Electricity(kBtu)                   0.076405        0.282301   \n",
      "NaturalGas(therms)                  0.060071        0.033245   \n",
      "NaturalGas(kBtu)                    0.060071        0.033245   \n",
      "TotalGHGEmissions                   0.052769        0.128977   \n",
      "GHGEmissionsIntensity               0.004347        0.056286   \n",
      "PrimaryPropertyType_encoded         0.131797        0.273282   \n",
      "ListOfAllPropertyUseTypes_encoded   0.069936        0.083137   \n",
      "\n",
      "                                   PropertyGFATotal  PropertyGFAParking  \\\n",
      "CouncilDistrictCode                        0.106478            0.190852   \n",
      "Latitude                                   0.004813            0.039332   \n",
      "Longitude                                  0.027832            0.021134   \n",
      "YearBuilt                                  0.102318            0.289328   \n",
      "NumberofFloors                             0.410160            0.500529   \n",
      "PropertyGFATotal                           1.000000            0.377274   \n",
      "PropertyGFAParking                         0.377274            1.000000   \n",
      "PropertyGFABuilding(s)                     0.990398            0.245624   \n",
      "ENERGYSTARScore                            0.081609            0.104725   \n",
      "SiteEUI(kBtu/sf)                           0.029391            0.043368   \n",
      "SiteEUIWN(kBtu/sf)                         0.001987            0.035467   \n",
      "SourceEUI(kBtu/sf)                         0.049458            0.089085   \n",
      "SourceEUIWN(kBtu/sf)                       0.019295            0.084900   \n",
      "SiteEnergyUse(kBtu)                        0.809627            0.142197   \n",
      "SiteEnergyUseWN(kBtu)                      0.373508            0.204164   \n",
      "SteamUse(kBtu)                             0.455677            0.000536   \n",
      "Electricity(kWh)                           0.868557            0.197023   \n",
      "Electricity(kBtu)                          0.868557            0.197023   \n",
      "NaturalGas(therms)                         0.153728            0.026309   \n",
      "NaturalGas(kBtu)                           0.153728            0.026309   \n",
      "TotalGHGEmissions                          0.527105            0.055034   \n",
      "GHGEmissionsIntensity                      0.011864            0.100566   \n",
      "PrimaryPropertyType_encoded                0.159455            0.241054   \n",
      "ListOfAllPropertyUseTypes_encoded          0.127602            0.079102   \n",
      "\n",
      "                                   PropertyGFABuilding(s)  ENERGYSTARScore  \\\n",
      "CouncilDistrictCode                              0.082963         0.112339   \n",
      "Latitude                                         0.000833         0.041069   \n",
      "Longitude                                        0.032287         0.024320   \n",
      "YearBuilt                                        0.063908         0.031373   \n",
      "NumberofFloors                                   0.354605         0.144906   \n",
      "PropertyGFATotal                                 0.990398         0.081609   \n",
      "PropertyGFAParking                               0.245624         0.104725   \n",
      "PropertyGFABuilding(s)                           1.000000         0.069789   \n",
      "ENERGYSTARScore                                  0.069789         1.000000   \n",
      "SiteEUI(kBtu/sf)                                 0.024290         0.242061   \n",
      "SiteEUIWN(kBtu/sf)                               0.007375         0.245799   \n",
      "SourceEUI(kBtu/sf)                               0.038471         0.215342   \n",
      "SourceEUIWN(kBtu/sf)                             0.007523         0.217227   \n",
      "SiteEnergyUse(kBtu)                              0.826223         0.043031   \n",
      "SiteEnergyUseWN(kBtu)                            0.360480         0.060535   \n",
      "SteamUse(kBtu)                                   0.477045         0.031083   \n",
      "Electricity(kWh)                                 0.879722         0.003180   \n",
      "Electricity(kBtu)                                0.879722         0.003180   \n",
      "NaturalGas(therms)                               0.156982         0.109021   \n",
      "NaturalGas(kBtu)                                 0.156982         0.109021   \n",
      "TotalGHGEmissions                                0.543514         0.090390   \n",
      "GHGEmissionsIntensity                            0.002593         0.196065   \n",
      "PrimaryPropertyType_encoded                      0.130921         0.077407   \n",
      "ListOfAllPropertyUseTypes_encoded                0.121755         0.023524   \n",
      "\n",
      "                                   SiteEUI(kBtu/sf)  ...  \\\n",
      "CouncilDistrictCode                        0.063056  ...   \n",
      "Latitude                                   0.087922  ...   \n",
      "Longitude                                  0.004848  ...   \n",
      "YearBuilt                                  0.132559  ...   \n",
      "NumberofFloors                             0.011310  ...   \n",
      "PropertyGFATotal                           0.029391  ...   \n",
      "PropertyGFAParking                         0.043368  ...   \n",
      "PropertyGFABuilding(s)                     0.024290  ...   \n",
      "ENERGYSTARScore                            0.242061  ...   \n",
      "SiteEUI(kBtu/sf)                           1.000000  ...   \n",
      "SiteEUIWN(kBtu/sf)                         0.992827  ...   \n",
      "SourceEUI(kBtu/sf)                         0.946479  ...   \n",
      "SourceEUIWN(kBtu/sf)                       0.942364  ...   \n",
      "SiteEnergyUse(kBtu)                        0.266170  ...   \n",
      "SiteEnergyUseWN(kBtu)                      0.359523  ...   \n",
      "SteamUse(kBtu)                             0.089053  ...   \n",
      "Electricity(kWh)                           0.250921  ...   \n",
      "Electricity(kBtu)                          0.250921  ...   \n",
      "NaturalGas(therms)                         0.236185  ...   \n",
      "NaturalGas(kBtu)                           0.236185  ...   \n",
      "TotalGHGEmissions                          0.255095  ...   \n",
      "GHGEmissionsIntensity                      0.712839  ...   \n",
      "PrimaryPropertyType_encoded                0.119520  ...   \n",
      "ListOfAllPropertyUseTypes_encoded          0.005812  ...   \n",
      "\n",
      "                                   SiteEnergyUseWN(kBtu)  SteamUse(kBtu)  \\\n",
      "CouncilDistrictCode                             0.062518        0.005606   \n",
      "Latitude                                        0.012662        0.006254   \n",
      "Longitude                                       0.033420        0.025587   \n",
      "YearBuilt                                       0.136461        0.003004   \n",
      "NumberofFloors                                  0.314503        0.092902   \n",
      "PropertyGFATotal                                0.373508        0.455677   \n",
      "PropertyGFAParking                              0.204164        0.000536   \n",
      "PropertyGFABuilding(s)                          0.360480        0.477045   \n",
      "ENERGYSTARScore                                 0.060535        0.031083   \n",
      "SiteEUI(kBtu/sf)                                0.359523        0.089053   \n",
      "SiteEUIWN(kBtu/sf)                              0.357117        0.074467   \n",
      "SourceEUI(kBtu/sf)                              0.352217        0.073258   \n",
      "SourceEUIWN(kBtu/sf)                            0.352045        0.058600   \n",
      "SiteEnergyUse(kBtu)                             0.702457        0.605258   \n",
      "SiteEnergyUseWN(kBtu)                           1.000000        0.471534   \n",
      "SteamUse(kBtu)                                  0.471534        1.000000   \n",
      "Electricity(kWh)                                0.570773        0.548158   \n",
      "Electricity(kBtu)                               0.570773        0.548158   \n",
      "NaturalGas(therms)                              0.724385        0.018116   \n",
      "NaturalGas(kBtu)                                0.724385        0.018116   \n",
      "TotalGHGEmissions                               0.856526        0.684056   \n",
      "GHGEmissionsIntensity                           0.424263        0.188474   \n",
      "PrimaryPropertyType_encoded                     0.212083        0.097056   \n",
      "ListOfAllPropertyUseTypes_encoded               0.141334        0.083974   \n",
      "\n",
      "                                   Electricity(kWh)  Electricity(kBtu)  \\\n",
      "CouncilDistrictCode                        0.069018           0.069018   \n",
      "Latitude                                   0.010319           0.010319   \n",
      "Longitude                                  0.032224           0.032224   \n",
      "YearBuilt                                  0.076405           0.076405   \n",
      "NumberofFloors                             0.282301           0.282301   \n",
      "PropertyGFATotal                           0.868557           0.868557   \n",
      "PropertyGFAParking                         0.197023           0.197023   \n",
      "PropertyGFABuilding(s)                     0.879722           0.879722   \n",
      "ENERGYSTARScore                            0.003180           0.003180   \n",
      "SiteEUI(kBtu/sf)                           0.250921           0.250921   \n",
      "SiteEUIWN(kBtu/sf)                         0.216586           0.216586   \n",
      "SourceEUI(kBtu/sf)                         0.289391           0.289390   \n",
      "SourceEUIWN(kBtu/sf)                       0.257588           0.257588   \n",
      "SiteEnergyUse(kBtu)                        0.956266           0.956266   \n",
      "SiteEnergyUseWN(kBtu)                      0.570773           0.570773   \n",
      "SteamUse(kBtu)                             0.548158           0.548158   \n",
      "Electricity(kWh)                           1.000000           1.000000   \n",
      "Electricity(kBtu)                          1.000000           1.000000   \n",
      "NaturalGas(therms)                         0.277187           0.277187   \n",
      "NaturalGas(kBtu)                           0.277187           0.277187   \n",
      "TotalGHGEmissions                          0.686525           0.686525   \n",
      "GHGEmissionsIntensity                      0.155947           0.155947   \n",
      "PrimaryPropertyType_encoded                0.129452           0.129452   \n",
      "ListOfAllPropertyUseTypes_encoded          0.138088           0.138088   \n",
      "\n",
      "                                   NaturalGas(therms)  NaturalGas(kBtu)  \\\n",
      "CouncilDistrictCode                          0.012496          0.012496   \n",
      "Latitude                                     0.000030          0.000030   \n",
      "Longitude                                    0.040931          0.040931   \n",
      "YearBuilt                                    0.060071          0.060071   \n",
      "NumberofFloors                               0.033245          0.033245   \n",
      "PropertyGFATotal                             0.153728          0.153728   \n",
      "PropertyGFAParking                           0.026309          0.026309   \n",
      "PropertyGFABuilding(s)                       0.156982          0.156982   \n",
      "ENERGYSTARScore                              0.109021          0.109021   \n",
      "SiteEUI(kBtu/sf)                             0.236185          0.236185   \n",
      "SiteEUIWN(kBtu/sf)                           0.239282          0.239282   \n",
      "SourceEUI(kBtu/sf)                           0.157003          0.157003   \n",
      "SourceEUIWN(kBtu/sf)                         0.157271          0.157271   \n",
      "SiteEnergyUse(kBtu)                          0.503119          0.503119   \n",
      "SiteEnergyUseWN(kBtu)                        0.724385          0.724385   \n",
      "SteamUse(kBtu)                               0.018116          0.018116   \n",
      "Electricity(kWh)                             0.277187          0.277187   \n",
      "Electricity(kBtu)                            0.277187          0.277187   \n",
      "NaturalGas(therms)                           1.000000          1.000000   \n",
      "NaturalGas(kBtu)                             1.000000          1.000000   \n",
      "TotalGHGEmissions                            0.725577          0.725577   \n",
      "GHGEmissionsIntensity                        0.496903          0.496903   \n",
      "PrimaryPropertyType_encoded                  0.095358          0.095358   \n",
      "ListOfAllPropertyUseTypes_encoded            0.078414          0.078414   \n",
      "\n",
      "                                   TotalGHGEmissions  GHGEmissionsIntensity  \\\n",
      "CouncilDistrictCode                         0.008189               0.012780   \n",
      "Latitude                                    0.001537               0.038473   \n",
      "Longitude                                   0.047794               0.011147   \n",
      "YearBuilt                                   0.052769               0.004347   \n",
      "NumberofFloors                              0.128977               0.056286   \n",
      "PropertyGFATotal                            0.527105               0.011864   \n",
      "PropertyGFAParking                          0.055034               0.100566   \n",
      "PropertyGFABuilding(s)                      0.543514               0.002593   \n",
      "ENERGYSTARScore                             0.090390               0.196065   \n",
      "SiteEUI(kBtu/sf)                            0.255095               0.712839   \n",
      "SiteEUIWN(kBtu/sf)                          0.242273               0.726967   \n",
      "SourceEUI(kBtu/sf)                          0.201136               0.512795   \n",
      "SourceEUIWN(kBtu/sf)                        0.186888               0.519634   \n",
      "SiteEnergyUse(kBtu)                         0.860016               0.294873   \n",
      "SiteEnergyUseWN(kBtu)                       0.856526               0.424263   \n",
      "SteamUse(kBtu)                              0.684056               0.188474   \n",
      "Electricity(kWh)                            0.686525               0.155947   \n",
      "Electricity(kBtu)                           0.686525               0.155947   \n",
      "NaturalGas(therms)                          0.725577               0.496903   \n",
      "NaturalGas(kBtu)                            0.725577               0.496903   \n",
      "TotalGHGEmissions                           1.000000               0.465728   \n",
      "GHGEmissionsIntensity                       0.465728               1.000000   \n",
      "PrimaryPropertyType_encoded                 0.143027               0.105036   \n",
      "ListOfAllPropertyUseTypes_encoded           0.126062               0.007763   \n",
      "\n",
      "                                   PrimaryPropertyType_encoded  \\\n",
      "CouncilDistrictCode                                   0.166940   \n",
      "Latitude                                              0.031236   \n",
      "Longitude                                             0.003599   \n",
      "YearBuilt                                             0.131797   \n",
      "NumberofFloors                                        0.273282   \n",
      "PropertyGFATotal                                      0.159455   \n",
      "PropertyGFAParking                                    0.241054   \n",
      "PropertyGFABuilding(s)                                0.130921   \n",
      "ENERGYSTARScore                                       0.077407   \n",
      "SiteEUI(kBtu/sf)                                      0.119520   \n",
      "SiteEUIWN(kBtu/sf)                                    0.117959   \n",
      "SourceEUI(kBtu/sf)                                    0.114487   \n",
      "SourceEUIWN(kBtu/sf)                                  0.114676   \n",
      "SiteEnergyUse(kBtu)                                   0.132172   \n",
      "SiteEnergyUseWN(kBtu)                                 0.212083   \n",
      "SteamUse(kBtu)                                        0.097056   \n",
      "Electricity(kWh)                                      0.129452   \n",
      "Electricity(kBtu)                                     0.129452   \n",
      "NaturalGas(therms)                                    0.095358   \n",
      "NaturalGas(kBtu)                                      0.095358   \n",
      "TotalGHGEmissions                                     0.143027   \n",
      "GHGEmissionsIntensity                                 0.105036   \n",
      "PrimaryPropertyType_encoded                           1.000000   \n",
      "ListOfAllPropertyUseTypes_encoded                     0.379827   \n",
      "\n",
      "                                   ListOfAllPropertyUseTypes_encoded  \n",
      "CouncilDistrictCode                                         0.020817  \n",
      "Latitude                                                    0.117123  \n",
      "Longitude                                                   0.022208  \n",
      "YearBuilt                                                   0.069936  \n",
      "NumberofFloors                                              0.083137  \n",
      "PropertyGFATotal                                            0.127602  \n",
      "PropertyGFAParking                                          0.079102  \n",
      "PropertyGFABuilding(s)                                      0.121755  \n",
      "ENERGYSTARScore                                             0.023524  \n",
      "SiteEUI(kBtu/sf)                                            0.005812  \n",
      "SiteEUIWN(kBtu/sf)                                          0.003046  \n",
      "SourceEUI(kBtu/sf)                                          0.018241  \n",
      "SourceEUIWN(kBtu/sf)                                        0.010632  \n",
      "SiteEnergyUse(kBtu)                                         0.140856  \n",
      "SiteEnergyUseWN(kBtu)                                       0.141334  \n",
      "SteamUse(kBtu)                                              0.083974  \n",
      "Electricity(kWh)                                            0.138088  \n",
      "Electricity(kBtu)                                           0.138088  \n",
      "NaturalGas(therms)                                          0.078414  \n",
      "NaturalGas(kBtu)                                            0.078414  \n",
      "TotalGHGEmissions                                           0.126062  \n",
      "GHGEmissionsIntensity                                       0.007763  \n",
      "PrimaryPropertyType_encoded                                 0.379827  \n",
      "ListOfAllPropertyUseTypes_encoded                           1.000000  \n",
      "\n",
      "[24 rows x 24 columns]\n"
     ]
    }
   ],
   "source": [
    "print(corr_matrix)"
   ]
  },
  {
   "cell_type": "code",
   "execution_count": null,
   "id": "5b44fb75",
   "metadata": {},
   "outputs": [],
   "source": []
  },
  {
   "cell_type": "code",
   "execution_count": null,
   "id": "49774480",
   "metadata": {},
   "outputs": [],
   "source": [
    "df = df.drop(to_drop, axis=1)"
   ]
  },
  {
   "cell_type": "code",
   "execution_count": null,
   "id": "ee987638",
   "metadata": {},
   "outputs": [],
   "source": []
  }
 ],
 "metadata": {
  "kernelspec": {
   "display_name": "Python 3 (ipykernel)",
   "language": "python",
   "name": "python3"
  },
  "language_info": {
   "codemirror_mode": {
    "name": "ipython",
    "version": 3
   },
   "file_extension": ".py",
   "mimetype": "text/x-python",
   "name": "python",
   "nbconvert_exporter": "python",
   "pygments_lexer": "ipython3",
   "version": "3.9.13"
  }
 },
 "nbformat": 4,
 "nbformat_minor": 5
}
