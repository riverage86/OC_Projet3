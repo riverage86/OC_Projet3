{
 "cells": [
  {
   "cell_type": "code",
   "execution_count": 1,
   "id": "aaa3b51c",
   "metadata": {},
   "outputs": [],
   "source": [
    "import pandas as pd\n",
    "import numpy as np\n",
    "import warnings \n",
    "import matplotlib.pyplot as plt\n",
    "from sklearn.linear_model import LinearRegression\n",
    "import seaborn as sns"
   ]
  },
  {
   "cell_type": "code",
   "execution_count": 4,
   "id": "224d93b5",
   "metadata": {},
   "outputs": [],
   "source": [
    "warnings.filterwarnings('ignore')"
   ]
  },
  {
   "cell_type": "code",
   "execution_count": 5,
   "id": "bed1bf6d",
   "metadata": {},
   "outputs": [],
   "source": [
    "data = pd.read_csv('2016_Building.csv',  engine = 'python',  on_bad_lines = 'skip')"
   ]
  },
  {
   "cell_type": "code",
   "execution_count": 6,
   "id": "2d9cbdaa",
   "metadata": {},
   "outputs": [
    {
     "data": {
      "text/html": [
       "<div>\n",
       "<style scoped>\n",
       "    .dataframe tbody tr th:only-of-type {\n",
       "        vertical-align: middle;\n",
       "    }\n",
       "\n",
       "    .dataframe tbody tr th {\n",
       "        vertical-align: top;\n",
       "    }\n",
       "\n",
       "    .dataframe thead th {\n",
       "        text-align: right;\n",
       "    }\n",
       "</style>\n",
       "<table border=\"1\" class=\"dataframe\">\n",
       "  <thead>\n",
       "    <tr style=\"text-align: right;\">\n",
       "      <th></th>\n",
       "      <th>OSEBuildingID</th>\n",
       "      <th>DataYear</th>\n",
       "      <th>BuildingType</th>\n",
       "      <th>PrimaryPropertyType</th>\n",
       "      <th>PropertyName</th>\n",
       "      <th>Address</th>\n",
       "      <th>City</th>\n",
       "      <th>State</th>\n",
       "      <th>ZipCode</th>\n",
       "      <th>TaxParcelIdentificationNumber</th>\n",
       "      <th>...</th>\n",
       "      <th>Electricity(kWh)</th>\n",
       "      <th>Electricity(kBtu)</th>\n",
       "      <th>NaturalGas(therms)</th>\n",
       "      <th>NaturalGas(kBtu)</th>\n",
       "      <th>DefaultData</th>\n",
       "      <th>Comments</th>\n",
       "      <th>ComplianceStatus</th>\n",
       "      <th>Outlier</th>\n",
       "      <th>TotalGHGEmissions</th>\n",
       "      <th>GHGEmissionsIntensity</th>\n",
       "    </tr>\n",
       "  </thead>\n",
       "  <tbody>\n",
       "    <tr>\n",
       "      <th>0</th>\n",
       "      <td>1</td>\n",
       "      <td>2016</td>\n",
       "      <td>NonResidential</td>\n",
       "      <td>Hotel</td>\n",
       "      <td>Mayflower park hotel</td>\n",
       "      <td>405 Olive way</td>\n",
       "      <td>Seattle</td>\n",
       "      <td>WA</td>\n",
       "      <td>98101.0</td>\n",
       "      <td>0659000030</td>\n",
       "      <td>...</td>\n",
       "      <td>1.156514e+06</td>\n",
       "      <td>3946027.0</td>\n",
       "      <td>12764.52930</td>\n",
       "      <td>1276453.0</td>\n",
       "      <td>False</td>\n",
       "      <td>NaN</td>\n",
       "      <td>Compliant</td>\n",
       "      <td>NaN</td>\n",
       "      <td>249.98</td>\n",
       "      <td>2.83</td>\n",
       "    </tr>\n",
       "    <tr>\n",
       "      <th>1</th>\n",
       "      <td>2</td>\n",
       "      <td>2016</td>\n",
       "      <td>NonResidential</td>\n",
       "      <td>Hotel</td>\n",
       "      <td>Paramount Hotel</td>\n",
       "      <td>724 Pine street</td>\n",
       "      <td>Seattle</td>\n",
       "      <td>WA</td>\n",
       "      <td>98101.0</td>\n",
       "      <td>0659000220</td>\n",
       "      <td>...</td>\n",
       "      <td>9.504252e+05</td>\n",
       "      <td>3242851.0</td>\n",
       "      <td>51450.81641</td>\n",
       "      <td>5145082.0</td>\n",
       "      <td>False</td>\n",
       "      <td>NaN</td>\n",
       "      <td>Compliant</td>\n",
       "      <td>NaN</td>\n",
       "      <td>295.86</td>\n",
       "      <td>2.86</td>\n",
       "    </tr>\n",
       "    <tr>\n",
       "      <th>2</th>\n",
       "      <td>3</td>\n",
       "      <td>2016</td>\n",
       "      <td>NonResidential</td>\n",
       "      <td>Hotel</td>\n",
       "      <td>5673-The Westin Seattle</td>\n",
       "      <td>1900 5th Avenue</td>\n",
       "      <td>Seattle</td>\n",
       "      <td>WA</td>\n",
       "      <td>98101.0</td>\n",
       "      <td>0659000475</td>\n",
       "      <td>...</td>\n",
       "      <td>1.451544e+07</td>\n",
       "      <td>49526664.0</td>\n",
       "      <td>14938.00000</td>\n",
       "      <td>1493800.0</td>\n",
       "      <td>False</td>\n",
       "      <td>NaN</td>\n",
       "      <td>Compliant</td>\n",
       "      <td>NaN</td>\n",
       "      <td>2089.28</td>\n",
       "      <td>2.19</td>\n",
       "    </tr>\n",
       "    <tr>\n",
       "      <th>3</th>\n",
       "      <td>5</td>\n",
       "      <td>2016</td>\n",
       "      <td>NonResidential</td>\n",
       "      <td>Hotel</td>\n",
       "      <td>HOTEL MAX</td>\n",
       "      <td>620 STEWART ST</td>\n",
       "      <td>Seattle</td>\n",
       "      <td>WA</td>\n",
       "      <td>98101.0</td>\n",
       "      <td>0659000640</td>\n",
       "      <td>...</td>\n",
       "      <td>8.115253e+05</td>\n",
       "      <td>2768924.0</td>\n",
       "      <td>18112.13086</td>\n",
       "      <td>1811213.0</td>\n",
       "      <td>False</td>\n",
       "      <td>NaN</td>\n",
       "      <td>Compliant</td>\n",
       "      <td>NaN</td>\n",
       "      <td>286.43</td>\n",
       "      <td>4.67</td>\n",
       "    </tr>\n",
       "    <tr>\n",
       "      <th>4</th>\n",
       "      <td>8</td>\n",
       "      <td>2016</td>\n",
       "      <td>NonResidential</td>\n",
       "      <td>Hotel</td>\n",
       "      <td>WARWICK SEATTLE HOTEL (ID8)</td>\n",
       "      <td>401 LENORA ST</td>\n",
       "      <td>Seattle</td>\n",
       "      <td>WA</td>\n",
       "      <td>98121.0</td>\n",
       "      <td>0659000970</td>\n",
       "      <td>...</td>\n",
       "      <td>1.573449e+06</td>\n",
       "      <td>5368607.0</td>\n",
       "      <td>88039.98438</td>\n",
       "      <td>8803998.0</td>\n",
       "      <td>False</td>\n",
       "      <td>NaN</td>\n",
       "      <td>Compliant</td>\n",
       "      <td>NaN</td>\n",
       "      <td>505.01</td>\n",
       "      <td>2.88</td>\n",
       "    </tr>\n",
       "  </tbody>\n",
       "</table>\n",
       "<p>5 rows × 46 columns</p>\n",
       "</div>"
      ],
      "text/plain": [
       "   OSEBuildingID  DataYear    BuildingType PrimaryPropertyType  \\\n",
       "0              1      2016  NonResidential               Hotel   \n",
       "1              2      2016  NonResidential               Hotel   \n",
       "2              3      2016  NonResidential               Hotel   \n",
       "3              5      2016  NonResidential               Hotel   \n",
       "4              8      2016  NonResidential               Hotel   \n",
       "\n",
       "                  PropertyName          Address     City State  ZipCode  \\\n",
       "0         Mayflower park hotel    405 Olive way  Seattle    WA  98101.0   \n",
       "1              Paramount Hotel  724 Pine street  Seattle    WA  98101.0   \n",
       "2      5673-The Westin Seattle  1900 5th Avenue  Seattle    WA  98101.0   \n",
       "3                    HOTEL MAX   620 STEWART ST  Seattle    WA  98101.0   \n",
       "4  WARWICK SEATTLE HOTEL (ID8)    401 LENORA ST  Seattle    WA  98121.0   \n",
       "\n",
       "  TaxParcelIdentificationNumber  ...  Electricity(kWh) Electricity(kBtu)  \\\n",
       "0                    0659000030  ...      1.156514e+06         3946027.0   \n",
       "1                    0659000220  ...      9.504252e+05         3242851.0   \n",
       "2                    0659000475  ...      1.451544e+07        49526664.0   \n",
       "3                    0659000640  ...      8.115253e+05         2768924.0   \n",
       "4                    0659000970  ...      1.573449e+06         5368607.0   \n",
       "\n",
       "   NaturalGas(therms)  NaturalGas(kBtu)  DefaultData  Comments  \\\n",
       "0         12764.52930         1276453.0        False       NaN   \n",
       "1         51450.81641         5145082.0        False       NaN   \n",
       "2         14938.00000         1493800.0        False       NaN   \n",
       "3         18112.13086         1811213.0        False       NaN   \n",
       "4         88039.98438         8803998.0        False       NaN   \n",
       "\n",
       "   ComplianceStatus  Outlier  TotalGHGEmissions  GHGEmissionsIntensity  \n",
       "0         Compliant      NaN             249.98                   2.83  \n",
       "1         Compliant      NaN             295.86                   2.86  \n",
       "2         Compliant      NaN            2089.28                   2.19  \n",
       "3         Compliant      NaN             286.43                   4.67  \n",
       "4         Compliant      NaN             505.01                   2.88  \n",
       "\n",
       "[5 rows x 46 columns]"
      ]
     },
     "execution_count": 6,
     "metadata": {},
     "output_type": "execute_result"
    }
   ],
   "source": [
    "data.head()"
   ]
  },
  {
   "cell_type": "code",
   "execution_count": 7,
   "id": "dc4ab4dd",
   "metadata": {},
   "outputs": [
    {
     "data": {
      "text/plain": [
       "(3376, 46)"
      ]
     },
     "execution_count": 7,
     "metadata": {},
     "output_type": "execute_result"
    }
   ],
   "source": [
    "data.shape"
   ]
  },
  {
   "cell_type": "markdown",
   "id": "e7fba379",
   "metadata": {},
   "source": [
    "# 1. Nettoyage des données\n",
    "\n",
    "## 1.1  éliminer les propriétes avec les conditions :\n",
    "- Building résidentiel (Multifamily)\n",
    "- Building with default data (The property used default data for at least one property characteristic.)\n",
    "- Outliers buildings  (Whether a property is a high or low outlier (Y/N))\n",
    "- Compliances (Whether a property has met energy benchmarking requirements for the current reporting year.)"
   ]
  },
  {
   "cell_type": "code",
   "execution_count": 8,
   "id": "f341477b",
   "metadata": {},
   "outputs": [
    {
     "data": {
      "text/plain": [
       "0.5059241706161137"
      ]
     },
     "execution_count": 8,
     "metadata": {},
     "output_type": "execute_result"
    }
   ],
   "source": [
    "data.BuildingType.str.contains('Multifamily').sum()/len(data)"
   ]
  },
  {
   "cell_type": "code",
   "execution_count": 9,
   "id": "be36f821",
   "metadata": {},
   "outputs": [
    {
     "data": {
      "text/plain": [
       "0.03347156398104265"
      ]
     },
     "execution_count": 9,
     "metadata": {},
     "output_type": "execute_result"
    }
   ],
   "source": [
    "data['DefaultData'].apply(lambda x: x).sum()/len(data)"
   ]
  },
  {
   "cell_type": "code",
   "execution_count": 10,
   "id": "66afa507",
   "metadata": {},
   "outputs": [
    {
     "data": {
      "text/plain": [
       "0.009478672985781991"
      ]
     },
     "execution_count": 10,
     "metadata": {},
     "output_type": "execute_result"
    }
   ],
   "source": [
    "data['Outlier'].notnull().sum()/len(data)"
   ]
  },
  {
   "cell_type": "code",
   "execution_count": 11,
   "id": "db2ac489",
   "metadata": {},
   "outputs": [
    {
     "data": {
      "text/plain": [
       "0.04887440758293839"
      ]
     },
     "execution_count": 11,
     "metadata": {},
     "output_type": "execute_result"
    }
   ],
   "source": [
    "data['ComplianceStatus'].apply(lambda x: (x != 'Compliant')).sum()/len(data)"
   ]
  },
  {
   "cell_type": "code",
   "execution_count": 12,
   "id": "0935ff89",
   "metadata": {},
   "outputs": [],
   "source": [
    "data_1 = data.drop(data[data['BuildingType'].str.contains('Multifamily')].index)"
   ]
  },
  {
   "cell_type": "code",
   "execution_count": 13,
   "id": "af202c7c",
   "metadata": {},
   "outputs": [
    {
     "data": {
      "text/plain": [
       "(1668, 46)"
      ]
     },
     "execution_count": 13,
     "metadata": {},
     "output_type": "execute_result"
    }
   ],
   "source": [
    "data_1.shape"
   ]
  },
  {
   "cell_type": "code",
   "execution_count": 14,
   "id": "e0bc9dc5",
   "metadata": {},
   "outputs": [],
   "source": [
    "data_1 = data_1.drop(data_1[data_1['DefaultData']].index)"
   ]
  },
  {
   "cell_type": "code",
   "execution_count": 15,
   "id": "5fcdedb3",
   "metadata": {},
   "outputs": [
    {
     "data": {
      "text/plain": [
       "(1580, 46)"
      ]
     },
     "execution_count": 15,
     "metadata": {},
     "output_type": "execute_result"
    }
   ],
   "source": [
    "data_1.shape"
   ]
  },
  {
   "cell_type": "code",
   "execution_count": 16,
   "id": "23620881",
   "metadata": {},
   "outputs": [],
   "source": [
    "data_1 = data_1.drop(data_1[~data_1['ComplianceStatus'].str.contains('Compliant')].index)"
   ]
  },
  {
   "cell_type": "code",
   "execution_count": 17,
   "id": "08efb0e3",
   "metadata": {},
   "outputs": [
    {
     "data": {
      "text/plain": [
       "(1566, 46)"
      ]
     },
     "execution_count": 17,
     "metadata": {},
     "output_type": "execute_result"
    }
   ],
   "source": [
    "data_1.shape"
   ]
  },
  {
   "cell_type": "code",
   "execution_count": 18,
   "id": "a23dd7fd",
   "metadata": {},
   "outputs": [],
   "source": [
    "data_1 = data_1.drop(data_1[data_1['Outlier'].notnull()].index)"
   ]
  },
  {
   "cell_type": "code",
   "execution_count": 19,
   "id": "7c3c02ca",
   "metadata": {},
   "outputs": [
    {
     "data": {
      "text/plain": [
       "(1551, 46)"
      ]
     },
     "execution_count": 19,
     "metadata": {},
     "output_type": "execute_result"
    }
   ],
   "source": [
    "data_1.shape"
   ]
  },
  {
   "cell_type": "code",
   "execution_count": 20,
   "id": "9f7caeb1",
   "metadata": {},
   "outputs": [],
   "source": [
    "data_1.to_csv('data_1.csv')"
   ]
  },
  {
   "cell_type": "markdown",
   "id": "ecaf27f3",
   "metadata": {},
   "source": [
    "## 1.2  éliminer les features  qui ne sont pas utilisées :"
   ]
  },
  {
   "cell_type": "code",
   "execution_count": 21,
   "id": "84f758e1",
   "metadata": {},
   "outputs": [],
   "source": [
    "Nouse_features = ['DataYear', 'PropertyName', 'BuildingType', 'City', 'State', 'ZipCode', 'Outlier', 'ComplianceStatus','DefaultData', 'YearsENERGYSTARCertified', 'TaxParcelIdentificationNumber', 'Address', 'Comments', 'Neighborhood',\\\n",
    "                 'LargestPropertyUseType', 'LargestPropertyUseTypeGFA', 'SecondLargestPropertyUseType', 'SecondLargestPropertyUseTypeGFA', 'ThirdLargestPropertyUseType', 'ThirdLargestPropertyUseTypeGFA', 'NumberofBuildings', \\\n",
    "                 'OSEBuildingID', 'ListOfAllPropertyUseTypes']"
   ]
  },
  {
   "cell_type": "code",
   "execution_count": 22,
   "id": "e3fa1ce2",
   "metadata": {},
   "outputs": [],
   "source": [
    "data_2 = data_1.drop(columns = Nouse_features)"
   ]
  },
  {
   "cell_type": "code",
   "execution_count": 23,
   "id": "8d9f0336",
   "metadata": {},
   "outputs": [],
   "source": [
    "# Supprimer les colonnes non numériques ou non pertinentes\n",
    "data_2 = data_2.drop(['Latitude', 'Longitude', 'PropertyGFATotal', 'PropertyGFAParking', 'PropertyGFABuilding(s)', 'NaturalGas(therms)',\\\n",
    "              'Electricity(kWh)','SiteEnergyUse(kBtu)','SiteEnergyUseWN(kBtu)','TotalGHGEmissions','SiteEUIWN(kBtu/sf)', 'SourceEUIWN(kBtu/sf)'], axis=1)\n"
   ]
  },
  {
   "cell_type": "code",
   "execution_count": 24,
   "id": "4cda0d30",
   "metadata": {},
   "outputs": [
    {
     "data": {
      "text/plain": [
       "(1551, 11)"
      ]
     },
     "execution_count": 24,
     "metadata": {},
     "output_type": "execute_result"
    }
   ],
   "source": [
    "data_2.shape"
   ]
  },
  {
   "cell_type": "code",
   "execution_count": 25,
   "id": "afc19da2",
   "metadata": {},
   "outputs": [
    {
     "data": {
      "text/html": [
       "<div>\n",
       "<style scoped>\n",
       "    .dataframe tbody tr th:only-of-type {\n",
       "        vertical-align: middle;\n",
       "    }\n",
       "\n",
       "    .dataframe tbody tr th {\n",
       "        vertical-align: top;\n",
       "    }\n",
       "\n",
       "    .dataframe thead th {\n",
       "        text-align: right;\n",
       "    }\n",
       "</style>\n",
       "<table border=\"1\" class=\"dataframe\">\n",
       "  <thead>\n",
       "    <tr style=\"text-align: right;\">\n",
       "      <th></th>\n",
       "      <th>PrimaryPropertyType</th>\n",
       "      <th>CouncilDistrictCode</th>\n",
       "      <th>YearBuilt</th>\n",
       "      <th>NumberofFloors</th>\n",
       "      <th>ENERGYSTARScore</th>\n",
       "      <th>SiteEUI(kBtu/sf)</th>\n",
       "      <th>SourceEUI(kBtu/sf)</th>\n",
       "      <th>SteamUse(kBtu)</th>\n",
       "      <th>Electricity(kBtu)</th>\n",
       "      <th>NaturalGas(kBtu)</th>\n",
       "      <th>GHGEmissionsIntensity</th>\n",
       "    </tr>\n",
       "  </thead>\n",
       "  <tbody>\n",
       "    <tr>\n",
       "      <th>0</th>\n",
       "      <td>Hotel</td>\n",
       "      <td>7</td>\n",
       "      <td>1927</td>\n",
       "      <td>12</td>\n",
       "      <td>60.0</td>\n",
       "      <td>81.699997</td>\n",
       "      <td>182.500000</td>\n",
       "      <td>2003882.00</td>\n",
       "      <td>3946027.0</td>\n",
       "      <td>1276453.0</td>\n",
       "      <td>2.83</td>\n",
       "    </tr>\n",
       "    <tr>\n",
       "      <th>1</th>\n",
       "      <td>Hotel</td>\n",
       "      <td>7</td>\n",
       "      <td>1996</td>\n",
       "      <td>11</td>\n",
       "      <td>61.0</td>\n",
       "      <td>94.800003</td>\n",
       "      <td>176.100006</td>\n",
       "      <td>0.00</td>\n",
       "      <td>3242851.0</td>\n",
       "      <td>5145082.0</td>\n",
       "      <td>2.86</td>\n",
       "    </tr>\n",
       "    <tr>\n",
       "      <th>2</th>\n",
       "      <td>Hotel</td>\n",
       "      <td>7</td>\n",
       "      <td>1969</td>\n",
       "      <td>41</td>\n",
       "      <td>43.0</td>\n",
       "      <td>96.000000</td>\n",
       "      <td>241.899994</td>\n",
       "      <td>21566554.00</td>\n",
       "      <td>49526664.0</td>\n",
       "      <td>1493800.0</td>\n",
       "      <td>2.19</td>\n",
       "    </tr>\n",
       "    <tr>\n",
       "      <th>3</th>\n",
       "      <td>Hotel</td>\n",
       "      <td>7</td>\n",
       "      <td>1926</td>\n",
       "      <td>10</td>\n",
       "      <td>56.0</td>\n",
       "      <td>110.800003</td>\n",
       "      <td>216.199997</td>\n",
       "      <td>2214446.25</td>\n",
       "      <td>2768924.0</td>\n",
       "      <td>1811213.0</td>\n",
       "      <td>4.67</td>\n",
       "    </tr>\n",
       "    <tr>\n",
       "      <th>4</th>\n",
       "      <td>Hotel</td>\n",
       "      <td>7</td>\n",
       "      <td>1980</td>\n",
       "      <td>18</td>\n",
       "      <td>75.0</td>\n",
       "      <td>114.800003</td>\n",
       "      <td>211.399994</td>\n",
       "      <td>0.00</td>\n",
       "      <td>5368607.0</td>\n",
       "      <td>8803998.0</td>\n",
       "      <td>2.88</td>\n",
       "    </tr>\n",
       "  </tbody>\n",
       "</table>\n",
       "</div>"
      ],
      "text/plain": [
       "  PrimaryPropertyType  CouncilDistrictCode  YearBuilt  NumberofFloors  \\\n",
       "0               Hotel                    7       1927              12   \n",
       "1               Hotel                    7       1996              11   \n",
       "2               Hotel                    7       1969              41   \n",
       "3               Hotel                    7       1926              10   \n",
       "4               Hotel                    7       1980              18   \n",
       "\n",
       "   ENERGYSTARScore  SiteEUI(kBtu/sf)  SourceEUI(kBtu/sf)  SteamUse(kBtu)  \\\n",
       "0             60.0         81.699997          182.500000      2003882.00   \n",
       "1             61.0         94.800003          176.100006            0.00   \n",
       "2             43.0         96.000000          241.899994     21566554.00   \n",
       "3             56.0        110.800003          216.199997      2214446.25   \n",
       "4             75.0        114.800003          211.399994            0.00   \n",
       "\n",
       "   Electricity(kBtu)  NaturalGas(kBtu)  GHGEmissionsIntensity  \n",
       "0          3946027.0         1276453.0                   2.83  \n",
       "1          3242851.0         5145082.0                   2.86  \n",
       "2         49526664.0         1493800.0                   2.19  \n",
       "3          2768924.0         1811213.0                   4.67  \n",
       "4          5368607.0         8803998.0                   2.88  "
      ]
     },
     "execution_count": 25,
     "metadata": {},
     "output_type": "execute_result"
    }
   ],
   "source": [
    "data_2.head()"
   ]
  },
  {
   "cell_type": "markdown",
   "id": "3a176b15",
   "metadata": {},
   "source": [
    "## 1.3  traiement valeurs manquantes, invalides, doublons, outliers "
   ]
  },
  {
   "cell_type": "code",
   "execution_count": 26,
   "id": "a1d697db",
   "metadata": {},
   "outputs": [],
   "source": [
    "data_3 = data_2.copy()"
   ]
  },
  {
   "cell_type": "code",
   "execution_count": 27,
   "id": "8b01edde",
   "metadata": {},
   "outputs": [
    {
     "data": {
      "text/plain": [
       "0"
      ]
     },
     "execution_count": 27,
     "metadata": {},
     "output_type": "execute_result"
    }
   ],
   "source": [
    "data_3.duplicated().sum()"
   ]
  },
  {
   "cell_type": "markdown",
   "id": "4ad7ab05",
   "metadata": {},
   "source": [
    "### 1.3.1 valeurs manquantes"
   ]
  },
  {
   "cell_type": "code",
   "execution_count": 28,
   "id": "88c5104f",
   "metadata": {},
   "outputs": [
    {
     "name": "stdout",
     "output_type": "stream",
     "text": [
      "PrimaryPropertyType        0\n",
      "CouncilDistrictCode        0\n",
      "YearBuilt                  0\n",
      "NumberofFloors             0\n",
      "ENERGYSTARScore          554\n",
      "SiteEUI(kBtu/sf)           3\n",
      "SourceEUI(kBtu/sf)         2\n",
      "SteamUse(kBtu)             2\n",
      "Electricity(kBtu)          2\n",
      "NaturalGas(kBtu)           2\n",
      "GHGEmissionsIntensity      2\n",
      "dtype: int64\n"
     ]
    }
   ],
   "source": [
    "print(data_3.isnull().sum())"
   ]
  },
  {
   "cell_type": "code",
   "execution_count": 29,
   "id": "db5c50cd",
   "metadata": {},
   "outputs": [],
   "source": [
    "# Calculer la moyenne de ENERGYSTARScore par groupe de PrimaryPropertyType\n",
    "moyenne_par_proprietyType = data_3.groupby('PrimaryPropertyType')['ENERGYSTARScore'].mean()\n",
    "\n",
    "# Calculer la moyenne de toutes les valeurs non manquantes de ENERGYSTARScore\n",
    "overall_mean = data_3['ENERGYSTARScore'].mean()\n",
    "\n",
    "# Remplacer les valeurs manquantes de ENERGYSTARScore par la moyenne de groupe de PrimaryPropertyType\n",
    "data_3['ENERGYSTARScore'] = data_3.apply(lambda row: moyenne_par_proprietyType[row['PrimaryPropertyType']] \\\n",
    "    if np.isnan(row['ENERGYSTARScore']) else row['ENERGYSTARScore'],  axis=1)"
   ]
  },
  {
   "cell_type": "code",
   "execution_count": 31,
   "id": "1f01db2e",
   "metadata": {},
   "outputs": [
    {
     "name": "stdout",
     "output_type": "stream",
     "text": [
      "PrimaryPropertyType       0\n",
      "CouncilDistrictCode       0\n",
      "YearBuilt                 0\n",
      "NumberofFloors            0\n",
      "ENERGYSTARScore          74\n",
      "SiteEUI(kBtu/sf)          3\n",
      "SourceEUI(kBtu/sf)        2\n",
      "SteamUse(kBtu)            2\n",
      "Electricity(kBtu)         2\n",
      "NaturalGas(kBtu)          2\n",
      "GHGEmissionsIntensity     2\n",
      "dtype: int64\n"
     ]
    }
   ],
   "source": [
    "print(data_3.isnull().sum())"
   ]
  },
  {
   "cell_type": "code",
   "execution_count": 32,
   "id": "7e50b003",
   "metadata": {},
   "outputs": [],
   "source": [
    "# Remplacer le reste des valeurs manquantes de ENERGYSTARScore par la moyenne global de ENERGYSTARScore\n",
    "data_3['ENERGYSTARScore'] = data_3.apply(lambda row: overall_mean\\\n",
    "    if np.isnan(row['ENERGYSTARScore']) else row['ENERGYSTARScore'],  axis=1)"
   ]
  },
  {
   "cell_type": "code",
   "execution_count": 33,
   "id": "fc735da2",
   "metadata": {},
   "outputs": [
    {
     "data": {
      "text/html": [
       "<div>\n",
       "<style scoped>\n",
       "    .dataframe tbody tr th:only-of-type {\n",
       "        vertical-align: middle;\n",
       "    }\n",
       "\n",
       "    .dataframe tbody tr th {\n",
       "        vertical-align: top;\n",
       "    }\n",
       "\n",
       "    .dataframe thead th {\n",
       "        text-align: right;\n",
       "    }\n",
       "</style>\n",
       "<table border=\"1\" class=\"dataframe\">\n",
       "  <thead>\n",
       "    <tr style=\"text-align: right;\">\n",
       "      <th></th>\n",
       "      <th>PrimaryPropertyType</th>\n",
       "      <th>CouncilDistrictCode</th>\n",
       "      <th>YearBuilt</th>\n",
       "      <th>NumberofFloors</th>\n",
       "      <th>ENERGYSTARScore</th>\n",
       "      <th>SiteEUI(kBtu/sf)</th>\n",
       "      <th>SourceEUI(kBtu/sf)</th>\n",
       "      <th>SteamUse(kBtu)</th>\n",
       "      <th>Electricity(kBtu)</th>\n",
       "      <th>NaturalGas(kBtu)</th>\n",
       "      <th>GHGEmissionsIntensity</th>\n",
       "    </tr>\n",
       "  </thead>\n",
       "  <tbody>\n",
       "    <tr>\n",
       "      <th>304</th>\n",
       "      <td>Other</td>\n",
       "      <td>7</td>\n",
       "      <td>1990</td>\n",
       "      <td>6</td>\n",
       "      <td>62.363636</td>\n",
       "      <td>NaN</td>\n",
       "      <td>0.0</td>\n",
       "      <td>0.0</td>\n",
       "      <td>0.0</td>\n",
       "      <td>0.0</td>\n",
       "      <td>0.0</td>\n",
       "    </tr>\n",
       "    <tr>\n",
       "      <th>578</th>\n",
       "      <td>Small- and Mid-Sized Office</td>\n",
       "      <td>7</td>\n",
       "      <td>1924</td>\n",
       "      <td>4</td>\n",
       "      <td>67.217949</td>\n",
       "      <td>NaN</td>\n",
       "      <td>NaN</td>\n",
       "      <td>NaN</td>\n",
       "      <td>NaN</td>\n",
       "      <td>NaN</td>\n",
       "      <td>NaN</td>\n",
       "    </tr>\n",
       "    <tr>\n",
       "      <th>2670</th>\n",
       "      <td>Mixed Use Property</td>\n",
       "      <td>4</td>\n",
       "      <td>1928</td>\n",
       "      <td>2</td>\n",
       "      <td>61.961538</td>\n",
       "      <td>NaN</td>\n",
       "      <td>NaN</td>\n",
       "      <td>NaN</td>\n",
       "      <td>NaN</td>\n",
       "      <td>NaN</td>\n",
       "      <td>NaN</td>\n",
       "    </tr>\n",
       "  </tbody>\n",
       "</table>\n",
       "</div>"
      ],
      "text/plain": [
       "              PrimaryPropertyType  CouncilDistrictCode  YearBuilt  \\\n",
       "304                         Other                    7       1990   \n",
       "578   Small- and Mid-Sized Office                    7       1924   \n",
       "2670           Mixed Use Property                    4       1928   \n",
       "\n",
       "      NumberofFloors  ENERGYSTARScore  SiteEUI(kBtu/sf)  SourceEUI(kBtu/sf)  \\\n",
       "304                6        62.363636               NaN                 0.0   \n",
       "578                4        67.217949               NaN                 NaN   \n",
       "2670               2        61.961538               NaN                 NaN   \n",
       "\n",
       "      SteamUse(kBtu)  Electricity(kBtu)  NaturalGas(kBtu)  \\\n",
       "304              0.0                0.0               0.0   \n",
       "578              NaN                NaN               NaN   \n",
       "2670             NaN                NaN               NaN   \n",
       "\n",
       "      GHGEmissionsIntensity  \n",
       "304                     0.0  \n",
       "578                     NaN  \n",
       "2670                    NaN  "
      ]
     },
     "execution_count": 33,
     "metadata": {},
     "output_type": "execute_result"
    }
   ],
   "source": [
    "data_3[data_3.isnull().any(axis=1)]"
   ]
  },
  {
   "cell_type": "code",
   "execution_count": 34,
   "id": "0f3c64a9",
   "metadata": {},
   "outputs": [],
   "source": [
    "data_3 = data_3.dropna(axis=0, how='any')"
   ]
  },
  {
   "cell_type": "code",
   "execution_count": 35,
   "id": "786cb10a",
   "metadata": {},
   "outputs": [
    {
     "name": "stdout",
     "output_type": "stream",
     "text": [
      "PrimaryPropertyType      0\n",
      "CouncilDistrictCode      0\n",
      "YearBuilt                0\n",
      "NumberofFloors           0\n",
      "ENERGYSTARScore          0\n",
      "SiteEUI(kBtu/sf)         0\n",
      "SourceEUI(kBtu/sf)       0\n",
      "SteamUse(kBtu)           0\n",
      "Electricity(kBtu)        0\n",
      "NaturalGas(kBtu)         0\n",
      "GHGEmissionsIntensity    0\n",
      "dtype: int64\n"
     ]
    }
   ],
   "source": [
    "print(data_3.isnull().sum())"
   ]
  },
  {
   "cell_type": "code",
   "execution_count": 36,
   "id": "c74a0aa3",
   "metadata": {},
   "outputs": [
    {
     "data": {
      "text/plain": [
       "(1548, 11)"
      ]
     },
     "execution_count": 36,
     "metadata": {},
     "output_type": "execute_result"
    }
   ],
   "source": [
    "data_3.shape"
   ]
  },
  {
   "cell_type": "markdown",
   "id": "7d505e7a",
   "metadata": {},
   "source": [
    "### 1.3.2 invalides :  \n",
    "remove row with negative values"
   ]
  },
  {
   "cell_type": "code",
   "execution_count": 38,
   "id": "4da1e9f2",
   "metadata": {},
   "outputs": [],
   "source": [
    "keep_columns = ['PrimaryPropertyType']\n",
    "\n",
    "# Create a mask to identify rows with negative values\n",
    "mask = (data_3.drop(keep_columns, axis=1) < 0).any(axis=1)\n",
    "\n",
    "# Drop the rows with negative values\n",
    "data_3 = data_3[~mask]"
   ]
  },
  {
   "cell_type": "code",
   "execution_count": 39,
   "id": "32a3315a",
   "metadata": {},
   "outputs": [
    {
     "data": {
      "text/plain": [
       "(1547, 11)"
      ]
     },
     "execution_count": 39,
     "metadata": {},
     "output_type": "execute_result"
    }
   ],
   "source": [
    "data_3.shape"
   ]
  },
  {
   "cell_type": "code",
   "execution_count": 40,
   "id": "51432fa7",
   "metadata": {},
   "outputs": [],
   "source": [
    "# if numberofflower is 0, put it into 1. \n",
    "\n",
    "data_3['NumberofFloors'] = data_3['NumberofFloors'].replace(0,1)"
   ]
  },
  {
   "cell_type": "code",
   "execution_count": 41,
   "id": "89608097",
   "metadata": {},
   "outputs": [],
   "source": [
    "# d'autres zero value to check "
   ]
  },
  {
   "cell_type": "code",
   "execution_count": 43,
   "id": "6775b288",
   "metadata": {},
   "outputs": [
    {
     "name": "stdout",
     "output_type": "stream",
     "text": [
      "PrimaryPropertyType         0\n",
      "CouncilDistrictCode         0\n",
      "YearBuilt                   0\n",
      "NumberofFloors              0\n",
      "ENERGYSTARScore             0\n",
      "SiteEUI(kBtu/sf)            0\n",
      "SourceEUI(kBtu/sf)          2\n",
      "SteamUse(kBtu)           1434\n",
      "Electricity(kBtu)           2\n",
      "NaturalGas(kBtu)          443\n",
      "GHGEmissionsIntensity       1\n",
      "dtype: int64\n"
     ]
    }
   ],
   "source": [
    "count_zeros = data_3.eq(0).sum()\n",
    "print(count_zeros)"
   ]
  },
  {
   "cell_type": "code",
   "execution_count": 46,
   "id": "9fa6fc6d",
   "metadata": {},
   "outputs": [],
   "source": [
    "data_3 = data_3.drop(data_3[data_3['SourceEUI(kBtu/sf)']==0].index)\n",
    "data_3 = data_3.drop(data_3[data_3['Electricity(kBtu)']==0].index)\n",
    "data_3 = data_3.drop(data_3[data_3['GHGEmissionsIntensity']==0].index)"
   ]
  },
  {
   "cell_type": "code",
   "execution_count": 47,
   "id": "d0027924",
   "metadata": {},
   "outputs": [
    {
     "name": "stdout",
     "output_type": "stream",
     "text": [
      "PrimaryPropertyType         0\n",
      "CouncilDistrictCode         0\n",
      "YearBuilt                   0\n",
      "NumberofFloors              0\n",
      "ENERGYSTARScore             0\n",
      "SiteEUI(kBtu/sf)            0\n",
      "SourceEUI(kBtu/sf)          0\n",
      "SteamUse(kBtu)           1431\n",
      "Electricity(kBtu)           0\n",
      "NaturalGas(kBtu)          441\n",
      "GHGEmissionsIntensity       0\n",
      "dtype: int64\n"
     ]
    }
   ],
   "source": [
    "count_zeros = data_3.eq(0).sum()\n",
    "print(count_zeros)"
   ]
  },
  {
   "cell_type": "code",
   "execution_count": null,
   "id": "2ba3888a",
   "metadata": {},
   "outputs": [],
   "source": []
  },
  {
   "cell_type": "code",
   "execution_count": null,
   "id": "394c3c36",
   "metadata": {},
   "outputs": [],
   "source": []
  },
  {
   "cell_type": "code",
   "execution_count": 48,
   "id": "b93d6197",
   "metadata": {},
   "outputs": [],
   "source": [
    "data_3.to_csv('data_3.csv')"
   ]
  },
  {
   "cell_type": "markdown",
   "id": "caebb8d1",
   "metadata": {},
   "source": [
    "### 1.3.3  traitement outliers"
   ]
  },
  {
   "cell_type": "code",
   "execution_count": 49,
   "id": "8c241b73",
   "metadata": {},
   "outputs": [
    {
     "data": {
      "text/plain": [
       "1109"
      ]
     },
     "execution_count": 49,
     "metadata": {},
     "output_type": "execute_result"
    }
   ],
   "source": [
    "Q1 = data_3.quantile(0.25)\n",
    "Q3 = data_3.quantile(0.75)\n",
    "IQR = Q3 - Q1\n",
    "outliers = (data_3 < (Q1 - 1.5 * IQR)) | (data_3 > (Q3 + 1.5 * IQR))\n",
    "outliers_num = (outliers == True).sum().sort_values(ascending=False)\n",
    "outliers_per = (((outliers == True).sum()/len(data_3))*100).sort_values(ascending=False)\n",
    "(outliers == True).sum().sum()"
   ]
  },
  {
   "cell_type": "code",
   "execution_count": 50,
   "id": "a75a29ef",
   "metadata": {},
   "outputs": [
    {
     "data": {
      "image/png": "[encoded data removed]",
      "text/plain": [
       "<Figure size 2000x800 with 1 Axes>"
      ]
     },
     "metadata": {},
     "output_type": "display_data"
    }
   ],
   "source": [
    "outliers_per.plot(kind='bar', figsize=(20, 8))\n",
    "plt.xlabel('Variables', fontsize=15)\n",
    "plt.ylabel('poucentage de outliers', fontsize=15)\n",
    "plt.title('Outliers', fontsize=15)\n",
    "plt.show()"
   ]
  },
  {
   "cell_type": "code",
   "execution_count": 51,
   "id": "1b394220",
   "metadata": {},
   "outputs": [
    {
     "data": {
      "image/png": "[encoded data removed]",
      "text/plain": [
       "<Figure size 2000x800 with 1 Axes>"
      ]
     },
     "metadata": {},
     "output_type": "display_data"
    }
   ],
   "source": [
    "outliers_num.plot(kind='bar', figsize=(20, 8))\n",
    "plt.xlabel('Variables', fontsize=15)\n",
    "plt.ylabel('Nombre de outliers', fontsize=15)\n",
    "plt.title('Outliers Nombre', fontsize=15)\n",
    "plt.show()"
   ]
  },
  {
   "cell_type": "code",
   "execution_count": 52,
   "id": "a54f5c76",
   "metadata": {},
   "outputs": [
    {
     "data": {
      "image/png": "[encoded data removed]",
      "text/plain": [
       "<Figure size 640x480 with 1 Axes>"
      ]
     },
     "metadata": {},
     "output_type": "display_data"
    }
   ],
   "source": [
    "data_3['ENERGYSTARScore'].plot.box()\n",
    "plt.show()"
   ]
  },
  {
   "cell_type": "code",
   "execution_count": 53,
   "id": "7ce779e6",
   "metadata": {},
   "outputs": [
    {
     "data": {
      "image/png": "[encoded data removed]",
      "text/plain": [
       "<Figure size 640x480 with 1 Axes>"
      ]
     },
     "metadata": {},
     "output_type": "display_data"
    }
   ],
   "source": [
    "data_3['SiteEUI(kBtu/sf)'].plot.box()\n",
    "plt.show()"
   ]
  },
  {
   "cell_type": "code",
   "execution_count": 54,
   "id": "bc1d0f57",
   "metadata": {},
   "outputs": [
    {
     "data": {
      "image/png": "[encoded data removed]",
      "text/plain": [
       "<Figure size 640x480 with 1 Axes>"
      ]
     },
     "metadata": {},
     "output_type": "display_data"
    }
   ],
   "source": [
    "data_3['GHGEmissionsIntensity'].plot.box()\n",
    "plt.show()"
   ]
  },
  {
   "cell_type": "code",
   "execution_count": 55,
   "id": "0d06a6a4",
   "metadata": {},
   "outputs": [
    {
     "data": {
      "image/png": "[encoded data removed]",
      "text/plain": [
       "<Figure size 640x480 with 1 Axes>"
      ]
     },
     "metadata": {},
     "output_type": "display_data"
    }
   ],
   "source": [
    "data_3['SteamUse(kBtu)'].plot.box()\n",
    "plt.show()"
   ]
  },
  {
   "cell_type": "code",
   "execution_count": 56,
   "id": "be1b96b8",
   "metadata": {},
   "outputs": [
    {
     "data": {
      "image/png": "[encoded data removed]",
      "text/plain": [
       "<Figure size 640x480 with 1 Axes>"
      ]
     },
     "metadata": {},
     "output_type": "display_data"
    }
   ],
   "source": [
    "data_3['Electricity(kBtu)'].plot.box()\n",
    "plt.show()"
   ]
  },
  {
   "cell_type": "code",
   "execution_count": 57,
   "id": "c393a933",
   "metadata": {},
   "outputs": [
    {
     "data": {
      "image/png": "[encoded data removed]",
      "text/plain": [
       "<Figure size 640x480 with 1 Axes>"
      ]
     },
     "metadata": {},
     "output_type": "display_data"
    }
   ],
   "source": [
    "data_3['NaturalGas(kBtu)'].plot.box()\n",
    "plt.show()"
   ]
  },
  {
   "cell_type": "code",
   "execution_count": 60,
   "id": "b9f9cad5",
   "metadata": {},
   "outputs": [],
   "source": [
    "data_3.to_csv('data_3.csv')"
   ]
  },
  {
   "cell_type": "code",
   "execution_count": null,
   "id": "f694c314",
   "metadata": {},
   "outputs": [],
   "source": []
  },
  {
   "cell_type": "markdown",
   "id": "ea2950fc",
   "metadata": {},
   "source": [
    "## 1.4 Transform categorial variables en dummy variables "
   ]
  },
  {
   "cell_type": "code",
   "execution_count": 58,
   "id": "9c40e145",
   "metadata": {},
   "outputs": [
    {
     "data": {
      "text/html": [
       "<div>\n",
       "<style scoped>\n",
       "    .dataframe tbody tr th:only-of-type {\n",
       "        vertical-align: middle;\n",
       "    }\n",
       "\n",
       "    .dataframe tbody tr th {\n",
       "        vertical-align: top;\n",
       "    }\n",
       "\n",
       "    .dataframe thead th {\n",
       "        text-align: right;\n",
       "    }\n",
       "</style>\n",
       "<table border=\"1\" class=\"dataframe\">\n",
       "  <thead>\n",
       "    <tr style=\"text-align: right;\">\n",
       "      <th></th>\n",
       "      <th>CouncilDistrictCode</th>\n",
       "      <th>YearBuilt</th>\n",
       "      <th>NumberofFloors</th>\n",
       "      <th>ENERGYSTARScore</th>\n",
       "      <th>SiteEUI(kBtu/sf)</th>\n",
       "      <th>SourceEUI(kBtu/sf)</th>\n",
       "      <th>SteamUse(kBtu)</th>\n",
       "      <th>Electricity(kBtu)</th>\n",
       "      <th>NaturalGas(kBtu)</th>\n",
       "      <th>GHGEmissionsIntensity</th>\n",
       "      <th>...</th>\n",
       "      <th>PrimaryPropertyType_Residence Hall</th>\n",
       "      <th>PrimaryPropertyType_Restaurant</th>\n",
       "      <th>PrimaryPropertyType_Retail Store</th>\n",
       "      <th>PrimaryPropertyType_Self-Storage Facility</th>\n",
       "      <th>PrimaryPropertyType_Senior Care Community</th>\n",
       "      <th>PrimaryPropertyType_Small- and Mid-Sized Office</th>\n",
       "      <th>PrimaryPropertyType_Supermarket / Grocery Store</th>\n",
       "      <th>PrimaryPropertyType_University</th>\n",
       "      <th>PrimaryPropertyType_Warehouse</th>\n",
       "      <th>PrimaryPropertyType_Worship Facility</th>\n",
       "    </tr>\n",
       "  </thead>\n",
       "  <tbody>\n",
       "    <tr>\n",
       "      <th>0</th>\n",
       "      <td>7</td>\n",
       "      <td>1927</td>\n",
       "      <td>12</td>\n",
       "      <td>60.0</td>\n",
       "      <td>81.699997</td>\n",
       "      <td>182.500000</td>\n",
       "      <td>2003882.00</td>\n",
       "      <td>3946027.0</td>\n",
       "      <td>1276453.0</td>\n",
       "      <td>2.83</td>\n",
       "      <td>...</td>\n",
       "      <td>0</td>\n",
       "      <td>0</td>\n",
       "      <td>0</td>\n",
       "      <td>0</td>\n",
       "      <td>0</td>\n",
       "      <td>0</td>\n",
       "      <td>0</td>\n",
       "      <td>0</td>\n",
       "      <td>0</td>\n",
       "      <td>0</td>\n",
       "    </tr>\n",
       "    <tr>\n",
       "      <th>1</th>\n",
       "      <td>7</td>\n",
       "      <td>1996</td>\n",
       "      <td>11</td>\n",
       "      <td>61.0</td>\n",
       "      <td>94.800003</td>\n",
       "      <td>176.100006</td>\n",
       "      <td>0.00</td>\n",
       "      <td>3242851.0</td>\n",
       "      <td>5145082.0</td>\n",
       "      <td>2.86</td>\n",
       "      <td>...</td>\n",
       "      <td>0</td>\n",
       "      <td>0</td>\n",
       "      <td>0</td>\n",
       "      <td>0</td>\n",
       "      <td>0</td>\n",
       "      <td>0</td>\n",
       "      <td>0</td>\n",
       "      <td>0</td>\n",
       "      <td>0</td>\n",
       "      <td>0</td>\n",
       "    </tr>\n",
       "    <tr>\n",
       "      <th>2</th>\n",
       "      <td>7</td>\n",
       "      <td>1969</td>\n",
       "      <td>41</td>\n",
       "      <td>43.0</td>\n",
       "      <td>96.000000</td>\n",
       "      <td>241.899994</td>\n",
       "      <td>21566554.00</td>\n",
       "      <td>49526664.0</td>\n",
       "      <td>1493800.0</td>\n",
       "      <td>2.19</td>\n",
       "      <td>...</td>\n",
       "      <td>0</td>\n",
       "      <td>0</td>\n",
       "      <td>0</td>\n",
       "      <td>0</td>\n",
       "      <td>0</td>\n",
       "      <td>0</td>\n",
       "      <td>0</td>\n",
       "      <td>0</td>\n",
       "      <td>0</td>\n",
       "      <td>0</td>\n",
       "    </tr>\n",
       "    <tr>\n",
       "      <th>3</th>\n",
       "      <td>7</td>\n",
       "      <td>1926</td>\n",
       "      <td>10</td>\n",
       "      <td>56.0</td>\n",
       "      <td>110.800003</td>\n",
       "      <td>216.199997</td>\n",
       "      <td>2214446.25</td>\n",
       "      <td>2768924.0</td>\n",
       "      <td>1811213.0</td>\n",
       "      <td>4.67</td>\n",
       "      <td>...</td>\n",
       "      <td>0</td>\n",
       "      <td>0</td>\n",
       "      <td>0</td>\n",
       "      <td>0</td>\n",
       "      <td>0</td>\n",
       "      <td>0</td>\n",
       "      <td>0</td>\n",
       "      <td>0</td>\n",
       "      <td>0</td>\n",
       "      <td>0</td>\n",
       "    </tr>\n",
       "    <tr>\n",
       "      <th>4</th>\n",
       "      <td>7</td>\n",
       "      <td>1980</td>\n",
       "      <td>18</td>\n",
       "      <td>75.0</td>\n",
       "      <td>114.800003</td>\n",
       "      <td>211.399994</td>\n",
       "      <td>0.00</td>\n",
       "      <td>5368607.0</td>\n",
       "      <td>8803998.0</td>\n",
       "      <td>2.88</td>\n",
       "      <td>...</td>\n",
       "      <td>0</td>\n",
       "      <td>0</td>\n",
       "      <td>0</td>\n",
       "      <td>0</td>\n",
       "      <td>0</td>\n",
       "      <td>0</td>\n",
       "      <td>0</td>\n",
       "      <td>0</td>\n",
       "      <td>0</td>\n",
       "      <td>0</td>\n",
       "    </tr>\n",
       "  </tbody>\n",
       "</table>\n",
       "<p>5 rows × 31 columns</p>\n",
       "</div>"
      ],
      "text/plain": [
       "   CouncilDistrictCode  YearBuilt  NumberofFloors  ENERGYSTARScore  \\\n",
       "0                    7       1927              12             60.0   \n",
       "1                    7       1996              11             61.0   \n",
       "2                    7       1969              41             43.0   \n",
       "3                    7       1926              10             56.0   \n",
       "4                    7       1980              18             75.0   \n",
       "\n",
       "   SiteEUI(kBtu/sf)  SourceEUI(kBtu/sf)  SteamUse(kBtu)  Electricity(kBtu)  \\\n",
       "0         81.699997          182.500000      2003882.00          3946027.0   \n",
       "1         94.800003          176.100006            0.00          3242851.0   \n",
       "2         96.000000          241.899994     21566554.00         49526664.0   \n",
       "3        110.800003          216.199997      2214446.25          2768924.0   \n",
       "4        114.800003          211.399994            0.00          5368607.0   \n",
       "\n",
       "   NaturalGas(kBtu)  GHGEmissionsIntensity  ...  \\\n",
       "0         1276453.0                   2.83  ...   \n",
       "1         5145082.0                   2.86  ...   \n",
       "2         1493800.0                   2.19  ...   \n",
       "3         1811213.0                   4.67  ...   \n",
       "4         8803998.0                   2.88  ...   \n",
       "\n",
       "   PrimaryPropertyType_Residence Hall  PrimaryPropertyType_Restaurant  \\\n",
       "0                                   0                               0   \n",
       "1                                   0                               0   \n",
       "2                                   0                               0   \n",
       "3                                   0                               0   \n",
       "4                                   0                               0   \n",
       "\n",
       "   PrimaryPropertyType_Retail Store  \\\n",
       "0                                 0   \n",
       "1                                 0   \n",
       "2                                 0   \n",
       "3                                 0   \n",
       "4                                 0   \n",
       "\n",
       "   PrimaryPropertyType_Self-Storage Facility  \\\n",
       "0                                          0   \n",
       "1                                          0   \n",
       "2                                          0   \n",
       "3                                          0   \n",
       "4                                          0   \n",
       "\n",
       "   PrimaryPropertyType_Senior Care Community  \\\n",
       "0                                          0   \n",
       "1                                          0   \n",
       "2                                          0   \n",
       "3                                          0   \n",
       "4                                          0   \n",
       "\n",
       "   PrimaryPropertyType_Small- and Mid-Sized Office  \\\n",
       "0                                                0   \n",
       "1                                                0   \n",
       "2                                                0   \n",
       "3                                                0   \n",
       "4                                                0   \n",
       "\n",
       "   PrimaryPropertyType_Supermarket / Grocery Store  \\\n",
       "0                                                0   \n",
       "1                                                0   \n",
       "2                                                0   \n",
       "3                                                0   \n",
       "4                                                0   \n",
       "\n",
       "   PrimaryPropertyType_University  PrimaryPropertyType_Warehouse  \\\n",
       "0                               0                              0   \n",
       "1                               0                              0   \n",
       "2                               0                              0   \n",
       "3                               0                              0   \n",
       "4                               0                              0   \n",
       "\n",
       "   PrimaryPropertyType_Worship Facility  \n",
       "0                                     0  \n",
       "1                                     0  \n",
       "2                                     0  \n",
       "3                                     0  \n",
       "4                                     0  \n",
       "\n",
       "[5 rows x 31 columns]"
      ]
     },
     "execution_count": 58,
     "metadata": {},
     "output_type": "execute_result"
    }
   ],
   "source": [
    "#les variables catégiriels sont CouncilDistrictCode, YearBuilt?, PrimaryPropertyType\n",
    "\n",
    "from sklearn.preprocessing import LabelEncoder\n",
    "\n",
    "data_4 = data_3.copy()\n",
    "# create a LabelEncoder object\n",
    "\n",
    "data_4 = pd.get_dummies(data_4, columns=['PrimaryPropertyType'])\n",
    "\n",
    "\n",
    "data_4.head()\n"
   ]
  },
  {
   "cell_type": "code",
   "execution_count": 59,
   "id": "ae4eac1a",
   "metadata": {},
   "outputs": [],
   "source": [
    "data_4.to_csv('data_4.csv')"
   ]
  },
  {
   "cell_type": "code",
   "execution_count": 81,
   "id": "75d1a331",
   "metadata": {},
   "outputs": [
    {
     "data": {
      "text/plain": [
       "CouncilDistrictCode                                  int64\n",
       "YearBuilt                                            int64\n",
       "NumberofFloors                                       int64\n",
       "ListOfAllPropertyUseTypes                           object\n",
       "ENERGYSTARScore                                    float64\n",
       "SiteEUI(kBtu/sf)                                   float64\n",
       "SourceEUI(kBtu/sf)                                 float64\n",
       "SteamUse(kBtu)                                     float64\n",
       "Electricity(kBtu)                                  float64\n",
       "NaturalGas(kBtu)                                   float64\n",
       "GHGEmissionsIntensity                              float64\n",
       "PrimaryPropertyType_Distribution Center              uint8\n",
       "PrimaryPropertyType_Hospital                         uint8\n",
       "PrimaryPropertyType_Hotel                            uint8\n",
       "PrimaryPropertyType_K-12 School                      uint8\n",
       "PrimaryPropertyType_Laboratory                       uint8\n",
       "PrimaryPropertyType_Large Office                     uint8\n",
       "PrimaryPropertyType_Low-Rise Multifamily             uint8\n",
       "PrimaryPropertyType_Medical Office                   uint8\n",
       "PrimaryPropertyType_Mixed Use Property               uint8\n",
       "PrimaryPropertyType_Other                            uint8\n",
       "PrimaryPropertyType_Refrigerated Warehouse           uint8\n",
       "PrimaryPropertyType_Residence Hall                   uint8\n",
       "PrimaryPropertyType_Restaurant                       uint8\n",
       "PrimaryPropertyType_Retail Store                     uint8\n",
       "PrimaryPropertyType_Self-Storage Facility            uint8\n",
       "PrimaryPropertyType_Senior Care Community            uint8\n",
       "PrimaryPropertyType_Small- and Mid-Sized Office      uint8\n",
       "PrimaryPropertyType_Supermarket / Grocery Store      uint8\n",
       "PrimaryPropertyType_University                       uint8\n",
       "PrimaryPropertyType_Warehouse                        uint8\n",
       "PrimaryPropertyType_Worship Facility                 uint8\n",
       "dtype: object"
      ]
     },
     "execution_count": 81,
     "metadata": {},
     "output_type": "execute_result"
    }
   ],
   "source": [
    "data_4.dtypes"
   ]
  },
  {
   "cell_type": "code",
   "execution_count": null,
   "id": "f4dd5eda",
   "metadata": {},
   "outputs": [],
   "source": []
  },
  {
   "cell_type": "code",
   "execution_count": null,
   "id": "8d64e834",
   "metadata": {},
   "outputs": [],
   "source": []
  },
  {
   "cell_type": "code",
   "execution_count": null,
   "id": "a324374e",
   "metadata": {},
   "outputs": [],
   "source": []
  },
  {
   "cell_type": "code",
   "execution_count": null,
   "id": "d7f31271",
   "metadata": {},
   "outputs": [],
   "source": []
  },
  {
   "cell_type": "code",
   "execution_count": null,
   "id": "59a16a8b",
   "metadata": {},
   "outputs": [],
   "source": [
    "\n",
    "# fit and transform the encoder on the categorical column\n",
    "data_4['PrimaryPropertyType_encoded'] = label_encoder.fit_transform(data_4['PrimaryPropertyType'])\n",
    "data_4['ListOfAllPropertyUseTypes_encoded'] = label_encoder.fit_transform(data_4['ListOfAllPropertyUseTypes'])\n",
    "\n",
    "data_4 = data_4.drop(['PrimaryPropertyType', 'ListOfAllPropertyUseTypes'], axis = 1)"
   ]
  },
  {
   "cell_type": "code",
   "execution_count": 126,
   "id": "9bffb2ab",
   "metadata": {},
   "outputs": [],
   "source": [
    "data_5 = data_4.copy()"
   ]
  },
  {
   "cell_type": "code",
   "execution_count": null,
   "id": "5b44fb75",
   "metadata": {},
   "outputs": [],
   "source": []
  },
  {
   "cell_type": "code",
   "execution_count": null,
   "id": "ee987638",
   "metadata": {},
   "outputs": [],
   "source": []
  }
 ],
 "metadata": {
  "kernelspec": {
   "display_name": "Python 3 (ipykernel)",
   "language": "python",
   "name": "python3"
  },
  "language_info": {
   "codemirror_mode": {
    "name": "ipython",
    "version": 3
   },
   "file_extension": ".py",
   "mimetype": "text/x-python",
   "name": "python",
   "nbconvert_exporter": "python",
   "pygments_lexer": "ipython3",
   "version": "3.9.13"
  }
 },
 "nbformat": 4,
 "nbformat_minor": 5
}
